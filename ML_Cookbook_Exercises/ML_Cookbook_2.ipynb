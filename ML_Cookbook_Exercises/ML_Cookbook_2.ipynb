{
  "nbformat": 4,
  "nbformat_minor": 0,
  "metadata": {
    "colab": {
      "provenance": []
    },
    "kernelspec": {
      "name": "python3",
      "display_name": "Python 3"
    },
    "language_info": {
      "name": "python"
    }
  },
  "cells": [
    {
      "cell_type": "markdown",
      "source": [
        "**Machine Learning practice problems from book Machine Learning with Python Cookbook by Kyle Gallatin and Chris Albon**"
      ],
      "metadata": {
        "id": "ESdVZT_bGPJa"
      }
    },
    {
      "cell_type": "markdown",
      "source": [
        "# Dimensionality Reduction using Feature Extraction\n",
        "\n",
        "how to reduce the dimensionality of our feature matrix\n",
        "by creating new features with (ideally) similar abilities to train quality models but\n",
        "with significantly fewer dimensions. This is called feature extraction"
      ],
      "metadata": {
        "id": "EDHDChT0GV_d"
      }
    },
    {
      "cell_type": "markdown",
      "source": [
        "## Reducing features using Princiapl Components"
      ],
      "metadata": {
        "id": "srav07AlHV0t"
      }
    },
    {
      "cell_type": "code",
      "source": [
        "from sklearn.preprocessing import StandardScaler\n",
        "from sklearn.decomposition import PCA\n",
        "from sklearn import datasets\n",
        "# Load the data\n",
        "digits = datasets.load_digits()\n",
        "\n",
        "# Standardize the feature matrix\n",
        "features = StandardScaler().fit_transform(digits.data)\n",
        "# n_components has two operations,depending on the argument provided.\n",
        "#If the argument is greater than 1, pca will return that many features.\n",
        "# Create a PCA that will retain 99% of variance\n",
        "pca = PCA(n_components=0.99, whiten=True)\n",
        "\n",
        "# PCA\n",
        "features_pca = pca.fit_transform(features)\n",
        "\n",
        "# Show results\n",
        "print(\"Original number of features:\", features.shape[1])\n",
        "print(\"Reduced number of features:\", features_pca.shape[1])"
      ],
      "metadata": {
        "colab": {
          "base_uri": "https://localhost:8080/"
        },
        "id": "JVfvP5yHICYO",
        "outputId": "d815f8a1-8a6a-40c9-8507-bbd2ec1c11be"
      },
      "execution_count": 1,
      "outputs": [
        {
          "output_type": "stream",
          "name": "stdout",
          "text": [
            "Original number of features: 64\n",
            "Reduced number of features: 54\n"
          ]
        }
      ]
    },
    {
      "cell_type": "markdown",
      "source": [
        "\n",
        "**Simple Analogy**:\n",
        "\n",
        "Imagine your data points, when plotted, form an ellipse.\n",
        "\n",
        "**PCA (whiten=False)** rotates this ellipse so its main axes are aligned with your coordinate axes. The shape is still an ellipse, potentially elongated.\n",
        "\n",
        "**PCA with whiten=True** does the rotation, AND then it stretches or compresses the ellipse along its new axes until it becomes a perfect circle (where variance is equal in all directions, i.e., variance is 1 along each component).\n",
        "\n",
        "Another parameter and argument is svd_solver=\"randomized\", which implements a stochastic\n",
        "algorithm to find the first principal components in often significantly less time.\n"
      ],
      "metadata": {
        "id": "AFRdE0MpJNns"
      }
    },
    {
      "cell_type": "markdown",
      "source": [
        "## Reducing Features when Data is Linearly Inseparable"
      ],
      "metadata": {
        "id": "XWvtVA-KJxxt"
      }
    },
    {
      "cell_type": "code",
      "source": [
        "from sklearn.decomposition import PCA, KernelPCA\n",
        "from sklearn.datasets import make_circles\n",
        "# Create linearly inseparable data\n",
        "features, _ = make_circles(n_samples=1000, random_state=1, noise=0.1, factor=0.1)\n",
        "# Apply kernel PCA with radius basis function (RBF) kernel\n",
        "kpca = KernelPCA(kernel=\"rbf\", gamma=15, n_components=1)\n",
        "features_kpca = kpca.fit_transform(features)\n",
        "print(\"Original number of features:\", features.shape[1])\n",
        "print(\"Reduced number of features:\", features_kpca.shape[1])"
      ],
      "metadata": {
        "colab": {
          "base_uri": "https://localhost:8080/"
        },
        "id": "Q6HHXgYLJ2wJ",
        "outputId": "a5cc86f3-9df2-4829-c4fa-b5d850ab3f02"
      },
      "execution_count": 2,
      "outputs": [
        {
          "output_type": "stream",
          "name": "stdout",
          "text": [
            "Original number of features: 2\n",
            "Reduced number of features: 1\n"
          ]
        }
      ]
    },
    {
      "cell_type": "markdown",
      "source": [
        "## Reducing Features by Maximizing Class Separability"
      ],
      "metadata": {
        "id": "fQrv75TVK6TS"
      }
    },
    {
      "cell_type": "markdown",
      "source": [
        "Linear Discriminant Analysis (LDA) is different. LDA is a supervised dimensionality reduction technique.\n",
        "\n",
        "Here's why LinearDiscriminantAnalysis is fitted with the target variable:\n",
        "\n",
        "LDA's Goal: LDA's primary goal is not just to find directions of maximum variance (like PCA). Instead, its goal is to find the linear combinations of features (the \"linear discriminants\") that best maximize the separation between the classes in the target variable, while minimizing the variance within each class.\n",
        "\n",
        "Knowing the Classes is Essential: To find the directions that maximize class separation, LDA must know which data points belong to which class during the fitting process. It needs the target variable to calculate things like:\n",
        "\n",
        "The mean of each feature for each class.\n",
        "The variance and covariance of features within each class.\n",
        "The overall means and variances.\n",
        "Using Class Information to Find Directions: LDA then uses these class-specific statistics to calculate the linear discriminants. The first discriminant (and often the most important one) is the direction that provides the greatest separation between the means of the classes relative to the variance within the classes. Without the target labels, LDA wouldn't know how to define or separate the classes, and it would just calculate directions based on overall variance, similar to PCA."
      ],
      "metadata": {
        "id": "SM44I-H2LhUl"
      }
    },
    {
      "cell_type": "code",
      "source": [
        "from sklearn import datasets\n",
        "from sklearn.discriminant_analysis import LinearDiscriminantAnalysis\n",
        "# Load Iris flower dataset:\n",
        "iris = datasets.load_iris()\n",
        "features = iris.data\n",
        "target = iris.target\n",
        "# Create and run an LDA, then use it to transform the features\n",
        "# n-component is number of features we want returned\n",
        "lda = LinearDiscriminantAnalysis(n_components=1)\n",
        "features_lda = lda.fit(features, target).transform(features)\n",
        "# Print the number of features\n",
        "print(\"Original number of features:\", features.shape[1])\n",
        "print(\"Reduced number of features:\", features_lda.shape[1])"
      ],
      "metadata": {
        "colab": {
          "base_uri": "https://localhost:8080/"
        },
        "id": "mVNiSfo9K7ak",
        "outputId": "9e8d5481-6ca3-4ad1-f6ed-1dbf77bb28ad"
      },
      "execution_count": 3,
      "outputs": [
        {
          "output_type": "stream",
          "name": "stdout",
          "text": [
            "Original number of features: 4\n",
            "Reduced number of features: 1\n"
          ]
        }
      ]
    },
    {
      "cell_type": "code",
      "source": [
        "lda.explained_variance_ratio_"
      ],
      "metadata": {
        "colab": {
          "base_uri": "https://localhost:8080/"
        },
        "id": "JNjbwK_dLlFD",
        "outputId": "9b682182-47c7-43e8-cdcc-906cbec17442"
      },
      "execution_count": 4,
      "outputs": [
        {
          "output_type": "execute_result",
          "data": {
            "text/plain": [
              "array([0.9912126])"
            ]
          },
          "metadata": {},
          "execution_count": 4
        }
      ]
    },
    {
      "cell_type": "code",
      "source": [
        "\"\"\"\n",
        "Specifically, we can run LinearDiscriminantAnalysis with n_components set to\n",
        "None to return the ratio of variance explained by every component feature, then\n",
        "calculate how many components are required to get above some threshold of variance\n",
        "explained (often 0.95 or 0.99):\n",
        "\"\"\"\n",
        "# Create and run LDA\n",
        "lda = LinearDiscriminantAnalysis(n_components=None)\n",
        "features_lda = lda.fit(features, target)\n",
        "# Create array of explained variance ratios\n",
        "lda_var_ratios = lda.explained_variance_ratio_\n",
        "# Create function\n",
        "def select_n_components(var_ratio, goal_var: float) -> int:\n",
        "  # Set initial variance explained so far\n",
        "  total_variance = 0.0\n",
        "  # Set initial number of features\n",
        "  n_components = 0\n",
        "  # For the explained variance of each feature:\n",
        "  for explained_variance in var_ratio:\n",
        "    # Add the explained variance to the total\n",
        "    total_variance += explained_variance\n",
        "    # Add one to the number of components\n",
        "    n_components += 1\n",
        "    # If we reach our goal level of explained variance\n",
        "    if total_variance >= goal_var:\n",
        "        # End the loop\n",
        "        break\n",
        "        # Return the number of components\n",
        "  return n_components\n",
        "# Run function\n",
        "select_n_components(lda_var_ratios, 0.95)"
      ],
      "metadata": {
        "colab": {
          "base_uri": "https://localhost:8080/"
        },
        "id": "OK3vGm7gMJ29",
        "outputId": "cbab4094-5920-43c0-ce7e-797647973aa9"
      },
      "execution_count": 5,
      "outputs": [
        {
          "output_type": "execute_result",
          "data": {
            "text/plain": [
              "1"
            ]
          },
          "metadata": {},
          "execution_count": 5
        }
      ]
    },
    {
      "cell_type": "markdown",
      "source": [
        "## Reducing Features Using Matrix Factorization"
      ],
      "metadata": {
        "id": "z0UJwS_gMhRe"
      }
    },
    {
      "cell_type": "markdown",
      "source": [
        "NMF is an unsupervised technique for linear dimensionality reduction that factorizes\n",
        "(i.e., breaks up into multiple matrices whose product approximates the original\n",
        "matrix) the feature matrix into matrices representing the latent relationship between\n",
        "observations and their features. Intuitively, NMF can reduce dimensionality because\n",
        "in matrix multiplication, the two factors (matrices being multiplied) can have significantly\n",
        "fewer dimensions than the product matrix. Formally, given a desired number\n",
        "of returned features, r, NMF factorizes our feature matrix such that:\n",
        "\n",
        "V ≈ WH\n",
        "\n",
        "where V is our n × d feature matrix\n",
        "(i.e., d features, n observations),\n",
        "\n",
        " W is an n × r matrix, and\n",
        "\n",
        " H is an r × d matrix.\n",
        "\n",
        "By adjusting the value of r we can set the amount of\n",
        "dimensionality reduction desired.\n",
        "One major requirement of NMF is that, as the name implies, the feature matrix\n",
        "cannot contain negative values. Additionally, unlike PCA and other techniques we\n",
        "have examined, NMF does not provide the explained variance of the outputted\n",
        "features. Thus, the best way for us to find the optimum value of n_components is by\n",
        "trying a range of values to find the one that produces the best result"
      ],
      "metadata": {
        "id": "kxQPfxePM1tw"
      }
    },
    {
      "cell_type": "code",
      "source": [
        "from sklearn.decomposition import NMF\n",
        "from sklearn import datasets\n",
        "# Load the data\n",
        "digits = datasets.load_digits()\n",
        "# Load feature matrix\n",
        "features = digits.data\n",
        "# Create, fit, and apply NMF\n",
        "nmf = NMF(n_components=10, random_state=4)\n",
        "features_nmf = nmf.fit_transform(features)\n",
        "# Show results\n",
        "print(\"Original number of features:\", features.shape[1])\n",
        "print(\"Reduced number of features:\", features_nmf.shape[1])"
      ],
      "metadata": {
        "colab": {
          "base_uri": "https://localhost:8080/"
        },
        "id": "lPUGbr8sMmcF",
        "outputId": "01a391d4-b3a5-4c48-cb63-2ecf85278507"
      },
      "execution_count": 6,
      "outputs": [
        {
          "output_type": "stream",
          "name": "stdout",
          "text": [
            "Original number of features: 64\n",
            "Reduced number of features: 10\n"
          ]
        }
      ]
    },
    {
      "cell_type": "markdown",
      "source": [
        "## Reducing Features on Sparse Data"
      ],
      "metadata": {
        "id": "EsEendqXNWAG"
      }
    },
    {
      "cell_type": "code",
      "source": [
        "# Load libraries\n",
        "from sklearn.preprocessing import StandardScaler\n",
        "from sklearn.decomposition import TruncatedSVD\n",
        "from scipy.sparse import csr_matrix\n",
        "from sklearn import datasets\n",
        "import numpy as np\n",
        "# Load the data\n",
        "digits = datasets.load_digits()\n",
        "# Standardize feature matrix\n",
        "features = StandardScaler().fit_transform(digits.data)\n",
        "# Make sparse matrix\n",
        "features_sparse = csr_matrix(features)\n",
        "# Create a TSVD\n",
        "tsvd = TruncatedSVD(n_components=10)\n",
        "# Conduct TSVD on sparse matrix\n",
        "features_sparse_tsvd = tsvd.fit(features_sparse).transform(features_sparse)\n",
        "# Show results\n",
        "print(\"Original number of features:\", features_sparse.shape[1])\n",
        "print(\"Reduced number of features:\", features_sparse_tsvd.shape[1])"
      ],
      "metadata": {
        "colab": {
          "base_uri": "https://localhost:8080/"
        },
        "id": "ImBUZSKRNa27",
        "outputId": "7d1586ef-2cc8-48b0-f955-c3727d1cf815"
      },
      "execution_count": 7,
      "outputs": [
        {
          "output_type": "stream",
          "name": "stdout",
          "text": [
            "Original number of features: 64\n",
            "Reduced number of features: 10\n"
          ]
        }
      ]
    },
    {
      "cell_type": "code",
      "source": [
        "# Sum of first three components' explained variance ratios\n",
        "tsvd.explained_variance_ratio_[0:3].sum()"
      ],
      "metadata": {
        "colab": {
          "base_uri": "https://localhost:8080/"
        },
        "id": "l9mGe3bBNvxW",
        "outputId": "9f1d226d-8aaf-47ac-a36c-7329de36a124"
      },
      "execution_count": 8,
      "outputs": [
        {
          "output_type": "execute_result",
          "data": {
            "text/plain": [
              "np.float64(0.3003938539000117)"
            ]
          },
          "metadata": {},
          "execution_count": 8
        }
      ]
    },
    {
      "cell_type": "code",
      "source": [
        "# Create and run a TSVD with one less than number of features\n",
        "tsvd = TruncatedSVD(n_components=features_sparse.shape[1]-1)\n",
        "features_tsvd = tsvd.fit(features)\n",
        "\n",
        "# List of explained variances\n",
        "tsvd_var_ratios = tsvd.explained_variance_ratio_\n",
        "\n",
        "# Create a function\n",
        "def select_n_components(var_ratio, goal_var):\n",
        "\n",
        "  # Set initial variance explained so far\n",
        "  total_variance = 0.0\n",
        "  # Set initial number of features\n",
        "  n_components = 0\n",
        "  # For the explained variance of each feature:\n",
        "  for explained_variance in var_ratio:\n",
        "    # Add the explained variance to the total\n",
        "    total_variance += explained_variance\n",
        "    # Add one to the number of components\n",
        "    n_components += 1\n",
        "    # If we reach our goal level of explained variance\n",
        "    if total_variance >= goal_var:\n",
        "        # End the loop\n",
        "        break\n",
        "  # Return the number of components\n",
        "  return n_components\n",
        "# Run function\n",
        "select_n_components(tsvd_var_ratios, 0.95)"
      ],
      "metadata": {
        "colab": {
          "base_uri": "https://localhost:8080/"
        },
        "id": "c8djHrL7NyH4",
        "outputId": "6020936d-51b4-4a88-c265-88cc21c6561e"
      },
      "execution_count": 9,
      "outputs": [
        {
          "output_type": "execute_result",
          "data": {
            "text/plain": [
              "40"
            ]
          },
          "metadata": {},
          "execution_count": 9
        }
      ]
    },
    {
      "cell_type": "markdown",
      "source": [
        "## Dimensionality Reduction using Feature Selection\n",
        "\n",
        "we will cover an alternative approach: selecting high-quality, informative features and\n",
        "dropping less useful features. This is called feature selection\n",
        "\n",
        "There are three types of feature selection methods: filter, wrapper, and embedded.\n",
        "\n",
        "**Filter methods** select the best features by examining their statistical properties. Methods where we explicitly set a threshold for a statistic or manually select the number of features we want to keep\n",
        "\n",
        "**Wrapper methods** are often the most effective, as they\n",
        "find the best result through actual experimentation as opposed to naive assumptions.\n",
        "\n",
        "Finally, **embedded methods** select the best feature subset as part of, as an extension of,\n",
        "a learning algorithm’s training process."
      ],
      "metadata": {
        "id": "k_Mwc8zzOa3h"
      }
    },
    {
      "cell_type": "markdown",
      "source": [
        "### Thresholding Numerical Feature Variance\n",
        "\n",
        "VT first calculates the variance of each feature:\n",
        "where x is the feature vector, xi is an individual feature value, and μ is that feature’s\n",
        "mean value. Next, it drops all features whose variance does not meet that threshold.\n",
        "\n",
        "First, the variance is not centered;\n",
        "that is, it is in the squared unit of the feature itself. Therefore, VT will not work when feature sets contain different units (e.g., one feature is in years while another is in dollars).\n",
        "\n",
        "Second, the variance threshold is selected manually, so we have to use\n",
        "our own judgment for a good value to select"
      ],
      "metadata": {
        "id": "r1nbSfvsPs3-"
      }
    },
    {
      "cell_type": "code",
      "source": [
        "\n",
        "\n",
        "from sklearn import datasets\n",
        "from sklearn.feature_selection import VarianceThreshold\n",
        "# Import some data to play with\n",
        "iris = datasets.load_iris()\n",
        "# Create features and target\n",
        "features = iris.data\n",
        "target = iris.target\n",
        "# Create thresholder\n",
        "thresholder = VarianceThreshold(threshold=.5)\n",
        "# Create high variance feature matrix\n",
        "features_high_variance = thresholder.fit_transform(features)\n",
        "# View high variance feature matrix\n",
        "features_high_variance[0:3]"
      ],
      "metadata": {
        "colab": {
          "base_uri": "https://localhost:8080/"
        },
        "id": "qS-noaW8Oevo",
        "outputId": "676676e4-09e6-492b-94f6-15fb9fa0c44b"
      },
      "execution_count": 10,
      "outputs": [
        {
          "output_type": "execute_result",
          "data": {
            "text/plain": [
              "array([[5.1, 1.4, 0.2],\n",
              "       [4.9, 1.4, 0.2],\n",
              "       [4.7, 1.3, 0.2]])"
            ]
          },
          "metadata": {},
          "execution_count": 10
        }
      ]
    },
    {
      "cell_type": "code",
      "source": [
        "# View variances\n",
        "thresholder.fit(features).variances_"
      ],
      "metadata": {
        "colab": {
          "base_uri": "https://localhost:8080/"
        },
        "id": "O-gbG_klQWcW",
        "outputId": "b2cc0977-a9e6-459d-88c5-2fd00f2c929b"
      },
      "execution_count": 11,
      "outputs": [
        {
          "output_type": "execute_result",
          "data": {
            "text/plain": [
              "array([0.68112222, 0.18871289, 3.09550267, 0.57713289])"
            ]
          },
          "metadata": {},
          "execution_count": 11
        }
      ]
    },
    {
      "cell_type": "code",
      "source": [
        "\"\"\"\n",
        "Finally, if the features have been standardized (to mean zero and unit variance), then\n",
        "for obvious reasons VT will not work correctly:\n",
        "\"\"\"\n",
        "# Load library\n",
        "from sklearn.preprocessing import StandardScaler\n",
        "# Standardize feature matrix\n",
        "scaler = StandardScaler()\n",
        "features_std = scaler.fit_transform(features)\n",
        "# Caculate variance of each feature\n",
        "selector = VarianceThreshold()\n",
        "selector.fit(features_std).variances_\n",
        "\n"
      ],
      "metadata": {
        "colab": {
          "base_uri": "https://localhost:8080/"
        },
        "id": "CQkGy87FQZzt",
        "outputId": "81dba7ff-431c-4418-ae9f-105316f6663b"
      },
      "execution_count": 12,
      "outputs": [
        {
          "output_type": "execute_result",
          "data": {
            "text/plain": [
              "array([1., 1., 1., 1.])"
            ]
          },
          "metadata": {},
          "execution_count": 12
        }
      ]
    },
    {
      "cell_type": "markdown",
      "source": [
        "### Thresholding Binary Feature Variance\n",
        "\n",
        "As with numerical features, one strategy for selecting highly informative categorical\n",
        "features and filtering out less informative ones is to examine their variances. In\n",
        "binary features (i.e., Bernoulli random variables), variance is calculated as:\n",
        "Var(x) = p(1-p)\n",
        "\n",
        "where p is the proportion of observations of class 1. Therefore, by setting p, we can\n",
        "remove features where the vast majority of observations are one class."
      ],
      "metadata": {
        "id": "hR1jhGEkQiDQ"
      }
    },
    {
      "cell_type": "code",
      "source": [
        "# Load library\n",
        "from sklearn.feature_selection import VarianceThreshold\n",
        "# Create feature matrix with:\n",
        "# Feature 0: 80% class 0\n",
        "# Feature 1: 80% class 1\n",
        "# Feature 2: 60% class 0, 40% class 1\n",
        "features = [[0, 1, 0],\n",
        "            [0, 1, 1],\n",
        "            [0, 1, 0],\n",
        "            [0, 1, 1],\n",
        "            [1, 0, 0]]\n",
        "# Run threshold by variance\n",
        "thresholder = VarianceThreshold(threshold=(.75 * (1 - .75)))\n",
        "thresholder.fit_transform(features)"
      ],
      "metadata": {
        "colab": {
          "base_uri": "https://localhost:8080/"
        },
        "id": "xZx9vdLPQkRn",
        "outputId": "4ba3a6bb-636a-4c73-e80a-f629fc9fa97c"
      },
      "execution_count": 13,
      "outputs": [
        {
          "output_type": "execute_result",
          "data": {
            "text/plain": [
              "array([[0],\n",
              "       [1],\n",
              "       [0],\n",
              "       [1],\n",
              "       [0]])"
            ]
          },
          "metadata": {},
          "execution_count": 13
        }
      ]
    },
    {
      "cell_type": "markdown",
      "source": [
        "### Handling Highly Correlated Features\n",
        "\n",
        "One problem we often run into in machine learning is highly correlated features. If\n",
        "two features are highly correlated, then the information they contain is very similar,\n",
        "and it is likely redundant to include both features. In the case of simple models like\n",
        "linear regression, failing to remove such features violates the assumptions of linear\n",
        "regression and can result in an artificially inflated R-squared value. The solution\n",
        "to highly correlated features is simple: remove one of them from the feature set.\n",
        "Removing highly correlated features by setting a correlation threshold is another\n",
        "example of filtering."
      ],
      "metadata": {
        "id": "6DGGe_wWQ80T"
      }
    },
    {
      "cell_type": "code",
      "source": [
        "# Load libraries\n",
        "import pandas as pd\n",
        "import numpy as np\n",
        "# Create feature matrix with two highly correlated features\n",
        "features = np.array([[1, 1, 1],\n",
        "                      [2, 2, 0],\n",
        "                      [3, 3, 1],\n",
        "                      [4, 4, 0],\n",
        "                      [5, 5, 1],\n",
        "                      [6, 6, 0],\n",
        "                      [7, 7, 1],\n",
        "                      [8, 7, 0],\n",
        "                      [9, 7, 1]])\n",
        "# Convert feature matrix into DataFrame\n",
        "dataframe = pd.DataFrame(features)\n",
        "# Create correlation matrix\n",
        "corr_matrix = dataframe.corr().abs()\n",
        "# Select upper triangle of correlation matrix\n",
        "# np.triu is a NumPy function that returns the upper triangle of an array.\n",
        "#It creates a copy of the input array and sets all elements below the k-th diagonal to zero.\n",
        "upper = corr_matrix.where(np.triu(np.ones(corr_matrix.shape),k=1).astype(bool))\n",
        "# Find index of feature columns with correlation greater than 0.95\n",
        "to_drop = [column for column in upper.columns if any(upper[column] > 0.95)]\n",
        "# Drop features\n",
        "dataframe.drop(dataframe.columns[to_drop], axis=1).head(3)"
      ],
      "metadata": {
        "colab": {
          "base_uri": "https://localhost:8080/",
          "height": 143
        },
        "id": "PpKBlt-UQ_GF",
        "outputId": "ef22db25-c79f-4d2d-8e3b-1b07bf637326"
      },
      "execution_count": 14,
      "outputs": [
        {
          "output_type": "execute_result",
          "data": {
            "text/plain": [
              "   0  2\n",
              "0  1  1\n",
              "1  2  0\n",
              "2  3  1"
            ],
            "text/html": [
              "\n",
              "  <div id=\"df-289eece3-e6f3-44f3-9199-77d65b95ce8f\" class=\"colab-df-container\">\n",
              "    <div>\n",
              "<style scoped>\n",
              "    .dataframe tbody tr th:only-of-type {\n",
              "        vertical-align: middle;\n",
              "    }\n",
              "\n",
              "    .dataframe tbody tr th {\n",
              "        vertical-align: top;\n",
              "    }\n",
              "\n",
              "    .dataframe thead th {\n",
              "        text-align: right;\n",
              "    }\n",
              "</style>\n",
              "<table border=\"1\" class=\"dataframe\">\n",
              "  <thead>\n",
              "    <tr style=\"text-align: right;\">\n",
              "      <th></th>\n",
              "      <th>0</th>\n",
              "      <th>2</th>\n",
              "    </tr>\n",
              "  </thead>\n",
              "  <tbody>\n",
              "    <tr>\n",
              "      <th>0</th>\n",
              "      <td>1</td>\n",
              "      <td>1</td>\n",
              "    </tr>\n",
              "    <tr>\n",
              "      <th>1</th>\n",
              "      <td>2</td>\n",
              "      <td>0</td>\n",
              "    </tr>\n",
              "    <tr>\n",
              "      <th>2</th>\n",
              "      <td>3</td>\n",
              "      <td>1</td>\n",
              "    </tr>\n",
              "  </tbody>\n",
              "</table>\n",
              "</div>\n",
              "    <div class=\"colab-df-buttons\">\n",
              "\n",
              "  <div class=\"colab-df-container\">\n",
              "    <button class=\"colab-df-convert\" onclick=\"convertToInteractive('df-289eece3-e6f3-44f3-9199-77d65b95ce8f')\"\n",
              "            title=\"Convert this dataframe to an interactive table.\"\n",
              "            style=\"display:none;\">\n",
              "\n",
              "  <svg xmlns=\"http://www.w3.org/2000/svg\" height=\"24px\" viewBox=\"0 -960 960 960\">\n",
              "    <path d=\"M120-120v-720h720v720H120Zm60-500h600v-160H180v160Zm220 220h160v-160H400v160Zm0 220h160v-160H400v160ZM180-400h160v-160H180v160Zm440 0h160v-160H620v160ZM180-180h160v-160H180v160Zm440 0h160v-160H620v160Z\"/>\n",
              "  </svg>\n",
              "    </button>\n",
              "\n",
              "  <style>\n",
              "    .colab-df-container {\n",
              "      display:flex;\n",
              "      gap: 12px;\n",
              "    }\n",
              "\n",
              "    .colab-df-convert {\n",
              "      background-color: #E8F0FE;\n",
              "      border: none;\n",
              "      border-radius: 50%;\n",
              "      cursor: pointer;\n",
              "      display: none;\n",
              "      fill: #1967D2;\n",
              "      height: 32px;\n",
              "      padding: 0 0 0 0;\n",
              "      width: 32px;\n",
              "    }\n",
              "\n",
              "    .colab-df-convert:hover {\n",
              "      background-color: #E2EBFA;\n",
              "      box-shadow: 0px 1px 2px rgba(60, 64, 67, 0.3), 0px 1px 3px 1px rgba(60, 64, 67, 0.15);\n",
              "      fill: #174EA6;\n",
              "    }\n",
              "\n",
              "    .colab-df-buttons div {\n",
              "      margin-bottom: 4px;\n",
              "    }\n",
              "\n",
              "    [theme=dark] .colab-df-convert {\n",
              "      background-color: #3B4455;\n",
              "      fill: #D2E3FC;\n",
              "    }\n",
              "\n",
              "    [theme=dark] .colab-df-convert:hover {\n",
              "      background-color: #434B5C;\n",
              "      box-shadow: 0px 1px 3px 1px rgba(0, 0, 0, 0.15);\n",
              "      filter: drop-shadow(0px 1px 2px rgba(0, 0, 0, 0.3));\n",
              "      fill: #FFFFFF;\n",
              "    }\n",
              "  </style>\n",
              "\n",
              "    <script>\n",
              "      const buttonEl =\n",
              "        document.querySelector('#df-289eece3-e6f3-44f3-9199-77d65b95ce8f button.colab-df-convert');\n",
              "      buttonEl.style.display =\n",
              "        google.colab.kernel.accessAllowed ? 'block' : 'none';\n",
              "\n",
              "      async function convertToInteractive(key) {\n",
              "        const element = document.querySelector('#df-289eece3-e6f3-44f3-9199-77d65b95ce8f');\n",
              "        const dataTable =\n",
              "          await google.colab.kernel.invokeFunction('convertToInteractive',\n",
              "                                                    [key], {});\n",
              "        if (!dataTable) return;\n",
              "\n",
              "        const docLinkHtml = 'Like what you see? Visit the ' +\n",
              "          '<a target=\"_blank\" href=https://colab.research.google.com/notebooks/data_table.ipynb>data table notebook</a>'\n",
              "          + ' to learn more about interactive tables.';\n",
              "        element.innerHTML = '';\n",
              "        dataTable['output_type'] = 'display_data';\n",
              "        await google.colab.output.renderOutput(dataTable, element);\n",
              "        const docLink = document.createElement('div');\n",
              "        docLink.innerHTML = docLinkHtml;\n",
              "        element.appendChild(docLink);\n",
              "      }\n",
              "    </script>\n",
              "  </div>\n",
              "\n",
              "\n",
              "    <div id=\"df-fde1805b-a54b-40eb-84cc-546fcce14296\">\n",
              "      <button class=\"colab-df-quickchart\" onclick=\"quickchart('df-fde1805b-a54b-40eb-84cc-546fcce14296')\"\n",
              "                title=\"Suggest charts\"\n",
              "                style=\"display:none;\">\n",
              "\n",
              "<svg xmlns=\"http://www.w3.org/2000/svg\" height=\"24px\"viewBox=\"0 0 24 24\"\n",
              "     width=\"24px\">\n",
              "    <g>\n",
              "        <path d=\"M19 3H5c-1.1 0-2 .9-2 2v14c0 1.1.9 2 2 2h14c1.1 0 2-.9 2-2V5c0-1.1-.9-2-2-2zM9 17H7v-7h2v7zm4 0h-2V7h2v10zm4 0h-2v-4h2v4z\"/>\n",
              "    </g>\n",
              "</svg>\n",
              "      </button>\n",
              "\n",
              "<style>\n",
              "  .colab-df-quickchart {\n",
              "      --bg-color: #E8F0FE;\n",
              "      --fill-color: #1967D2;\n",
              "      --hover-bg-color: #E2EBFA;\n",
              "      --hover-fill-color: #174EA6;\n",
              "      --disabled-fill-color: #AAA;\n",
              "      --disabled-bg-color: #DDD;\n",
              "  }\n",
              "\n",
              "  [theme=dark] .colab-df-quickchart {\n",
              "      --bg-color: #3B4455;\n",
              "      --fill-color: #D2E3FC;\n",
              "      --hover-bg-color: #434B5C;\n",
              "      --hover-fill-color: #FFFFFF;\n",
              "      --disabled-bg-color: #3B4455;\n",
              "      --disabled-fill-color: #666;\n",
              "  }\n",
              "\n",
              "  .colab-df-quickchart {\n",
              "    background-color: var(--bg-color);\n",
              "    border: none;\n",
              "    border-radius: 50%;\n",
              "    cursor: pointer;\n",
              "    display: none;\n",
              "    fill: var(--fill-color);\n",
              "    height: 32px;\n",
              "    padding: 0;\n",
              "    width: 32px;\n",
              "  }\n",
              "\n",
              "  .colab-df-quickchart:hover {\n",
              "    background-color: var(--hover-bg-color);\n",
              "    box-shadow: 0 1px 2px rgba(60, 64, 67, 0.3), 0 1px 3px 1px rgba(60, 64, 67, 0.15);\n",
              "    fill: var(--button-hover-fill-color);\n",
              "  }\n",
              "\n",
              "  .colab-df-quickchart-complete:disabled,\n",
              "  .colab-df-quickchart-complete:disabled:hover {\n",
              "    background-color: var(--disabled-bg-color);\n",
              "    fill: var(--disabled-fill-color);\n",
              "    box-shadow: none;\n",
              "  }\n",
              "\n",
              "  .colab-df-spinner {\n",
              "    border: 2px solid var(--fill-color);\n",
              "    border-color: transparent;\n",
              "    border-bottom-color: var(--fill-color);\n",
              "    animation:\n",
              "      spin 1s steps(1) infinite;\n",
              "  }\n",
              "\n",
              "  @keyframes spin {\n",
              "    0% {\n",
              "      border-color: transparent;\n",
              "      border-bottom-color: var(--fill-color);\n",
              "      border-left-color: var(--fill-color);\n",
              "    }\n",
              "    20% {\n",
              "      border-color: transparent;\n",
              "      border-left-color: var(--fill-color);\n",
              "      border-top-color: var(--fill-color);\n",
              "    }\n",
              "    30% {\n",
              "      border-color: transparent;\n",
              "      border-left-color: var(--fill-color);\n",
              "      border-top-color: var(--fill-color);\n",
              "      border-right-color: var(--fill-color);\n",
              "    }\n",
              "    40% {\n",
              "      border-color: transparent;\n",
              "      border-right-color: var(--fill-color);\n",
              "      border-top-color: var(--fill-color);\n",
              "    }\n",
              "    60% {\n",
              "      border-color: transparent;\n",
              "      border-right-color: var(--fill-color);\n",
              "    }\n",
              "    80% {\n",
              "      border-color: transparent;\n",
              "      border-right-color: var(--fill-color);\n",
              "      border-bottom-color: var(--fill-color);\n",
              "    }\n",
              "    90% {\n",
              "      border-color: transparent;\n",
              "      border-bottom-color: var(--fill-color);\n",
              "    }\n",
              "  }\n",
              "</style>\n",
              "\n",
              "      <script>\n",
              "        async function quickchart(key) {\n",
              "          const quickchartButtonEl =\n",
              "            document.querySelector('#' + key + ' button');\n",
              "          quickchartButtonEl.disabled = true;  // To prevent multiple clicks.\n",
              "          quickchartButtonEl.classList.add('colab-df-spinner');\n",
              "          try {\n",
              "            const charts = await google.colab.kernel.invokeFunction(\n",
              "                'suggestCharts', [key], {});\n",
              "          } catch (error) {\n",
              "            console.error('Error during call to suggestCharts:', error);\n",
              "          }\n",
              "          quickchartButtonEl.classList.remove('colab-df-spinner');\n",
              "          quickchartButtonEl.classList.add('colab-df-quickchart-complete');\n",
              "        }\n",
              "        (() => {\n",
              "          let quickchartButtonEl =\n",
              "            document.querySelector('#df-fde1805b-a54b-40eb-84cc-546fcce14296 button');\n",
              "          quickchartButtonEl.style.display =\n",
              "            google.colab.kernel.accessAllowed ? 'block' : 'none';\n",
              "        })();\n",
              "      </script>\n",
              "    </div>\n",
              "\n",
              "    </div>\n",
              "  </div>\n"
            ],
            "application/vnd.google.colaboratory.intrinsic+json": {
              "type": "dataframe",
              "summary": "{\n  \"name\": \"dataframe\",\n  \"rows\": 3,\n  \"fields\": [\n    {\n      \"column\": 0,\n      \"properties\": {\n        \"dtype\": \"number\",\n        \"std\": 1,\n        \"min\": 1,\n        \"max\": 3,\n        \"num_unique_values\": 3,\n        \"samples\": [\n          1,\n          2,\n          3\n        ],\n        \"semantic_type\": \"\",\n        \"description\": \"\"\n      }\n    },\n    {\n      \"column\": 2,\n      \"properties\": {\n        \"dtype\": \"number\",\n        \"std\": 0,\n        \"min\": 0,\n        \"max\": 1,\n        \"num_unique_values\": 2,\n        \"samples\": [\n          0,\n          1\n        ],\n        \"semantic_type\": \"\",\n        \"description\": \"\"\n      }\n    }\n  ]\n}"
            }
          },
          "metadata": {},
          "execution_count": 14
        }
      ]
    },
    {
      "cell_type": "code",
      "source": [
        "# Correlation matrix\n",
        "dataframe.corr()"
      ],
      "metadata": {
        "colab": {
          "base_uri": "https://localhost:8080/",
          "height": 143
        },
        "id": "WNmzGclDRkOh",
        "outputId": "172a0b4b-0763-467e-8467-ec86e3d61743"
      },
      "execution_count": 15,
      "outputs": [
        {
          "output_type": "execute_result",
          "data": {
            "text/plain": [
              "          0         1         2\n",
              "0  1.000000  0.976103  0.000000\n",
              "1  0.976103  1.000000 -0.034503\n",
              "2  0.000000 -0.034503  1.000000"
            ],
            "text/html": [
              "\n",
              "  <div id=\"df-b45e5e4b-79d9-422d-a526-ede513f10646\" class=\"colab-df-container\">\n",
              "    <div>\n",
              "<style scoped>\n",
              "    .dataframe tbody tr th:only-of-type {\n",
              "        vertical-align: middle;\n",
              "    }\n",
              "\n",
              "    .dataframe tbody tr th {\n",
              "        vertical-align: top;\n",
              "    }\n",
              "\n",
              "    .dataframe thead th {\n",
              "        text-align: right;\n",
              "    }\n",
              "</style>\n",
              "<table border=\"1\" class=\"dataframe\">\n",
              "  <thead>\n",
              "    <tr style=\"text-align: right;\">\n",
              "      <th></th>\n",
              "      <th>0</th>\n",
              "      <th>1</th>\n",
              "      <th>2</th>\n",
              "    </tr>\n",
              "  </thead>\n",
              "  <tbody>\n",
              "    <tr>\n",
              "      <th>0</th>\n",
              "      <td>1.000000</td>\n",
              "      <td>0.976103</td>\n",
              "      <td>0.000000</td>\n",
              "    </tr>\n",
              "    <tr>\n",
              "      <th>1</th>\n",
              "      <td>0.976103</td>\n",
              "      <td>1.000000</td>\n",
              "      <td>-0.034503</td>\n",
              "    </tr>\n",
              "    <tr>\n",
              "      <th>2</th>\n",
              "      <td>0.000000</td>\n",
              "      <td>-0.034503</td>\n",
              "      <td>1.000000</td>\n",
              "    </tr>\n",
              "  </tbody>\n",
              "</table>\n",
              "</div>\n",
              "    <div class=\"colab-df-buttons\">\n",
              "\n",
              "  <div class=\"colab-df-container\">\n",
              "    <button class=\"colab-df-convert\" onclick=\"convertToInteractive('df-b45e5e4b-79d9-422d-a526-ede513f10646')\"\n",
              "            title=\"Convert this dataframe to an interactive table.\"\n",
              "            style=\"display:none;\">\n",
              "\n",
              "  <svg xmlns=\"http://www.w3.org/2000/svg\" height=\"24px\" viewBox=\"0 -960 960 960\">\n",
              "    <path d=\"M120-120v-720h720v720H120Zm60-500h600v-160H180v160Zm220 220h160v-160H400v160Zm0 220h160v-160H400v160ZM180-400h160v-160H180v160Zm440 0h160v-160H620v160ZM180-180h160v-160H180v160Zm440 0h160v-160H620v160Z\"/>\n",
              "  </svg>\n",
              "    </button>\n",
              "\n",
              "  <style>\n",
              "    .colab-df-container {\n",
              "      display:flex;\n",
              "      gap: 12px;\n",
              "    }\n",
              "\n",
              "    .colab-df-convert {\n",
              "      background-color: #E8F0FE;\n",
              "      border: none;\n",
              "      border-radius: 50%;\n",
              "      cursor: pointer;\n",
              "      display: none;\n",
              "      fill: #1967D2;\n",
              "      height: 32px;\n",
              "      padding: 0 0 0 0;\n",
              "      width: 32px;\n",
              "    }\n",
              "\n",
              "    .colab-df-convert:hover {\n",
              "      background-color: #E2EBFA;\n",
              "      box-shadow: 0px 1px 2px rgba(60, 64, 67, 0.3), 0px 1px 3px 1px rgba(60, 64, 67, 0.15);\n",
              "      fill: #174EA6;\n",
              "    }\n",
              "\n",
              "    .colab-df-buttons div {\n",
              "      margin-bottom: 4px;\n",
              "    }\n",
              "\n",
              "    [theme=dark] .colab-df-convert {\n",
              "      background-color: #3B4455;\n",
              "      fill: #D2E3FC;\n",
              "    }\n",
              "\n",
              "    [theme=dark] .colab-df-convert:hover {\n",
              "      background-color: #434B5C;\n",
              "      box-shadow: 0px 1px 3px 1px rgba(0, 0, 0, 0.15);\n",
              "      filter: drop-shadow(0px 1px 2px rgba(0, 0, 0, 0.3));\n",
              "      fill: #FFFFFF;\n",
              "    }\n",
              "  </style>\n",
              "\n",
              "    <script>\n",
              "      const buttonEl =\n",
              "        document.querySelector('#df-b45e5e4b-79d9-422d-a526-ede513f10646 button.colab-df-convert');\n",
              "      buttonEl.style.display =\n",
              "        google.colab.kernel.accessAllowed ? 'block' : 'none';\n",
              "\n",
              "      async function convertToInteractive(key) {\n",
              "        const element = document.querySelector('#df-b45e5e4b-79d9-422d-a526-ede513f10646');\n",
              "        const dataTable =\n",
              "          await google.colab.kernel.invokeFunction('convertToInteractive',\n",
              "                                                    [key], {});\n",
              "        if (!dataTable) return;\n",
              "\n",
              "        const docLinkHtml = 'Like what you see? Visit the ' +\n",
              "          '<a target=\"_blank\" href=https://colab.research.google.com/notebooks/data_table.ipynb>data table notebook</a>'\n",
              "          + ' to learn more about interactive tables.';\n",
              "        element.innerHTML = '';\n",
              "        dataTable['output_type'] = 'display_data';\n",
              "        await google.colab.output.renderOutput(dataTable, element);\n",
              "        const docLink = document.createElement('div');\n",
              "        docLink.innerHTML = docLinkHtml;\n",
              "        element.appendChild(docLink);\n",
              "      }\n",
              "    </script>\n",
              "  </div>\n",
              "\n",
              "\n",
              "    <div id=\"df-57157f49-4026-444e-9476-bb161b9556a4\">\n",
              "      <button class=\"colab-df-quickchart\" onclick=\"quickchart('df-57157f49-4026-444e-9476-bb161b9556a4')\"\n",
              "                title=\"Suggest charts\"\n",
              "                style=\"display:none;\">\n",
              "\n",
              "<svg xmlns=\"http://www.w3.org/2000/svg\" height=\"24px\"viewBox=\"0 0 24 24\"\n",
              "     width=\"24px\">\n",
              "    <g>\n",
              "        <path d=\"M19 3H5c-1.1 0-2 .9-2 2v14c0 1.1.9 2 2 2h14c1.1 0 2-.9 2-2V5c0-1.1-.9-2-2-2zM9 17H7v-7h2v7zm4 0h-2V7h2v10zm4 0h-2v-4h2v4z\"/>\n",
              "    </g>\n",
              "</svg>\n",
              "      </button>\n",
              "\n",
              "<style>\n",
              "  .colab-df-quickchart {\n",
              "      --bg-color: #E8F0FE;\n",
              "      --fill-color: #1967D2;\n",
              "      --hover-bg-color: #E2EBFA;\n",
              "      --hover-fill-color: #174EA6;\n",
              "      --disabled-fill-color: #AAA;\n",
              "      --disabled-bg-color: #DDD;\n",
              "  }\n",
              "\n",
              "  [theme=dark] .colab-df-quickchart {\n",
              "      --bg-color: #3B4455;\n",
              "      --fill-color: #D2E3FC;\n",
              "      --hover-bg-color: #434B5C;\n",
              "      --hover-fill-color: #FFFFFF;\n",
              "      --disabled-bg-color: #3B4455;\n",
              "      --disabled-fill-color: #666;\n",
              "  }\n",
              "\n",
              "  .colab-df-quickchart {\n",
              "    background-color: var(--bg-color);\n",
              "    border: none;\n",
              "    border-radius: 50%;\n",
              "    cursor: pointer;\n",
              "    display: none;\n",
              "    fill: var(--fill-color);\n",
              "    height: 32px;\n",
              "    padding: 0;\n",
              "    width: 32px;\n",
              "  }\n",
              "\n",
              "  .colab-df-quickchart:hover {\n",
              "    background-color: var(--hover-bg-color);\n",
              "    box-shadow: 0 1px 2px rgba(60, 64, 67, 0.3), 0 1px 3px 1px rgba(60, 64, 67, 0.15);\n",
              "    fill: var(--button-hover-fill-color);\n",
              "  }\n",
              "\n",
              "  .colab-df-quickchart-complete:disabled,\n",
              "  .colab-df-quickchart-complete:disabled:hover {\n",
              "    background-color: var(--disabled-bg-color);\n",
              "    fill: var(--disabled-fill-color);\n",
              "    box-shadow: none;\n",
              "  }\n",
              "\n",
              "  .colab-df-spinner {\n",
              "    border: 2px solid var(--fill-color);\n",
              "    border-color: transparent;\n",
              "    border-bottom-color: var(--fill-color);\n",
              "    animation:\n",
              "      spin 1s steps(1) infinite;\n",
              "  }\n",
              "\n",
              "  @keyframes spin {\n",
              "    0% {\n",
              "      border-color: transparent;\n",
              "      border-bottom-color: var(--fill-color);\n",
              "      border-left-color: var(--fill-color);\n",
              "    }\n",
              "    20% {\n",
              "      border-color: transparent;\n",
              "      border-left-color: var(--fill-color);\n",
              "      border-top-color: var(--fill-color);\n",
              "    }\n",
              "    30% {\n",
              "      border-color: transparent;\n",
              "      border-left-color: var(--fill-color);\n",
              "      border-top-color: var(--fill-color);\n",
              "      border-right-color: var(--fill-color);\n",
              "    }\n",
              "    40% {\n",
              "      border-color: transparent;\n",
              "      border-right-color: var(--fill-color);\n",
              "      border-top-color: var(--fill-color);\n",
              "    }\n",
              "    60% {\n",
              "      border-color: transparent;\n",
              "      border-right-color: var(--fill-color);\n",
              "    }\n",
              "    80% {\n",
              "      border-color: transparent;\n",
              "      border-right-color: var(--fill-color);\n",
              "      border-bottom-color: var(--fill-color);\n",
              "    }\n",
              "    90% {\n",
              "      border-color: transparent;\n",
              "      border-bottom-color: var(--fill-color);\n",
              "    }\n",
              "  }\n",
              "</style>\n",
              "\n",
              "      <script>\n",
              "        async function quickchart(key) {\n",
              "          const quickchartButtonEl =\n",
              "            document.querySelector('#' + key + ' button');\n",
              "          quickchartButtonEl.disabled = true;  // To prevent multiple clicks.\n",
              "          quickchartButtonEl.classList.add('colab-df-spinner');\n",
              "          try {\n",
              "            const charts = await google.colab.kernel.invokeFunction(\n",
              "                'suggestCharts', [key], {});\n",
              "          } catch (error) {\n",
              "            console.error('Error during call to suggestCharts:', error);\n",
              "          }\n",
              "          quickchartButtonEl.classList.remove('colab-df-spinner');\n",
              "          quickchartButtonEl.classList.add('colab-df-quickchart-complete');\n",
              "        }\n",
              "        (() => {\n",
              "          let quickchartButtonEl =\n",
              "            document.querySelector('#df-57157f49-4026-444e-9476-bb161b9556a4 button');\n",
              "          quickchartButtonEl.style.display =\n",
              "            google.colab.kernel.accessAllowed ? 'block' : 'none';\n",
              "        })();\n",
              "      </script>\n",
              "    </div>\n",
              "\n",
              "    </div>\n",
              "  </div>\n"
            ],
            "application/vnd.google.colaboratory.intrinsic+json": {
              "type": "dataframe",
              "summary": "{\n  \"name\": \"dataframe\",\n  \"rows\": 3,\n  \"fields\": [\n    {\n      \"column\": 0,\n      \"properties\": {\n        \"dtype\": \"number\",\n        \"std\": 0.5705770218203157,\n        \"min\": 0.0,\n        \"max\": 1.0,\n        \"num_unique_values\": 3,\n        \"samples\": [\n          1.0,\n          0.9761033642897549,\n          0.0\n        ],\n        \"semantic_type\": \"\",\n        \"description\": \"\"\n      }\n    },\n    {\n      \"column\": 1,\n      \"properties\": {\n        \"dtype\": \"number\",\n        \"std\": 0.5904932777907933,\n        \"min\": -0.034503277967117725,\n        \"max\": 1.0,\n        \"num_unique_values\": 3,\n        \"samples\": [\n          0.9761033642897549,\n          1.0,\n          -0.034503277967117725\n        ],\n        \"semantic_type\": \"\",\n        \"description\": \"\"\n      }\n    },\n    {\n      \"column\": 2,\n      \"properties\": {\n        \"dtype\": \"number\",\n        \"std\": 0.5875638274995021,\n        \"min\": -0.034503277967117725,\n        \"max\": 1.0,\n        \"num_unique_values\": 3,\n        \"samples\": [\n          0.0,\n          -0.034503277967117725,\n          1.0\n        ],\n        \"semantic_type\": \"\",\n        \"description\": \"\"\n      }\n    }\n  ]\n}"
            }
          },
          "metadata": {},
          "execution_count": 15
        }
      ]
    },
    {
      "cell_type": "code",
      "source": [
        "\"\"\"\n",
        "Second, we look at the upper triangle of the correlation matrix to identify pairs of\n",
        "highly correlated features:\n",
        "\"\"\"\n",
        "# Upper triangle of correlation matrix\n",
        "upper"
      ],
      "metadata": {
        "colab": {
          "base_uri": "https://localhost:8080/",
          "height": 143
        },
        "id": "h5MhqDSYRmCh",
        "outputId": "0df2d5fa-a3f3-4898-fc67-c3e7a381ebcf"
      },
      "execution_count": 16,
      "outputs": [
        {
          "output_type": "execute_result",
          "data": {
            "text/plain": [
              "    0         1         2\n",
              "0 NaN  0.976103  0.000000\n",
              "1 NaN       NaN  0.034503\n",
              "2 NaN       NaN       NaN"
            ],
            "text/html": [
              "\n",
              "  <div id=\"df-372df04b-d2c4-40dd-8274-a91932dab234\" class=\"colab-df-container\">\n",
              "    <div>\n",
              "<style scoped>\n",
              "    .dataframe tbody tr th:only-of-type {\n",
              "        vertical-align: middle;\n",
              "    }\n",
              "\n",
              "    .dataframe tbody tr th {\n",
              "        vertical-align: top;\n",
              "    }\n",
              "\n",
              "    .dataframe thead th {\n",
              "        text-align: right;\n",
              "    }\n",
              "</style>\n",
              "<table border=\"1\" class=\"dataframe\">\n",
              "  <thead>\n",
              "    <tr style=\"text-align: right;\">\n",
              "      <th></th>\n",
              "      <th>0</th>\n",
              "      <th>1</th>\n",
              "      <th>2</th>\n",
              "    </tr>\n",
              "  </thead>\n",
              "  <tbody>\n",
              "    <tr>\n",
              "      <th>0</th>\n",
              "      <td>NaN</td>\n",
              "      <td>0.976103</td>\n",
              "      <td>0.000000</td>\n",
              "    </tr>\n",
              "    <tr>\n",
              "      <th>1</th>\n",
              "      <td>NaN</td>\n",
              "      <td>NaN</td>\n",
              "      <td>0.034503</td>\n",
              "    </tr>\n",
              "    <tr>\n",
              "      <th>2</th>\n",
              "      <td>NaN</td>\n",
              "      <td>NaN</td>\n",
              "      <td>NaN</td>\n",
              "    </tr>\n",
              "  </tbody>\n",
              "</table>\n",
              "</div>\n",
              "    <div class=\"colab-df-buttons\">\n",
              "\n",
              "  <div class=\"colab-df-container\">\n",
              "    <button class=\"colab-df-convert\" onclick=\"convertToInteractive('df-372df04b-d2c4-40dd-8274-a91932dab234')\"\n",
              "            title=\"Convert this dataframe to an interactive table.\"\n",
              "            style=\"display:none;\">\n",
              "\n",
              "  <svg xmlns=\"http://www.w3.org/2000/svg\" height=\"24px\" viewBox=\"0 -960 960 960\">\n",
              "    <path d=\"M120-120v-720h720v720H120Zm60-500h600v-160H180v160Zm220 220h160v-160H400v160Zm0 220h160v-160H400v160ZM180-400h160v-160H180v160Zm440 0h160v-160H620v160ZM180-180h160v-160H180v160Zm440 0h160v-160H620v160Z\"/>\n",
              "  </svg>\n",
              "    </button>\n",
              "\n",
              "  <style>\n",
              "    .colab-df-container {\n",
              "      display:flex;\n",
              "      gap: 12px;\n",
              "    }\n",
              "\n",
              "    .colab-df-convert {\n",
              "      background-color: #E8F0FE;\n",
              "      border: none;\n",
              "      border-radius: 50%;\n",
              "      cursor: pointer;\n",
              "      display: none;\n",
              "      fill: #1967D2;\n",
              "      height: 32px;\n",
              "      padding: 0 0 0 0;\n",
              "      width: 32px;\n",
              "    }\n",
              "\n",
              "    .colab-df-convert:hover {\n",
              "      background-color: #E2EBFA;\n",
              "      box-shadow: 0px 1px 2px rgba(60, 64, 67, 0.3), 0px 1px 3px 1px rgba(60, 64, 67, 0.15);\n",
              "      fill: #174EA6;\n",
              "    }\n",
              "\n",
              "    .colab-df-buttons div {\n",
              "      margin-bottom: 4px;\n",
              "    }\n",
              "\n",
              "    [theme=dark] .colab-df-convert {\n",
              "      background-color: #3B4455;\n",
              "      fill: #D2E3FC;\n",
              "    }\n",
              "\n",
              "    [theme=dark] .colab-df-convert:hover {\n",
              "      background-color: #434B5C;\n",
              "      box-shadow: 0px 1px 3px 1px rgba(0, 0, 0, 0.15);\n",
              "      filter: drop-shadow(0px 1px 2px rgba(0, 0, 0, 0.3));\n",
              "      fill: #FFFFFF;\n",
              "    }\n",
              "  </style>\n",
              "\n",
              "    <script>\n",
              "      const buttonEl =\n",
              "        document.querySelector('#df-372df04b-d2c4-40dd-8274-a91932dab234 button.colab-df-convert');\n",
              "      buttonEl.style.display =\n",
              "        google.colab.kernel.accessAllowed ? 'block' : 'none';\n",
              "\n",
              "      async function convertToInteractive(key) {\n",
              "        const element = document.querySelector('#df-372df04b-d2c4-40dd-8274-a91932dab234');\n",
              "        const dataTable =\n",
              "          await google.colab.kernel.invokeFunction('convertToInteractive',\n",
              "                                                    [key], {});\n",
              "        if (!dataTable) return;\n",
              "\n",
              "        const docLinkHtml = 'Like what you see? Visit the ' +\n",
              "          '<a target=\"_blank\" href=https://colab.research.google.com/notebooks/data_table.ipynb>data table notebook</a>'\n",
              "          + ' to learn more about interactive tables.';\n",
              "        element.innerHTML = '';\n",
              "        dataTable['output_type'] = 'display_data';\n",
              "        await google.colab.output.renderOutput(dataTable, element);\n",
              "        const docLink = document.createElement('div');\n",
              "        docLink.innerHTML = docLinkHtml;\n",
              "        element.appendChild(docLink);\n",
              "      }\n",
              "    </script>\n",
              "  </div>\n",
              "\n",
              "\n",
              "    <div id=\"df-7474c947-b014-4e7a-9e4d-11859be8a88f\">\n",
              "      <button class=\"colab-df-quickchart\" onclick=\"quickchart('df-7474c947-b014-4e7a-9e4d-11859be8a88f')\"\n",
              "                title=\"Suggest charts\"\n",
              "                style=\"display:none;\">\n",
              "\n",
              "<svg xmlns=\"http://www.w3.org/2000/svg\" height=\"24px\"viewBox=\"0 0 24 24\"\n",
              "     width=\"24px\">\n",
              "    <g>\n",
              "        <path d=\"M19 3H5c-1.1 0-2 .9-2 2v14c0 1.1.9 2 2 2h14c1.1 0 2-.9 2-2V5c0-1.1-.9-2-2-2zM9 17H7v-7h2v7zm4 0h-2V7h2v10zm4 0h-2v-4h2v4z\"/>\n",
              "    </g>\n",
              "</svg>\n",
              "      </button>\n",
              "\n",
              "<style>\n",
              "  .colab-df-quickchart {\n",
              "      --bg-color: #E8F0FE;\n",
              "      --fill-color: #1967D2;\n",
              "      --hover-bg-color: #E2EBFA;\n",
              "      --hover-fill-color: #174EA6;\n",
              "      --disabled-fill-color: #AAA;\n",
              "      --disabled-bg-color: #DDD;\n",
              "  }\n",
              "\n",
              "  [theme=dark] .colab-df-quickchart {\n",
              "      --bg-color: #3B4455;\n",
              "      --fill-color: #D2E3FC;\n",
              "      --hover-bg-color: #434B5C;\n",
              "      --hover-fill-color: #FFFFFF;\n",
              "      --disabled-bg-color: #3B4455;\n",
              "      --disabled-fill-color: #666;\n",
              "  }\n",
              "\n",
              "  .colab-df-quickchart {\n",
              "    background-color: var(--bg-color);\n",
              "    border: none;\n",
              "    border-radius: 50%;\n",
              "    cursor: pointer;\n",
              "    display: none;\n",
              "    fill: var(--fill-color);\n",
              "    height: 32px;\n",
              "    padding: 0;\n",
              "    width: 32px;\n",
              "  }\n",
              "\n",
              "  .colab-df-quickchart:hover {\n",
              "    background-color: var(--hover-bg-color);\n",
              "    box-shadow: 0 1px 2px rgba(60, 64, 67, 0.3), 0 1px 3px 1px rgba(60, 64, 67, 0.15);\n",
              "    fill: var(--button-hover-fill-color);\n",
              "  }\n",
              "\n",
              "  .colab-df-quickchart-complete:disabled,\n",
              "  .colab-df-quickchart-complete:disabled:hover {\n",
              "    background-color: var(--disabled-bg-color);\n",
              "    fill: var(--disabled-fill-color);\n",
              "    box-shadow: none;\n",
              "  }\n",
              "\n",
              "  .colab-df-spinner {\n",
              "    border: 2px solid var(--fill-color);\n",
              "    border-color: transparent;\n",
              "    border-bottom-color: var(--fill-color);\n",
              "    animation:\n",
              "      spin 1s steps(1) infinite;\n",
              "  }\n",
              "\n",
              "  @keyframes spin {\n",
              "    0% {\n",
              "      border-color: transparent;\n",
              "      border-bottom-color: var(--fill-color);\n",
              "      border-left-color: var(--fill-color);\n",
              "    }\n",
              "    20% {\n",
              "      border-color: transparent;\n",
              "      border-left-color: var(--fill-color);\n",
              "      border-top-color: var(--fill-color);\n",
              "    }\n",
              "    30% {\n",
              "      border-color: transparent;\n",
              "      border-left-color: var(--fill-color);\n",
              "      border-top-color: var(--fill-color);\n",
              "      border-right-color: var(--fill-color);\n",
              "    }\n",
              "    40% {\n",
              "      border-color: transparent;\n",
              "      border-right-color: var(--fill-color);\n",
              "      border-top-color: var(--fill-color);\n",
              "    }\n",
              "    60% {\n",
              "      border-color: transparent;\n",
              "      border-right-color: var(--fill-color);\n",
              "    }\n",
              "    80% {\n",
              "      border-color: transparent;\n",
              "      border-right-color: var(--fill-color);\n",
              "      border-bottom-color: var(--fill-color);\n",
              "    }\n",
              "    90% {\n",
              "      border-color: transparent;\n",
              "      border-bottom-color: var(--fill-color);\n",
              "    }\n",
              "  }\n",
              "</style>\n",
              "\n",
              "      <script>\n",
              "        async function quickchart(key) {\n",
              "          const quickchartButtonEl =\n",
              "            document.querySelector('#' + key + ' button');\n",
              "          quickchartButtonEl.disabled = true;  // To prevent multiple clicks.\n",
              "          quickchartButtonEl.classList.add('colab-df-spinner');\n",
              "          try {\n",
              "            const charts = await google.colab.kernel.invokeFunction(\n",
              "                'suggestCharts', [key], {});\n",
              "          } catch (error) {\n",
              "            console.error('Error during call to suggestCharts:', error);\n",
              "          }\n",
              "          quickchartButtonEl.classList.remove('colab-df-spinner');\n",
              "          quickchartButtonEl.classList.add('colab-df-quickchart-complete');\n",
              "        }\n",
              "        (() => {\n",
              "          let quickchartButtonEl =\n",
              "            document.querySelector('#df-7474c947-b014-4e7a-9e4d-11859be8a88f button');\n",
              "          quickchartButtonEl.style.display =\n",
              "            google.colab.kernel.accessAllowed ? 'block' : 'none';\n",
              "        })();\n",
              "      </script>\n",
              "    </div>\n",
              "\n",
              "  <div id=\"id_b3d5687a-0a8c-4f13-8bce-0732db15715d\">\n",
              "    <style>\n",
              "      .colab-df-generate {\n",
              "        background-color: #E8F0FE;\n",
              "        border: none;\n",
              "        border-radius: 50%;\n",
              "        cursor: pointer;\n",
              "        display: none;\n",
              "        fill: #1967D2;\n",
              "        height: 32px;\n",
              "        padding: 0 0 0 0;\n",
              "        width: 32px;\n",
              "      }\n",
              "\n",
              "      .colab-df-generate:hover {\n",
              "        background-color: #E2EBFA;\n",
              "        box-shadow: 0px 1px 2px rgba(60, 64, 67, 0.3), 0px 1px 3px 1px rgba(60, 64, 67, 0.15);\n",
              "        fill: #174EA6;\n",
              "      }\n",
              "\n",
              "      [theme=dark] .colab-df-generate {\n",
              "        background-color: #3B4455;\n",
              "        fill: #D2E3FC;\n",
              "      }\n",
              "\n",
              "      [theme=dark] .colab-df-generate:hover {\n",
              "        background-color: #434B5C;\n",
              "        box-shadow: 0px 1px 3px 1px rgba(0, 0, 0, 0.15);\n",
              "        filter: drop-shadow(0px 1px 2px rgba(0, 0, 0, 0.3));\n",
              "        fill: #FFFFFF;\n",
              "      }\n",
              "    </style>\n",
              "    <button class=\"colab-df-generate\" onclick=\"generateWithVariable('upper')\"\n",
              "            title=\"Generate code using this dataframe.\"\n",
              "            style=\"display:none;\">\n",
              "\n",
              "  <svg xmlns=\"http://www.w3.org/2000/svg\" height=\"24px\"viewBox=\"0 0 24 24\"\n",
              "       width=\"24px\">\n",
              "    <path d=\"M7,19H8.4L18.45,9,17,7.55,7,17.6ZM5,21V16.75L18.45,3.32a2,2,0,0,1,2.83,0l1.4,1.43a1.91,1.91,0,0,1,.58,1.4,1.91,1.91,0,0,1-.58,1.4L9.25,21ZM18.45,9,17,7.55Zm-12,3A5.31,5.31,0,0,0,4.9,8.1,5.31,5.31,0,0,0,1,6.5,5.31,5.31,0,0,0,4.9,4.9,5.31,5.31,0,0,0,6.5,1,5.31,5.31,0,0,0,8.1,4.9,5.31,5.31,0,0,0,12,6.5,5.46,5.46,0,0,0,6.5,12Z\"/>\n",
              "  </svg>\n",
              "    </button>\n",
              "    <script>\n",
              "      (() => {\n",
              "      const buttonEl =\n",
              "        document.querySelector('#id_b3d5687a-0a8c-4f13-8bce-0732db15715d button.colab-df-generate');\n",
              "      buttonEl.style.display =\n",
              "        google.colab.kernel.accessAllowed ? 'block' : 'none';\n",
              "\n",
              "      buttonEl.onclick = () => {\n",
              "        google.colab.notebook.generateWithVariable('upper');\n",
              "      }\n",
              "      })();\n",
              "    </script>\n",
              "  </div>\n",
              "\n",
              "    </div>\n",
              "  </div>\n"
            ],
            "application/vnd.google.colaboratory.intrinsic+json": {
              "type": "dataframe",
              "variable_name": "upper",
              "summary": "{\n  \"name\": \"upper\",\n  \"rows\": 3,\n  \"fields\": [\n    {\n      \"column\": 0,\n      \"properties\": {\n        \"dtype\": \"number\",\n        \"std\": null,\n        \"min\": null,\n        \"max\": null,\n        \"num_unique_values\": 0,\n        \"samples\": [],\n        \"semantic_type\": \"\",\n        \"description\": \"\"\n      }\n    },\n    {\n      \"column\": 1,\n      \"properties\": {\n        \"dtype\": \"number\",\n        \"std\": null,\n        \"min\": 0.9761033642897549,\n        \"max\": 0.9761033642897549,\n        \"num_unique_values\": 1,\n        \"samples\": [],\n        \"semantic_type\": \"\",\n        \"description\": \"\"\n      }\n    },\n    {\n      \"column\": 2,\n      \"properties\": {\n        \"dtype\": \"number\",\n        \"std\": 0.02439750182371334,\n        \"min\": 0.0,\n        \"max\": 0.034503277967117725,\n        \"num_unique_values\": 2,\n        \"samples\": [],\n        \"semantic_type\": \"\",\n        \"description\": \"\"\n      }\n    }\n  ]\n}"
            }
          },
          "metadata": {},
          "execution_count": 16
        }
      ]
    },
    {
      "cell_type": "markdown",
      "source": [
        "### Removing Irrelevant Features for Classification\n",
        "\n",
        "Chi-square statistics examine the independence of two categorical vectors. That is,\n",
        "the statistic is the difference between the observed number of observations in each\n",
        "class of a categorical feature and what we would expect if that feature were independent\n",
        "(i.e., no relationship) of the target vector.\n",
        "\n",
        "A chi-squared statistic is a single number that tells you how much difference exists\n",
        "between your observed counts and the counts you would expect if there were no\n",
        "relationship at all in the population. By calculating the chi-squared statistic between a\n",
        "feature and the target vector, we obtain a measurement of the independence between\n",
        "the two. If the target is independent of the feature variable, then it is irrelevant for\n",
        "our purposes because it contains no information we can use for classification. On the\n",
        "other hand, if the two features are highly dependent, they likely are very informative\n",
        "for training our model.\n",
        "\n"
      ],
      "metadata": {
        "id": "yEyfAT01RzlM"
      }
    },
    {
      "cell_type": "markdown",
      "source": [
        "To use chi-squared in feature selection, we calculate the chi-squared statistic between\n",
        "each feature and the target vector, then select the features with the best chi-square\n",
        "statistics. In scikit-learn, we can use SelectKBest to select them. The parameter k determines the number of features we want to keep and filters out the least informative\n",
        "features.\n",
        "It is important to note that chi-square statistics can be calculated only between\n",
        "two categorical vectors. For this reason, chi-squared for feature selection requires\n",
        "that both the target vector and the features are categorical. However, if we have\n",
        "a numerical feature we can use the chi-squared technique by first transforming\n",
        "the quantitative feature into a categorical feature. Finally, to use our chi-squared\n",
        "approach, all values need to be nonnegative.\n",
        "\n",
        "Alternatively, if we have a numerical feature, we can use f_classif to calculate\n",
        "the ANOVA F-value statistic with each feature and the target vector. F-value scores"
      ],
      "metadata": {
        "id": "ZC-ZF6nYSvcv"
      }
    },
    {
      "cell_type": "code",
      "source": [
        "from sklearn.datasets import load_iris\n",
        "from sklearn.feature_selection import SelectKBest\n",
        "from sklearn.feature_selection import chi2, f_classif\n",
        "# Load data\n",
        "iris = load_iris()\n",
        "features = iris.data\n",
        "target = iris.target\n",
        "# Convert to categorical data by converting data to integers\n",
        "features = features.astype(int)\n",
        "# Select two features with highest chi-squared statistics\n",
        "chi2_selector = SelectKBest(chi2, k=2)\n",
        "features_kbest = chi2_selector.fit_transform(features, target)\n",
        "# Show results\n",
        "print(\"Original number of features:\", features.shape[1])\n",
        "print(\"Reduced number of features:\", features_kbest.shape[1])"
      ],
      "metadata": {
        "colab": {
          "base_uri": "https://localhost:8080/"
        },
        "id": "3SMLlt4jR4-j",
        "outputId": "2c02d40e-1ced-4bad-e514-44f0c04b0274"
      },
      "execution_count": 17,
      "outputs": [
        {
          "output_type": "stream",
          "name": "stdout",
          "text": [
            "Original number of features: 4\n",
            "Reduced number of features: 2\n"
          ]
        }
      ]
    },
    {
      "cell_type": "code",
      "source": [
        "\"\"\"\n",
        "If the features are quantitative, compute the ANOVA F-value between each feature\n",
        "and the target vector:\n",
        "\"\"\"\n",
        "# Select two features with highest F-values\n",
        "fvalue_selector = SelectKBest(f_classif, k=2)\n",
        "features_kbest = fvalue_selector.fit_transform(features, target)\n",
        "# Show results\n",
        "print(\"Original number of features:\", features.shape[1])\n",
        "print(\"Reduced number of features:\", features_kbest.shape[1])"
      ],
      "metadata": {
        "colab": {
          "base_uri": "https://localhost:8080/"
        },
        "id": "IUDMUvQ0R865",
        "outputId": "82a62aa3-ce76-4d1e-f26f-f905c9b4e5aa"
      },
      "execution_count": 18,
      "outputs": [
        {
          "output_type": "stream",
          "name": "stdout",
          "text": [
            "Original number of features: 4\n",
            "Reduced number of features: 2\n"
          ]
        }
      ]
    },
    {
      "cell_type": "code",
      "source": [
        "\"\"\"\n",
        "Instead of selecting a specific number of features, we can use SelectPercentile to\n",
        "select the top n percent of features:\n",
        "\"\"\"\n",
        "# Load library\n",
        "from sklearn.feature_selection import SelectPercentile\n",
        "# Select top 75% of features with highest F-values\n",
        "fvalue_selector = SelectPercentile(f_classif, percentile=75)\n",
        "features_kbest = fvalue_selector.fit_transform(features, target)\n",
        "# Show results\n",
        "print(\"Original number of features:\", features.shape[1])\n",
        "print(\"Reduced number of features:\", features_kbest.shape[1])"
      ],
      "metadata": {
        "colab": {
          "base_uri": "https://localhost:8080/"
        },
        "id": "MQObMSGXSEj8",
        "outputId": "adad376a-7207-46b9-bead-58b193253348"
      },
      "execution_count": 19,
      "outputs": [
        {
          "output_type": "stream",
          "name": "stdout",
          "text": [
            "Original number of features: 4\n",
            "Reduced number of features: 3\n"
          ]
        }
      ]
    },
    {
      "cell_type": "markdown",
      "source": [
        "### Recursively Eliminating Features\n",
        "\n",
        "Use scikit-learn’s RFECV to conduct recursive feature elimination (RFE) using crossvalidation\n",
        "(CV). That is, use the wrapper feature selection method and repeatedly\n",
        "train a model, each time removing a feature until model performance (e.g., accuracy)\n",
        "becomes worse. The remaining features are the best:"
      ],
      "metadata": {
        "id": "KyEnXnrUTCJe"
      }
    },
    {
      "cell_type": "code",
      "source": [
        "import warnings\n",
        "from sklearn.datasets import make_regression\n",
        "from sklearn.feature_selection import RFECV\n",
        "from sklearn import datasets, linear_model\n",
        "# Suppress an annoying but harmless warning\n",
        "warnings.filterwarnings(action=\"ignore\", module=\"scipy\",\n",
        "message=\"^internal gelsd\")\n",
        "# Generate features matrix, target vector, and the true coefficients\n",
        "features, target = make_regression(n_samples = 10000,\n",
        "                                    n_features = 100,\n",
        "                                    n_informative = 2,\n",
        "                                    random_state = 1)\n",
        "# Create a linear regression\n",
        "ols = linear_model.LinearRegression()\n",
        "# Recursively eliminate features\n",
        "rfecv = RFECV(estimator=ols, step=1, scoring=\"neg_mean_squared_error\")\n",
        "rfecv.fit(features, target)\n",
        "rfecv.transform(features)"
      ],
      "metadata": {
        "colab": {
          "base_uri": "https://localhost:8080/"
        },
        "id": "_Zu6N0GOTNs7",
        "outputId": "691377e3-2ef9-486c-aacb-2a4fba6c031b"
      },
      "execution_count": 20,
      "outputs": [
        {
          "output_type": "execute_result",
          "data": {
            "text/plain": [
              "array([[ 0.00850799,  0.7031277 ],\n",
              "       [-1.07500204,  2.56148527],\n",
              "       [ 1.37940721, -1.77039484],\n",
              "       ...,\n",
              "       [-0.80331656, -1.60648007],\n",
              "       [ 0.39508844, -1.34564911],\n",
              "       [-0.55383035,  0.82880112]])"
            ]
          },
          "metadata": {},
          "execution_count": 20
        }
      ]
    },
    {
      "cell_type": "code",
      "source": [
        "#Once we have conducted RFE, we can see the number of features we should keep:\n",
        "# Number of best features\n",
        "rfecv.n_features_"
      ],
      "metadata": {
        "colab": {
          "base_uri": "https://localhost:8080/"
        },
        "id": "Ca0MEcUfTZdl",
        "outputId": "a15796c8-6d94-4da0-e8e7-6c101613feff"
      },
      "execution_count": 21,
      "outputs": [
        {
          "output_type": "execute_result",
          "data": {
            "text/plain": [
              "np.int64(2)"
            ]
          },
          "metadata": {},
          "execution_count": 21
        }
      ]
    },
    {
      "cell_type": "code",
      "source": [
        "#We can also see which of those features we should keep:\n",
        "# Which categories are best\n",
        "rfecv.support_"
      ],
      "metadata": {
        "colab": {
          "base_uri": "https://localhost:8080/"
        },
        "id": "ghABWJ09ThCi",
        "outputId": "bcba5158-749c-4102-ba3c-13332f02df2e"
      },
      "execution_count": 22,
      "outputs": [
        {
          "output_type": "execute_result",
          "data": {
            "text/plain": [
              "array([False, False, False, False, False,  True, False, False, False,\n",
              "       False, False, False, False, False, False, False, False, False,\n",
              "       False, False, False, False, False, False, False, False, False,\n",
              "       False, False, False, False, False, False, False, False, False,\n",
              "       False, False, False,  True, False, False, False, False, False,\n",
              "       False, False, False, False, False, False, False, False, False,\n",
              "       False, False, False, False, False, False, False, False, False,\n",
              "       False, False, False, False, False, False, False, False, False,\n",
              "       False, False, False, False, False, False, False, False, False,\n",
              "       False, False, False, False, False, False, False, False, False,\n",
              "       False, False, False, False, False, False, False, False, False,\n",
              "       False])"
            ]
          },
          "metadata": {},
          "execution_count": 22
        }
      ]
    },
    {
      "cell_type": "code",
      "source": [
        "#We can even view the rankings of the features:\n",
        "# Rank features best (1) to worst\n",
        "rfecv.ranking_"
      ],
      "metadata": {
        "colab": {
          "base_uri": "https://localhost:8080/"
        },
        "id": "1fIcT7NeTnib",
        "outputId": "649d9eaa-6891-4ceb-811f-e68f39ed4d2a"
      },
      "execution_count": 23,
      "outputs": [
        {
          "output_type": "execute_result",
          "data": {
            "text/plain": [
              "array([22, 16, 91, 12, 52,  1, 96, 85, 37, 56, 82, 25, 44, 86, 51, 80,  4,\n",
              "       95, 63, 84, 60,  3, 26, 89, 70, 61, 77, 88, 98, 19, 50, 39, 55, 53,\n",
              "       92, 47, 99, 45, 28,  1, 41, 81, 90, 78, 74, 73, 64, 57, 93, 15, 72,\n",
              "       32, 97, 48, 49, 66, 33, 43, 34, 59, 31, 68, 42, 14, 13, 46, 10, 65,\n",
              "       36,  6, 58, 79, 20, 87,  2,  7, 23, 35, 38, 76,  8, 75, 17, 62, 67,\n",
              "       69, 27, 71, 54, 29, 40,  9, 24, 18, 30,  5, 83, 94, 11, 21])"
            ]
          },
          "metadata": {},
          "execution_count": 23
        }
      ]
    },
    {
      "cell_type": "markdown",
      "source": [
        "# **Model Evaluation**"
      ],
      "metadata": {
        "id": "A4zyglKrULn6"
      }
    },
    {
      "cell_type": "markdown",
      "source": [
        "## Cross Validating Models"
      ],
      "metadata": {
        "id": "2RdiN3kRmRLu"
      }
    },
    {
      "cell_type": "code",
      "source": [
        "# Load libraries\n",
        "from sklearn import datasets\n",
        "from sklearn import metrics\n",
        "from sklearn.model_selection import KFold, cross_val_score\n",
        "from sklearn.pipeline import make_pipeline\n",
        "from sklearn.linear_model import LogisticRegression\n",
        "from sklearn.preprocessing import StandardScaler"
      ],
      "metadata": {
        "id": "WIlLEebTUfPR"
      },
      "execution_count": 24,
      "outputs": []
    },
    {
      "cell_type": "code",
      "source": [
        "# Load digits dataset\n",
        "digits = datasets.load_digits()\n",
        "# Create features matrix\n",
        "features = digits.data\n",
        "# Create target vector\n",
        "target = digits.target\n",
        "# Create standardizer\n",
        "standardizer = StandardScaler()\n",
        "# Create logistic regression object\n",
        "logit = LogisticRegression()\n",
        "#Create a pipeline that standardizes, then runs logistic regression\n",
        "pipeline = make_pipeline(standardizer, logit)\n",
        "# Create k-fold cross-validation\n",
        "kf = KFold(n_splits=5, shuffle=True, random_state=0)\n",
        "# Conduct k-fold cross-validation\n",
        "cv_results = cross_val_score(pipeline, # Pipeline\n",
        "                              features, # Feature matrix\n",
        "                              target, # Target vector\n",
        "                              cv=kf, # Performance metric\n",
        "                              scoring=\"accuracy\", # Loss function\n",
        "                              n_jobs=-1) # Use all CPU cores\n",
        "# Calculate mean\n",
        "cv_results.mean()"
      ],
      "metadata": {
        "colab": {
          "base_uri": "https://localhost:8080/"
        },
        "id": "-LMqSHtvmfyx",
        "outputId": "a2a7ae4d-5ca6-45b5-dc25-7d46ff30a09a"
      },
      "execution_count": 25,
      "outputs": [
        {
          "output_type": "execute_result",
          "data": {
            "text/plain": [
              "np.float64(0.9677329000309502)"
            ]
          },
          "metadata": {},
          "execution_count": 25
        }
      ]
    },
    {
      "cell_type": "markdown",
      "source": [
        "In **validation**, our observations (features and targets) are split into two\n",
        "sets, traditionally called the training set and the test set. We take the test set and put it\n",
        "off to the side, pretending that we have never seen it before. Next we train our model using our training set, using the features and target vector to teach the model how\n",
        "to make the best prediction. Finally, we simulate having never-before-seen external data by evaluating how our model performs on our test set.\n",
        "\n",
        "**Weakness**:\n",
        "1. The performance of the model can be\n",
        "highly dependent on which few observations were selected for the test set.\n",
        "\n",
        "2. the model is not being trained using all the available data, and it’s not being evaluated\n",
        "on all the available data.\n",
        "A better strategy, which overcomes these weaknesses, is called **k-fold cross-validation**\n",
        "\n",
        "we split the data into k parts called folds. The model is then\n",
        "trained using k - 1 folds -- combined into one training set—and then the last fold isused as a validation set.\n",
        "\n",
        "We repeat this k times, each time using a different fold as the test\n",
        "set. The performance on the model for each of the k iterations is then averaged to\n",
        "produce an overall measurement."
      ],
      "metadata": {
        "id": "YijJQ1CPncqb"
      }
    },
    {
      "cell_type": "code",
      "source": [
        "# View score for all 5 folds\n",
        "cv_results"
      ],
      "metadata": {
        "colab": {
          "base_uri": "https://localhost:8080/"
        },
        "id": "-Oow-Jv-nqfv",
        "outputId": "4beec7c3-2346-4618-8bfd-f95a01005759"
      },
      "execution_count": 26,
      "outputs": [
        {
          "output_type": "execute_result",
          "data": {
            "text/plain": [
              "array([0.96111111, 0.95833333, 0.97771588, 0.96935933, 0.97214485])"
            ]
          },
          "metadata": {},
          "execution_count": 26
        }
      ]
    },
    {
      "cell_type": "code",
      "source": [
        "\"\"\"\n",
        "when we are using KFCV to evaluate a classifier, it is often beneficial to\n",
        "have folds containing roughly the same percentage of observations from each of\n",
        "the different target classes (called stratified k-fold). For example, if our target vector\n",
        "contained gender and 80% of the observations were male, then each fold would\n",
        "contain 80% male and 20% female observations. In scikit-learn, we can conduct\n",
        "stratified k-fold cross-validation by replacing the KFold class with StratifiedKFold.\n",
        "\n",
        "Finally, when we are using validation sets or cross-validation, it is important to\n",
        "preprocess data based on the training set and then apply those transformations to\n",
        "both the training and test set. For example, when we fit our standardization object,\n",
        "standardizer, we calculate the mean and variance of only the training set. Then we\n",
        "apply that transformation (using transform) to both the training and test sets:\n",
        "\"\"\"\n",
        "# Import library\n",
        "from sklearn.model_selection import train_test_split\n",
        "# Create training and test sets\n",
        "features_train, features_test, target_train, target_test = train_test_split(\n",
        "features, target, test_size=0.1, random_state=1)\n",
        "# Fit standardizer to training set\n",
        "standardizer.fit(features_train)\n",
        "# Apply to both training and test sets which can then be used to train models\n",
        "features_train_std = standardizer.transform(features_train)\n",
        "features_test_std = standardizer.transform(features_test)\n",
        "\n",
        "\"\"\"\n",
        "The reason for this is because we are pretending that the test set is unknown data.\n",
        "If we fit both our preprocessors using observations from both training and test sets,\n",
        "some of the information from the test set leaks into our training set. This rule applies\n",
        "for any preprocessing step such as feature selection.\n",
        "scikit-learn’s pipeline package makes this easy to do while using cross-validation\n",
        "techniques. We first create a pipeline that preprocesses the data (e.g., standardizer)\n",
        "and then trains a model (logistic regression, logit):\n",
        "\"\"\"\n",
        "# Create a pipeline\n",
        "pipeline = make_pipeline(standardizer, logit)\n",
        "# Do k-fold cross-validation\n",
        "cv_results = cross_val_score(pipeline, # Pipeline\n",
        "                              features, # Feature matrix\n",
        "                              target, # Target vector\n",
        "                              cv=kf, # Performance metric\n",
        "                              scoring=\"accuracy\", # Loss function\n",
        "                              n_jobs=-1) # Use all CPU cores\n",
        ""
      ],
      "metadata": {
        "id": "FLN76vVEpNLC"
      },
      "execution_count": 27,
      "outputs": []
    },
    {
      "cell_type": "markdown",
      "source": [
        "## Creating a Baseline Regression Model"
      ],
      "metadata": {
        "id": "N_o_bhvWqR_f"
      }
    },
    {
      "cell_type": "code",
      "source": [
        "from sklearn.datasets import load_wine\n",
        "from sklearn.dummy import DummyRegressor\n",
        "from sklearn.model_selection import train_test_split\n",
        "# Load data\n",
        "wine = load_wine()\n",
        "# Create features\n",
        "features, target = wine.data, wine.target\n",
        "# Make test and training split\n",
        "features_train, features_test, target_train, target_test = train_test_split(\n",
        "features, target, random_state=0)\n",
        "# Create a dummy regressor\n",
        "# DummyRegressor allows us to create a very simple model that we can use as a baseline\n",
        "# DummyRegressor uses the strategy parameter to set the method of making predictions\n",
        "# if we set strategy to constant and use the constant parameter, we can set the dummy\n",
        "# regressor to predict some constant value for every observation:\n",
        "dummy = DummyRegressor(strategy='mean')\n",
        "# \"Train\" dummy regressor\n",
        "dummy.fit(features_train, target_train)\n",
        "# Get R-squared score\n",
        "dummy.score(features_test, target_test) # Returns Rsquared\n",
        "# By default, score returns the coefficient of determination (R-squared, R2) score"
      ],
      "metadata": {
        "colab": {
          "base_uri": "https://localhost:8080/"
        },
        "id": "t8KCH6a5qXDz",
        "outputId": "6868ccc1-6415-44e8-b7f9-95f49b7db151"
      },
      "execution_count": 28,
      "outputs": [
        {
          "output_type": "execute_result",
          "data": {
            "text/plain": [
              "-0.0480213580840978"
            ]
          },
          "metadata": {},
          "execution_count": 28
        }
      ]
    },
    {
      "cell_type": "code",
      "source": [
        "# Create dummy regressor that predicts 1s for everything\n",
        "clf = DummyRegressor(strategy='constant', constant=1)\n",
        "clf.fit(features_train, target_train)\n",
        "# Evaluate score\n",
        "clf.score(features_test, target_test) # Returns Rsquared\n",
        "# The closer R2 is to 1, the more of the variance in the target vector that is explained by the features."
      ],
      "metadata": {
        "colab": {
          "base_uri": "https://localhost:8080/"
        },
        "id": "uLSWUZWgrILJ",
        "outputId": "fd8a5cf1-c551-4cf4-d1b1-781736dae72c"
      },
      "execution_count": 29,
      "outputs": [
        {
          "output_type": "execute_result",
          "data": {
            "text/plain": [
              "-0.06299212598425186"
            ]
          },
          "metadata": {},
          "execution_count": 29
        }
      ]
    },
    {
      "cell_type": "code",
      "source": [
        "# To compare, we train our model and evaluate the performance score\n",
        "# Load library\n",
        "from sklearn.linear_model import LinearRegression\n",
        "# Train simple linear regression model\n",
        "ols = LinearRegression()\n",
        "ols.fit(features_train, target_train)\n",
        "# Get R-squared score\n",
        "ols.score(features_test, target_test)\n",
        "0.804353263176954"
      ],
      "metadata": {
        "colab": {
          "base_uri": "https://localhost:8080/"
        },
        "id": "EUHA315gqkeB",
        "outputId": "b80b82ff-b0c7-43c9-d5ad-f4eadd488fc3"
      },
      "execution_count": 30,
      "outputs": [
        {
          "output_type": "execute_result",
          "data": {
            "text/plain": [
              "0.804353263176954"
            ]
          },
          "metadata": {},
          "execution_count": 30
        }
      ]
    },
    {
      "cell_type": "markdown",
      "source": [
        "## Creating a Baseline Classification Model"
      ],
      "metadata": {
        "id": "NQYMjA9trj-q"
      }
    },
    {
      "cell_type": "code",
      "source": [
        "# Load libraries\n",
        "from sklearn.datasets import load_iris\n",
        "from sklearn.dummy import DummyClassifier\n",
        "from sklearn.model_selection import train_test_split\n",
        "# Load data\n",
        "iris = load_iris()\n",
        "# Create target vector and feature matrix\n",
        "features, target = iris.data, iris.target\n",
        "# Split into training and test set\n",
        "features_train, features_test, target_train, target_test = train_test_split(\n",
        "features, target, random_state=0)\n",
        "# Create dummy classifier\n",
        "# Strategy = stratified (makes prediction proportional to the class 20% women will predict that class 20% of the time)\n",
        "# Strategy = uniform (will predict uniformly at random between the diffrent classes 80%-20% will become- 50%-50%)\n",
        "dummy = DummyClassifier(strategy='uniform', random_state=1)\n",
        "# \"Train\" model\n",
        "dummy.fit(features_train, target_train)\n",
        "# Get accuracy score\n",
        "dummy.score(features_test, target_test)"
      ],
      "metadata": {
        "colab": {
          "base_uri": "https://localhost:8080/"
        },
        "id": "xq0jfpttrpJx",
        "outputId": "55a160bf-560d-47b6-ee0a-e29fbea9856d"
      },
      "execution_count": 31,
      "outputs": [
        {
          "output_type": "execute_result",
          "data": {
            "text/plain": [
              "0.42105263157894735"
            ]
          },
          "metadata": {},
          "execution_count": 31
        }
      ]
    },
    {
      "cell_type": "code",
      "source": [
        "# By comparing the baseline classifier to our trained classifier, we can see the improvement:\n",
        "# Load library\n",
        "from sklearn.ensemble import RandomForestClassifier\n",
        "# Create classifier\n",
        "classifier = RandomForestClassifier()\n",
        "# Train model\n",
        "classifier.fit(features_train, target_train)\n",
        "# Get accuracy score\n",
        "classifier.score(features_test, target_test)"
      ],
      "metadata": {
        "colab": {
          "base_uri": "https://localhost:8080/"
        },
        "id": "BEmFo_1Brseg",
        "outputId": "3a6c612c-cb4f-4d65-9a92-8ccbc24cd4f2"
      },
      "execution_count": 32,
      "outputs": [
        {
          "output_type": "execute_result",
          "data": {
            "text/plain": [
              "0.9736842105263158"
            ]
          },
          "metadata": {},
          "execution_count": 32
        }
      ]
    },
    {
      "cell_type": "markdown",
      "source": [
        "## Evaluating Binary Classifier Predictions"
      ],
      "metadata": {
        "id": "GERO-gktsv2j"
      }
    },
    {
      "cell_type": "markdown",
      "source": [
        "Given a trained classification model, you want to evaluate its quality.\n",
        "\n",
        "Use scikit-learn's cross_val_score to conduct cross-validation while using the\n",
        "scoring parameter to define one of a number of performance metrics, including\n",
        "accuracy, precision, recall, and F1. Accuracy is a common performance metric\n",
        "\n",
        "Accuracy = (TP+TN)/(TP+TN+FP+FN)\n",
        "\n",
        "**TP**: **true positives**.These are observations that are part of the positive class (has the disease, purchased the product, etc.) and that we predicted correctly.\n",
        "\n",
        "**TN**: The number of **true negatives**. These are observations that are part of the negative\n",
        "class (does not have the disease, did not purchase the product, etc.) and that we predicted correctly.\n",
        "\n",
        "**FP**: The number of **false positives**, also called a **Type I error**. These are observations\n",
        "that are predicted to be part of the positive class but are actually part of the negative class.\n",
        "\n",
        "**FN**: The number of **false negatives**, also called a** Type II error**. These are observations\n",
        "that are predicted to be part of the negative class but are actually part of the positive class."
      ],
      "metadata": {
        "id": "TJTeYMPVs2dT"
      }
    },
    {
      "cell_type": "code",
      "source": [
        "# Load libraries\n",
        "from sklearn.model_selection import cross_val_score\n",
        "from sklearn.linear_model import LogisticRegression\n",
        "from sklearn.datasets import make_classification\n",
        "# Generate features matrix and target vector\n",
        "X, y = make_classification(n_samples = 10000,\n",
        "                            n_features = 3,\n",
        "                            n_informative = 3,\n",
        "                            n_redundant = 0,\n",
        "                            n_classes = 2,\n",
        "                            random_state = 1)\n",
        "# Create logistic regression\n",
        "logit = LogisticRegression()\n",
        "# Cross-validate model using accuracy\n",
        "cross_val_score(logit, X, y, scoring=\"accuracy\")"
      ],
      "metadata": {
        "colab": {
          "base_uri": "https://localhost:8080/"
        },
        "id": "cGMx4mviuWJc",
        "outputId": "5e311fb4-08f4-4a65-c210-69bda6447eaa"
      },
      "execution_count": 33,
      "outputs": [
        {
          "output_type": "execute_result",
          "data": {
            "text/plain": [
              "array([0.9555, 0.95  , 0.9585, 0.9555, 0.956 ])"
            ]
          },
          "metadata": {},
          "execution_count": 33
        }
      ]
    },
    {
      "cell_type": "markdown",
      "source": [
        "The appeal of accuracy is that it has an intuitive and plain English explanation:\n",
        "\n",
        "the proportion of observations predicted correctly. However, in the real world, often our data has imbalanced classes (e.g., the 99.9% of observations are of class 1 and only 0.1% are class 2). When in the presence of imbalanced classes, accuracy suffers from a paradox where a model is highly accurate but lacks predictive power. For this reason, we are often motivated to use other metrics such as precision, recall, and the F1 score.\n",
        "\n",
        "**Precision** is the proportion of every **observation predicted to be positive that is actually positive**. Models with high precision are pessimistic in that they predict an observation is of the\n",
        "positive class only when they are very certain about it.\n",
        "\n",
        "Precision = TP/(TP+FP)\n",
        "\n"
      ],
      "metadata": {
        "id": "kwxER2lsuixx"
      }
    },
    {
      "cell_type": "code",
      "source": [
        "# Cross-validate model using precision\n",
        "cross_val_score(logit, X, y, scoring=\"precision\")"
      ],
      "metadata": {
        "colab": {
          "base_uri": "https://localhost:8080/"
        },
        "id": "_OB2v1y4vcz_",
        "outputId": "ec1e0e32-0221-4e78-854c-486da1189d2f"
      },
      "execution_count": 34,
      "outputs": [
        {
          "output_type": "execute_result",
          "data": {
            "text/plain": [
              "array([0.95963673, 0.94820717, 0.9635996 , 0.96149949, 0.96060606])"
            ]
          },
          "metadata": {},
          "execution_count": 34
        }
      ]
    },
    {
      "cell_type": "markdown",
      "source": [
        "**Recall** is the proportion of every **positive observation that is truly positive**. Recall measures the model's ability to identify an observation of the positive class.\n",
        "Models with high recall are optimistic in that they have a low bar for predicting that an observation is in the positive class:\n",
        "\n",
        "Recall = TP/(TP+FN)"
      ],
      "metadata": {
        "id": "0WlvdbrHvgFd"
      }
    },
    {
      "cell_type": "code",
      "source": [
        "# Cross-validate model using recall\n",
        "cross_val_score(logit, X, y, scoring=\"recall\")"
      ],
      "metadata": {
        "colab": {
          "base_uri": "https://localhost:8080/"
        },
        "id": "C863fqRewMmw",
        "outputId": "d26c1cbe-d257-456d-d125-5a7f8b2b5e4d"
      },
      "execution_count": 35,
      "outputs": [
        {
          "output_type": "execute_result",
          "data": {
            "text/plain": [
              "array([0.951, 0.952, 0.953, 0.949, 0.951])"
            ]
          },
          "metadata": {},
          "execution_count": 35
        }
      ]
    },
    {
      "cell_type": "markdown",
      "source": [
        "The **F1 score** is the harmonic mean (a kind of average used for ratios):\n",
        "\n",
        "F1 = 2 * ((Precision*Recall)/(Precision+Recall))\n",
        "\n",
        "**This score is a measure of correctness achieved in positive prediction—that is, of observations labeled as positive, how many are actually positive**"
      ],
      "metadata": {
        "id": "rMpztexEwTwX"
      }
    },
    {
      "cell_type": "code",
      "source": [
        "# Cross-validate model using F1\n",
        "cross_val_score(logit, X, y, scoring=\"f1\")"
      ],
      "metadata": {
        "colab": {
          "base_uri": "https://localhost:8080/"
        },
        "id": "tUWXhdfywk2x",
        "outputId": "660dbe7b-c458-487f-c6fc-99cab736a6e5"
      },
      "execution_count": 36,
      "outputs": [
        {
          "output_type": "execute_result",
          "data": {
            "text/plain": [
              "array([0.95529884, 0.9500998 , 0.95827049, 0.95520886, 0.95577889])"
            ]
          },
          "metadata": {},
          "execution_count": 36
        }
      ]
    },
    {
      "cell_type": "code",
      "source": [
        "\"\"\"\n",
        "As an alternative to using cross_val_score, if we already have the true y values and\n",
        "the predicted y values, we can calculate the metrics accuracy and recall directly:\n",
        "# Load libraries\n",
        "\"\"\"\n",
        "from sklearn.model_selection import train_test_split\n",
        "from sklearn.metrics import accuracy_score\n",
        "# Create training and test split\n",
        "X_train, X_test, y_train, y_test = train_test_split(X,\n",
        "y,\n",
        "test_size=0.1,\n",
        "random_state=1)\n",
        "# Predict values for training target vector\n",
        "y_hat = logit.fit(X_train, y_train).predict(X_test)\n",
        "# Calculate accuracy\n",
        "accuracy_score(y_test, y_hat)"
      ],
      "metadata": {
        "colab": {
          "base_uri": "https://localhost:8080/"
        },
        "id": "RG2diIJEwyn_",
        "outputId": "081d5cf1-2d7f-4413-f0d8-68758c96aa27"
      },
      "execution_count": 37,
      "outputs": [
        {
          "output_type": "execute_result",
          "data": {
            "text/plain": [
              "0.947"
            ]
          },
          "metadata": {},
          "execution_count": 37
        }
      ]
    },
    {
      "cell_type": "markdown",
      "source": [
        "## Evaluating Binary Classifier Thresholds"
      ],
      "metadata": {
        "id": "7hAZrYd2w4Wb"
      }
    },
    {
      "cell_type": "markdown",
      "source": [
        "You want to evaluate a binary classifier and various probability thresholds.\n",
        "\n",
        "Use the **receiver operating characteristic (ROC)** curve to evaluate the quality of the\n",
        "binary classifier.\n",
        "\n",
        "In scikit-learn, we can use roc_curve to calculate the true and false\n",
        "positives at each threshold, and then plot them"
      ],
      "metadata": {
        "id": "nXPLa6LJw9D5"
      }
    },
    {
      "cell_type": "code",
      "source": [
        "# Load libraries\n",
        "import matplotlib.pyplot as plt\n",
        "from sklearn.datasets import make_classification\n",
        "from sklearn.linear_model import LogisticRegression\n",
        "from sklearn.metrics import roc_curve, roc_auc_score\n",
        "from sklearn.model_selection import train_test_split\n",
        "\n",
        "# Create feature matrix and target vector\n",
        "features, target = make_classification(n_samples=10000,\n",
        "                                        n_features=10,\n",
        "                                        n_classes=2,\n",
        "                                        n_informative=3,\n",
        "                                        random_state=3)\n",
        "# Split into training and test sets\n",
        "features_train, features_test, target_train, target_test = train_test_split(\n",
        "features, target, test_size=0.1, random_state=1)\n",
        "\n",
        "# Create classifier\n",
        "logit = LogisticRegression()\n",
        "# Train model\n",
        "logit.fit(features_train, target_train)\n",
        "\"\"\"\n",
        " --- Get predicted probabilities ---\n",
        " For ROC curves, you need the predicted *probability* that a data point\n",
        " belongs to the POSITIVE class, not just the predicted class label (0 or 1).\n",
        " logit.predict_proba(features_test):\n",
        "   This method is available for many Scikit-learn classifiers. It returns\n",
        "   the predicted probability for each class, for every sample in the input (features_test).\n",
        "   For binary classification (2 classes), it returns a NumPy array of shape (n_samples_in_test, 2).\n",
        "   - The first column (index 0) contains the probability of the sample belonging to class 0.\n",
        "   - The second column (index 1) contains the probability of the sample belonging to class 1 (the positive class).\n",
        " [:,1]: This is NumPy slicing. It selects ALL rows (:) and ONLY the column at index 1.\n",
        "        This extracts the array of predicted probabilities for the positive class (class 1).\n",
        "target_probabilities = logit.predict_proba(features_test)[:,1]\n",
        "\n",
        "'target_probabilities' is now a 1D NumPy array of shape (n_samples_in_test,)\n",
        "# where each value is the model's predicted probability that the corresponding\n",
        "# sample in features_test belongs to class 1.\n",
        "\"\"\"\n",
        "\n",
        "# Get predicted probabilities\n",
        "target_probabilities = logit.predict_proba(features_test)[:,1]\n",
        "\n",
        "# Create true and false positive rates\n",
        "false_positive_rate, true_positive_rate, threshold = roc_curve(\n",
        "                                                                target_test,\n",
        "                                                                target_probabilities\n",
        "                                                                )\n",
        "# Plot ROC curve\n",
        "plt.title(\"Receiver Operating Characteristic\")\n",
        "plt.plot(false_positive_rate, true_positive_rate)\n",
        "#  [0, 1] is plotting the point where x=0, y=0 and the point where x=1, y=1.\n",
        "plt.plot([0, 1], ls=\"--\")\n",
        "# [0, 0]: These are the x-coordinates (x=0 for both points).\n",
        "# [1, 0]: These are the y-coordinates (y=1 for the first point, y=0 for the second).\n",
        "# This draws a line connecting the point (0, 1) to the point (0, 0).\n",
        "# This is the left edge of the ROC plot square\n",
        "plt.plot([0, 0], [1, 0] , c=\".7\"), plt.plot([1, 1] , c=\".7\")\n",
        "plt.ylabel(\"True Positive Rate\")\n",
        "plt.xlabel(\"False Positive Rate\")\n",
        "plt.show()"
      ],
      "metadata": {
        "colab": {
          "base_uri": "https://localhost:8080/",
          "height": 472
        },
        "id": "aFXuR6Fhw7aB",
        "outputId": "7aff39e0-b39d-45e8-d282-489190285abf"
      },
      "execution_count": 38,
      "outputs": [
        {
          "output_type": "display_data",
          "data": {
            "text/plain": [
              "<Figure size 640x480 with 1 Axes>"
            ],
            "image/png": "[encoded data removed]"
          },
          "metadata": {}
        }
      ]
    },
    {
      "cell_type": "code",
      "source": [
        "logit.predict_proba(features_test)"
      ],
      "metadata": {
        "colab": {
          "base_uri": "https://localhost:8080/"
        },
        "id": "RuE9LZUX1Chr",
        "outputId": "fe142b91-632a-4d20-f30a-c7bc1e348d73"
      },
      "execution_count": 39,
      "outputs": [
        {
          "output_type": "execute_result",
          "data": {
            "text/plain": [
              "array([[0.8689235 , 0.1310765 ],\n",
              "       [0.46319939, 0.53680061],\n",
              "       [0.03395453, 0.96604547],\n",
              "       ...,\n",
              "       [0.46719807, 0.53280193],\n",
              "       [0.67451725, 0.32548275],\n",
              "       [0.16097517, 0.83902483]])"
            ]
          },
          "metadata": {},
          "execution_count": 39
        }
      ]
    },
    {
      "cell_type": "code",
      "source": [
        "\"\"\"\n",
        "Until now we have only examined models based on the values they predict. However,\n",
        "in many learning algorithms, those predicted values are based on probability estimates.\n",
        "That is, each observation is given an explicit probability of belonging in each\n",
        "class. In our solution, we can use predict_proba to see the predicted probabilities for\n",
        "the first observation:\n",
        "\"\"\"\n",
        "# Get predicted probabilities\n",
        "logit.predict_proba(features_test)[0:1]\n",
        "\n",
        "\"\"\"\n",
        "In this example, the first observation has an ~87% chance of being in the negative\n",
        "class (0) and a 13% chance of being in the positive class (1)\n",
        "\"\"\""
      ],
      "metadata": {
        "colab": {
          "base_uri": "https://localhost:8080/",
          "height": 53
        },
        "id": "5Nq98_lJ03qY",
        "outputId": "7f4ec6c1-9ba4-48f6-832e-71fd2151945d"
      },
      "execution_count": 40,
      "outputs": [
        {
          "output_type": "execute_result",
          "data": {
            "text/plain": [
              "'\\nIn this example, the first observation has an ~87% chance of being in the negative\\nclass (0) and a 13% chance of being in the positive class (1)\\n'"
            ],
            "application/vnd.google.colaboratory.intrinsic+json": {
              "type": "string"
            }
          },
          "metadata": {},
          "execution_count": 40
        }
      ]
    },
    {
      "cell_type": "code",
      "source": [
        "#We can see the classes using classes_:\n",
        "logit.classes_"
      ],
      "metadata": {
        "colab": {
          "base_uri": "https://localhost:8080/"
        },
        "id": "Vd1oIZmn09y0",
        "outputId": "d9d2f54c-95aa-4393-a766-4839ef3fc670"
      },
      "execution_count": 41,
      "outputs": [
        {
          "output_type": "execute_result",
          "data": {
            "text/plain": [
              "array([0, 1])"
            ]
          },
          "metadata": {},
          "execution_count": 41
        }
      ]
    },
    {
      "cell_type": "markdown",
      "source": [
        "The **TPR - True Positive Rate** is the number of observations correctly predicted true\n",
        "divided by all true positive observations:\n",
        "\n",
        "TPR = TP/(TP+FN)\n",
        "\n",
        "The **FPR - False Positive Rate** is the number of incorrectly predicted positives divided by all true negative\n",
        "observations:\n",
        "\n",
        "FPR = FP/(FP+TN)\n",
        "\n",
        "The ROC curve represents the respective TPR and FPR for every probability threshold.\n",
        "For example, in our solution a threshold of roughly 0.50 has a TPR of ~0.83 and an FPR of ~0.16"
      ],
      "metadata": {
        "id": "cT1KYOSR1mKf"
      }
    },
    {
      "cell_type": "code",
      "source": [
        "print(\"Threshold:\", threshold[124])\n",
        "print(\"True Positive Rate:\", true_positive_rate[124])\n",
        "print(\"False Positive Rate:\", false_positive_rate[124])"
      ],
      "metadata": {
        "colab": {
          "base_uri": "https://localhost:8080/"
        },
        "id": "EzHgp3y82CIW",
        "outputId": "679b47aa-8ef2-4980-b61c-b92a35d3928a"
      },
      "execution_count": 42,
      "outputs": [
        {
          "output_type": "stream",
          "name": "stdout",
          "text": [
            "Threshold: 0.4981509475208573\n",
            "True Positive Rate: 0.8367346938775511\n",
            "False Positive Rate: 0.1627450980392157\n"
          ]
        }
      ]
    },
    {
      "cell_type": "code",
      "source": [
        "\"\"\"\n",
        "However, if we increase the threshold to ~80% (i.e., increase how certain the model\n",
        "has to be before it predicts an observation as positive) the TPR drops significantly but\n",
        "so does the FPR:\n",
        "\"\"\"\n",
        "print(\"Threshold:\", threshold[49])\n",
        "print(\"True Positive Rate:\", true_positive_rate[49])\n",
        "print(\"False Positive Rate:\", false_positive_rate[49])\n",
        "\n",
        "\"\"\"\n",
        "This is because our higher requirement for being predicted to be in the positive class\n",
        "has caused the model to not identify a number of positive observations (the lower\n",
        "TPR) but has also reduced the noise from negative observations being predicted as\n",
        "positive (the lower FPR).\n",
        "\"\"\""
      ],
      "metadata": {
        "colab": {
          "base_uri": "https://localhost:8080/",
          "height": 140
        },
        "id": "Nk7lS_3J2KuL",
        "outputId": "66757e69-bbeb-4437-f16b-0a115d4f3062"
      },
      "execution_count": 43,
      "outputs": [
        {
          "output_type": "stream",
          "name": "stdout",
          "text": [
            "Threshold: 0.8058635463651345\n",
            "True Positive Rate: 0.5653061224489796\n",
            "False Positive Rate: 0.052941176470588235\n"
          ]
        },
        {
          "output_type": "execute_result",
          "data": {
            "text/plain": [
              "'\\nThis is because our higher requirement for being predicted to be in the positive class\\nhas caused the model to not identify a number of positive observations (the lower\\nTPR) but has also reduced the noise from negative observations being predicted as\\npositive (the lower FPR).\\n'"
            ],
            "application/vnd.google.colaboratory.intrinsic+json": {
              "type": "string"
            }
          },
          "metadata": {},
          "execution_count": 43
        }
      ]
    },
    {
      "cell_type": "code",
      "source": [
        "\"\"\"\n",
        "In addition to being able to visualize the trade-off between TPR and FPR, the ROC\n",
        "curve can also be used as a general metric for a model. The better a model is, the\n",
        "higher the curve and thus the greater the area under the curve. For this reason, it\n",
        "is common to calculate the area under the ROC curve (AUC ROC) to judge the\n",
        "overall quality of a model at all possible thresholds. The closer the AUC ROC is\n",
        "to 1, the better the model. In scikit-learn we can calculate the AUC ROC using\n",
        "roc_auc_score\n",
        "\"\"\"\n",
        "# Calculate area under curve\n",
        "roc_auc_score(target_test, target_probabilities)"
      ],
      "metadata": {
        "colab": {
          "base_uri": "https://localhost:8080/"
        },
        "id": "Ma4A_ukz2Zg8",
        "outputId": "146bfd58-3961-46c7-d6ff-fefdc602dacd"
      },
      "execution_count": 44,
      "outputs": [
        {
          "output_type": "execute_result",
          "data": {
            "text/plain": [
              "np.float64(0.9073429371748699)"
            ]
          },
          "metadata": {},
          "execution_count": 44
        }
      ]
    },
    {
      "cell_type": "markdown",
      "source": [
        "## Evaluating Multiclass Classifier Predictions"
      ],
      "metadata": {
        "id": "MGTL8Ksl3gFR"
      }
    },
    {
      "cell_type": "code",
      "source": [
        "# Load libraries\n",
        "from sklearn.model_selection import cross_val_score\n",
        "from sklearn.linear_model import LogisticRegression\n",
        "from sklearn.datasets import make_classification\n",
        "# Generate features matrix and target vector\n",
        "features, target = make_classification(n_samples = 10000,\n",
        "n_features = 3,\n",
        "n_informative = 3,\n",
        "n_redundant = 0,\n",
        "n_classes = 3,\n",
        "random_state = 1)\n",
        "# Create logistic regression\n",
        "logit = LogisticRegression()\n",
        "# Cross-validate model using accuracy\n",
        "cross_val_score(logit, features, target, scoring='accuracy')\n"
      ],
      "metadata": {
        "colab": {
          "base_uri": "https://localhost:8080/"
        },
        "id": "3xXuM-YX3myQ",
        "outputId": "41581604-f33d-4730-b3f5-c940d322b85d"
      },
      "execution_count": 45,
      "outputs": [
        {
          "output_type": "execute_result",
          "data": {
            "text/plain": [
              "array([0.8405, 0.829 , 0.827 , 0.8155, 0.8205])"
            ]
          },
          "metadata": {},
          "execution_count": 45
        }
      ]
    },
    {
      "cell_type": "code",
      "source": [
        "\"\"\"\n",
        "Precision, recall, and F1 scores are useful metrics that we have already covered in\n",
        "detail in previous recipes. While all of them were originally designed for binary\n",
        "classifiers, we can apply them to multiclass settings by treating our data as a set of\n",
        "binary classes. Doing so enables us to apply the metrics to each class as if it were the\n",
        "only class in the data, and then aggregate the evaluation scores for all the classes by\n",
        "averaging them:\n",
        "\n",
        "In this code, macro refers to the method used to average the evaluation scores from\n",
        "the classes. The options are macro, weighted, and micro:\n",
        "macro : Calculate the mean of metric scores for each class, weighting each class equally.\n",
        "weighted : Calculate the mean of metric scores for each class, weighting each class proportional\n",
        "to its size in the data.\n",
        "micro : Calculate the mean of metric scores for each observation-class combination.\n",
        "\"\"\"\n",
        "# Cross-validate model using macro averaged F1 score\n",
        "cross_val_score(logit, features, target, scoring='f1_macro')"
      ],
      "metadata": {
        "colab": {
          "base_uri": "https://localhost:8080/"
        },
        "id": "0Vo9KoDV4qKa",
        "outputId": "06cbd0d4-ab63-4955-9dfe-c7eb8f87b358"
      },
      "execution_count": 46,
      "outputs": [
        {
          "output_type": "execute_result",
          "data": {
            "text/plain": [
              "array([0.84012014, 0.82895312, 0.82675308, 0.81515121, 0.82042629])"
            ]
          },
          "metadata": {},
          "execution_count": 46
        }
      ]
    },
    {
      "cell_type": "markdown",
      "source": [
        "## Visualizing a Classifier’s Performance"
      ],
      "metadata": {
        "id": "yX0b_9Rs5DCX"
      }
    },
    {
      "cell_type": "code",
      "source": [
        "import matplotlib.pyplot as plt\n",
        "import seaborn as sns\n",
        "from sklearn import datasets\n",
        "from sklearn.linear_model import LogisticRegression\n",
        "from sklearn.model_selection import train_test_split\n",
        "from sklearn.metrics import confusion_matrix\n",
        "import pandas as pd\n",
        "# Load data\n",
        "iris = datasets.load_iris()\n",
        "# Create features matrix\n",
        "features = iris.data\n",
        "# Create target vector\n",
        "target = iris.target\n",
        "# Create list of target class names\n",
        "class_names = iris.target_names\n",
        "# Create training and test set\n",
        "features_train, features_test, target_train, target_test = train_test_split(features, target, random_state=2)\n",
        "# Create logistic regression\n",
        "classifier = LogisticRegression()\n",
        "# Train model and make predictions\n",
        "target_predicted = classifier.fit(features_train,target_train).predict(features_test)\n",
        "# Create confusion matrix\n",
        "matrix = confusion_matrix(target_test, target_predicted)\n",
        "# Create pandas dataframe\n",
        "dataframe = pd.DataFrame(matrix, index=class_names, columns=class_names)\n",
        "# Create heatmap\n",
        "sns.heatmap(dataframe, annot=True, cbar=None, cmap=\"Blues\")\n",
        "plt.title(\"Confusion Matrix\"), plt.tight_layout()\n",
        "plt.ylabel(\"True Class\"), plt.xlabel(\"Predicted Class\")\n",
        "plt.show()"
      ],
      "metadata": {
        "colab": {
          "base_uri": "https://localhost:8080/",
          "height": 506
        },
        "id": "xDzFpM_A5FIY",
        "outputId": "6d4696c9-c49a-4794-9968-0232dc86be99"
      },
      "execution_count": 47,
      "outputs": [
        {
          "output_type": "display_data",
          "data": {
            "text/plain": [
              "<Figure size 640x480 with 1 Axes>"
            ],
            "image/png": "[encoded data removed]"
          },
          "metadata": {}
        }
      ]
    },
    {
      "cell_type": "markdown",
      "source": [
        "## Evaluating Regression Models"
      ],
      "metadata": {
        "id": "PEnR9qyb6L-P"
      }
    },
    {
      "cell_type": "code",
      "source": [
        "# Load libraries\n",
        "from sklearn.datasets import make_regression\n",
        "from sklearn.model_selection import cross_val_score\n",
        "from sklearn.linear_model import LinearRegression\n",
        "features, target = make_regression(n_samples = 100,\n",
        "                                  n_features = 3,\n",
        "                                  n_informative = 3,\n",
        "                                  n_targets = 1,\n",
        "                                  noise = 50,\n",
        "                                  coef = False,\n",
        "                                  random_state = 1)\n",
        "# Create a linear regression object\n",
        "ols = LinearRegression()\n",
        "# Cross-validate the linear regression using (negative) MSE\n",
        "cross_val_score(ols, features, target, scoring='neg_mean_squared_error')\n",
        "\"\"\"\n",
        "The higher the value of MSE, the greater the total squared error and thus the\n",
        "worse the model. One important note: by default, in scikit-learn, arguments of the scoring parameter\n",
        "assume that higher values are better than lower values. However, this is not the case\n",
        "for MSE, where higher values mean a worse model. For this reason, scikit-learn looks\n",
        "at the negative MSE using the neg_mean_squared_error argument.\n",
        "A common alternative regression evaluation metric is Rsquared(default)\n",
        "\"\"\""
      ],
      "metadata": {
        "colab": {
          "base_uri": "https://localhost:8080/",
          "height": 122
        },
        "id": "kAl1i7XK6Oib",
        "outputId": "e370331d-9779-43f7-8da4-7e1ff283928e"
      },
      "execution_count": 48,
      "outputs": [
        {
          "output_type": "execute_result",
          "data": {
            "text/plain": [
              "'\\nThe higher the value of MSE, the greater the total squared error and thus the\\nworse the model. One important note: by default, in scikit-learn, arguments of the scoring parameter\\nassume that higher values are better than lower values. However, this is not the case\\nfor MSE, where higher values mean a worse model. For this reason, scikit-learn looks\\nat the negative MSE using the neg_mean_squared_error argument.\\nA common alternative regression evaluation metric is Rsquared(default)\\n'"
            ],
            "application/vnd.google.colaboratory.intrinsic+json": {
              "type": "string"
            }
          },
          "metadata": {},
          "execution_count": 48
        }
      ]
    },
    {
      "cell_type": "markdown",
      "source": [
        "## Evaluating Clustering Models"
      ],
      "metadata": {
        "id": "DpuU64KR6_i7"
      }
    },
    {
      "cell_type": "code",
      "source": [
        "\"\"\"\n",
        "You have used an unsupervised learning algorithm to cluster your data. Now you\n",
        "want to know how well it did.\n",
        "Use silhouette coefficients to measure the quality of the clusters (note that this does\n",
        "not measure predictive performance):\n",
        "\"\"\"\n",
        "# Load libraries\n",
        "import numpy as np\n",
        "from sklearn.metrics import silhouette_score\n",
        "from sklearn import datasets\n",
        "from sklearn.cluster import KMeans\n",
        "from sklearn.datasets import make_blobs\n",
        "# Generate features matrix\n",
        "features, _ = make_blobs(n_samples = 1000,\n",
        "                          n_features = 10,\n",
        "                          centers = 2,\n",
        "                          cluster_std = 0.5,\n",
        "                          shuffle = True,\n",
        "                          random_state = 1)\n",
        "# Cluster data using k-means to predict classes\n",
        "model = KMeans(n_clusters=2, random_state=1).fit(features)\n",
        "# Get predicted classes\n",
        "target_predicted = model.labels_\n",
        "# Evaluate model\n",
        "silhouette_score(features, target_predicted)"
      ],
      "metadata": {
        "colab": {
          "base_uri": "https://localhost:8080/"
        },
        "id": "g2ANytOP7FtS",
        "outputId": "ee3a0f35-8e1f-458d-9e27-2257cc1b88a8"
      },
      "execution_count": 49,
      "outputs": [
        {
          "output_type": "execute_result",
          "data": {
            "text/plain": [
              "np.float64(0.8916265564072141)"
            ]
          },
          "metadata": {},
          "execution_count": 49
        }
      ]
    },
    {
      "cell_type": "markdown",
      "source": [
        "While we cannot evaluate predictions versus true values if we don’t have a target\n",
        "vector, we can evaluate the nature of the clusters themselves. Intuitively, we can\n",
        "imagine “good” clusters having very small distances between observations in the same\n",
        "cluster (i.e., dense clusters) and large distances between the different clusters (i.e.,\n",
        "well-separated clusters). Silhouette coefficients provide a single value measuring both\n",
        "traits. Formally, the ith observation’s silhouette coefficient is:\n",
        "\n",
        "S_i = (b_i - a_i)/ (max(a_i,b_i))\n",
        "\n",
        "where s_i is the silhouette coefficient for observation i, a_i is the mean distance between\n",
        "i and all observations of the same class, and b_i is the mean distance between i and\n",
        "all observations from the closest cluster of a different class. The value returned by\n",
        "silhouette_score is the mean silhouette coefficient for all observations. Silhouette\n",
        "coefficients range between –1 and 1, with 1 indicating dense, well-separated clusters."
      ],
      "metadata": {
        "id": "8j6wu07N7p3O"
      }
    },
    {
      "cell_type": "markdown",
      "source": [
        "## Creating a Custom Evaluation Metric"
      ],
      "metadata": {
        "id": "7_GJEHTc8BYC"
      }
    },
    {
      "cell_type": "code",
      "source": [
        "\"\"\"\n",
        "Create the metric as a function and convert it into a scorer function using scikitlearn’s\n",
        "make_scorer:\n",
        "\"\"\"\n",
        "from sklearn.metrics import make_scorer, r2_score\n",
        "from sklearn.model_selection import train_test_split\n",
        "from sklearn.linear_model import Ridge\n",
        "from sklearn.datasets import make_regression\n",
        "# Generate features matrix and target vector\n",
        "features, target = make_regression(n_samples = 100,\n",
        "                                  n_features = 3,\n",
        "                                  random_state = 1)\n",
        "# Create training set and test set\n",
        "features_train, features_test, target_train, target_test = train_test_split(\n",
        "features, target, test_size=0.10, random_state=1)\n",
        "\n",
        "# Create custom metric\n",
        "def custom_metric(target_test, target_predicted):\n",
        "  # Calculate R-squared score\n",
        "  r2 = r2_score(target_test, target_predicted)\n",
        "  # Return R-squared score\n",
        "  return r2\n",
        "# Make scorer and define that higher scores are better\n",
        "score = make_scorer(custom_metric, greater_is_better=True)\n",
        "# Create ridge regression object\n",
        "classifier = Ridge()\n",
        "# Train ridge regression model\n",
        "model = classifier.fit(features_train, target_train)\n",
        "# Apply custom scorer\n",
        "score(model, features_test, target_test)"
      ],
      "metadata": {
        "colab": {
          "base_uri": "https://localhost:8080/"
        },
        "id": "2RdjHkhy8Gyu",
        "outputId": "2b328c3b-8f53-4d51-c4a7-e78555315cd8"
      },
      "execution_count": 50,
      "outputs": [
        {
          "output_type": "execute_result",
          "data": {
            "text/plain": [
              "0.9997906102882058"
            ]
          },
          "metadata": {},
          "execution_count": 50
        }
      ]
    },
    {
      "cell_type": "markdown",
      "source": [
        "While scikit-learn has a number of built-in metrics for evaluating model performance,\n",
        "it is often useful to define our own metrics. scikit-learn makes this easy using\n",
        "make_scorer. First, we define a function that takes in two arguments—the ground\n",
        "truth target vector and our predicted values—and outputs some score. Second, we\n",
        "use make_scorer to create a scorer object, making sure to specify whether higher or\n",
        "lower scores are desirable (using the greater_is_better parameter).\n",
        "\n",
        "The custom metric in the solution (custom_metric) is a toy example since it simply\n",
        "wraps a built-in metric for calculating the R2 score. In a real-world situation, we\n",
        "would replace the custom_metric function with whatever custom metric we wanted.\n",
        "However, we can see that the custom metric that calculates R2 does work by comparing\n",
        "the results to scikit-learn’s r2_score built-in method:"
      ],
      "metadata": {
        "id": "YoSPE9S-8l1I"
      }
    },
    {
      "cell_type": "code",
      "source": [
        "# Predict values\n",
        "target_predicted = model.predict(features_test)\n",
        "# Calculate R-squared score\n",
        "r2_score(target_test, target_predicted)"
      ],
      "metadata": {
        "colab": {
          "base_uri": "https://localhost:8080/"
        },
        "id": "hUnWvLEI8sZp",
        "outputId": "6857a557-9816-43fd-ef19-0222e50ceff2"
      },
      "execution_count": 51,
      "outputs": [
        {
          "output_type": "execute_result",
          "data": {
            "text/plain": [
              "0.9997906102882058"
            ]
          },
          "metadata": {},
          "execution_count": 51
        }
      ]
    },
    {
      "cell_type": "markdown",
      "source": [
        "## Visualizing the Effect of Training Set Size"
      ],
      "metadata": {
        "id": "_psWMfvR8x7J"
      }
    },
    {
      "cell_type": "markdown",
      "source": [
        "Learning curves visualize the performance (e.g., accuracy, recall) of a model on the\n",
        "training set and during cross-validation as the number of observations in the training\n",
        "set increases. They are commonly used to determine if our learning algorithms would\n",
        "benefit from gathering additional training data.\n",
        "In our solution, we plot the accuracy of a random forest classifier at 50 different\n",
        "training set sizes, ranging from 1% of observations to 100%. The increasing accuracy\n",
        "score of the cross-validated models tell us that we would likely benefit from additional\n",
        "observations (although in practice this might not be feasible)."
      ],
      "metadata": {
        "id": "644poQ9c9pgN"
      }
    },
    {
      "cell_type": "code",
      "source": [
        "\"\"\"\n",
        "You want to evaluate the effect of the number of observations in your training set on\n",
        "some metric (accuracy, F1, etc.).\n",
        "\"\"\"\n",
        "# Load libraries\n",
        "import numpy as np\n",
        "import matplotlib.pyplot as plt\n",
        "from sklearn.ensemble import RandomForestClassifier\n",
        "from sklearn.datasets import load_digits\n",
        "from sklearn.model_selection import learning_curve\n",
        "# Load data\n",
        "digits = load_digits()\n",
        "# Create feature matrix and target vector\n",
        "features, target = digits.data, digits.target\n",
        "# Create CV training and test scores for various training set sizes\n",
        "train_sizes, train_scores, test_scores = learning_curve(# Classifier\n",
        "                                                        RandomForestClassifier(),\n",
        "                                                        # Feature matrix\n",
        "                                                        features,\n",
        "                                                        # Target vector\n",
        "                                                        target,\n",
        "                                                        # Number of folds\n",
        "                                                        cv=10,\n",
        "                                                        # Performance metric\n",
        "                                                        scoring='accuracy',\n",
        "                                                        # Use all computer cores\n",
        "                                                        n_jobs=-1,\n",
        "                                                        # Sizes of 50\n",
        "                                                        # Training set\n",
        "                                                        train_sizes=np.linspace(\n",
        "                                                        0.01,\n",
        "                                                        1.0,\n",
        "                                                        50))\n",
        "# Create means and standard deviations of training set scores\n",
        "train_mean = np.mean(train_scores, axis=1)\n",
        "train_std = np.std(train_scores, axis=1)\n",
        "# Create means and standard deviations of test set scores\n",
        "test_mean = np.mean(test_scores, axis=1)\n",
        "test_std = np.std(test_scores, axis=1)\n",
        "# Draw lines\n",
        "plt.plot(train_sizes, train_mean, '--', color=\"#111111\", label=\"Training score\")\n",
        "plt.plot(train_sizes, test_mean, color=\"#111111\", label=\"Cross-validation score\")\n",
        "# Draw bands\n",
        "plt.fill_between(train_sizes, train_mean - train_std,train_mean + train_std, color=\"#DDDDDD\")\n",
        "plt.fill_between(train_sizes, test_mean - test_std,test_mean + test_std, color=\"#DDDDDD\")\n",
        "# Create plot\n",
        "plt.title(\"Learning Curve\")\n",
        "plt.xlabel(\"Training Set Size\"), plt.ylabel(\"Accuracy Score\"),\n",
        "plt.legend(loc=\"best\")\n",
        "plt.tight_layout()\n",
        "plt.show()"
      ],
      "metadata": {
        "colab": {
          "base_uri": "https://localhost:8080/",
          "height": 487
        },
        "id": "Rvb9jRo080ue",
        "outputId": "71bb0cf3-48bf-4f65-fb52-705e7bb0ffcf"
      },
      "execution_count": 52,
      "outputs": [
        {
          "output_type": "display_data",
          "data": {
            "text/plain": [
              "<Figure size 640x480 with 1 Axes>"
            ],
            "image/png": "[encoded data removed]"
          },
          "metadata": {}
        }
      ]
    },
    {
      "cell_type": "markdown",
      "source": [
        "## Creating a Text Report of Evaluation Metrics"
      ],
      "metadata": {
        "id": "OoMOP2pR9t48"
      }
    },
    {
      "cell_type": "code",
      "source": [
        "# You want a quick description of a classifier’s performance\n",
        "\"\"\"\n",
        "classification_report provides a quick means for us to see some common evaluation\n",
        "metrics, including precision, recall, and F1 score\n",
        "\"\"\"\n",
        "# Load libraries\n",
        "from sklearn import datasets\n",
        "from sklearn.linear_model import LogisticRegression\n",
        "from sklearn.model_selection import train_test_split\n",
        "from sklearn.metrics import classification_report\n",
        "# Load data\n",
        "iris = datasets.load_iris()\n",
        "# Create features matrix\n",
        "features = iris.data\n",
        "# Create target vector\n",
        "target = iris.target\n",
        "# Create list of target class names\n",
        "class_names = iris.target_names\n",
        "# Create training and test set\n",
        "features_train, features_test, target_train, target_test = train_test_split(\n",
        "features, target, random_state=0)\n",
        "# Create logistic regression\n",
        "classifier = LogisticRegression()\n",
        "# Train model and make predictions\n",
        "model = classifier.fit(features_train, target_train)\n",
        "target_predicted = model.predict(features_test)\n",
        "# Create a classification report\n",
        "print(classification_report(target_test,\n",
        "target_predicted,\n",
        "target_names=class_names))"
      ],
      "metadata": {
        "colab": {
          "base_uri": "https://localhost:8080/"
        },
        "id": "jU0gISP_95_T",
        "outputId": "8b4631e7-19d9-4a50-fed2-1475fa99738b"
      },
      "execution_count": 53,
      "outputs": [
        {
          "output_type": "stream",
          "name": "stdout",
          "text": [
            "              precision    recall  f1-score   support\n",
            "\n",
            "      setosa       1.00      1.00      1.00        13\n",
            "  versicolor       1.00      0.94      0.97        16\n",
            "   virginica       0.90      1.00      0.95         9\n",
            "\n",
            "    accuracy                           0.97        38\n",
            "   macro avg       0.97      0.98      0.97        38\n",
            "weighted avg       0.98      0.97      0.97        38\n",
            "\n"
          ]
        }
      ]
    },
    {
      "cell_type": "markdown",
      "source": [
        "## Visualizing the Effect of Hyperparameter Values"
      ],
      "metadata": {
        "id": "uzQkIjWW-M-2"
      }
    },
    {
      "cell_type": "code",
      "source": [
        "\"\"\"\n",
        "You want to understand how the performance of a model changes as the value of\n",
        "some hyperparameter changes\n",
        "\"\"\"\n",
        "# Load libraries\n",
        "import matplotlib.pyplot as plt\n",
        "import numpy as np\n",
        "from sklearn.datasets import load_digits\n",
        "from sklearn.ensemble import RandomForestClassifier\n",
        "from sklearn.model_selection import validation_curve\n",
        "# Load data\n",
        "digits = load_digits()\n",
        "# Create feature matrix and target vector\n",
        "features, target = digits.data, digits.target\n",
        "# Create range of values for parameter\n",
        "param_range = np.arange(1, 250, 2)\n",
        "# Calculate accuracy on training and test set using range of parameter values\n",
        "train_scores, test_scores = validation_curve(\n",
        "                                              # Classifier\n",
        "                                              RandomForestClassifier(),\n",
        "                                              # Feature matrix\n",
        "                                              features,\n",
        "                                              # Target vector\n",
        "                                              target,\n",
        "                                              # Hyperparameter to examine\n",
        "                                              param_name=\"n_estimators\",\n",
        "                                              # Range of hyperparameter's values\n",
        "                                              param_range=param_range,\n",
        "                                              # Number of folds\n",
        "                                              cv=3,\n",
        "                                              # Performance metric\n",
        "                                              scoring=\"accuracy\",\n",
        "                                              # Use all computer cores\n",
        "                                              n_jobs=-1)\n",
        "# Calculate mean and standard deviation for training set scores\n",
        "train_mean = np.mean(train_scores, axis=1)\n",
        "train_std = np.std(train_scores, axis=1)\n",
        "# Calculate mean and standard deviation for test set scores\n",
        "test_mean = np.mean(test_scores, axis=1)\n",
        "test_std = np.std(test_scores, axis=1)\n",
        "# Plot mean accuracy scores for training and test sets\n",
        "plt.plot(param_range, train_mean, label=\"Training score\", color=\"black\")\n",
        "plt.plot(param_range, test_mean, label=\"Cross-validation score\",\n",
        "color=\"dimgrey\")\n",
        "# Plot accuracy bands for training and test sets\n",
        "plt.fill_between(param_range, train_mean - train_std,train_mean + train_std, color=\"gray\")\n",
        "plt.fill_between(param_range, test_mean - test_std,test_mean + test_std, color=\"gainsboro\")\n",
        "# Create plot\n",
        "plt.title(\"Validation Curve With Random Forest\")\n",
        "plt.xlabel(\"Number Of Trees\")\n",
        "plt.ylabel(\"Accuracy Score\")\n",
        "plt.tight_layout()\n",
        "plt.legend(loc=\"best\")\n",
        "plt.show()"
      ],
      "metadata": {
        "colab": {
          "base_uri": "https://localhost:8080/",
          "height": 487
        },
        "id": "l27dN1uo-PxD",
        "outputId": "447f6760-c297-430c-8098-e274fad08528"
      },
      "execution_count": 54,
      "outputs": [
        {
          "output_type": "display_data",
          "data": {
            "text/plain": [
              "<Figure size 640x480 with 1 Axes>"
            ],
            "image/png": "[encoded data removed]"
          },
          "metadata": {}
        }
      ]
    },
    {
      "cell_type": "markdown",
      "source": [
        "it is occasionally useful to visualize how\n",
        "model performance changes as the hyperparameter value changes. In our solution,\n",
        "we plot the changes in accuracy for a random forest classifier for the training set\n",
        "and during cross-validation as the number of trees increases. When we have a small\n",
        "number of trees, both the training and cross-validation score are low, suggesting the\n",
        "model is underfitted. As the number of trees increases to 250, the accuracy of both\n",
        "levels off, suggesting there is probably not much value in the computational cost of\n",
        "training a massive forest.\n",
        "\n",
        "In scikit-learn, we can calculate the validation curve using validation_curve, which\n",
        "contains three important parameters:\n",
        "\n",
        "*param_name* : Name of the hyperparameter to vary\n",
        "\n",
        "*param_range*: Value of the hyperparameter to use\n",
        "\n",
        "*scoring* : Evaluation metric used to judge to model"
      ],
      "metadata": {
        "id": "1QfLGFsh_Buf"
      }
    },
    {
      "cell_type": "markdown",
      "source": [
        "# **Model Selection**"
      ],
      "metadata": {
        "id": "bB_o6MuF_RPP"
      }
    },
    {
      "cell_type": "markdown",
      "source": [
        "Many learning algorithms (e.g., support\n",
        "vector classifier and random forests) have additional hyperparameters that are defined\n",
        "by the user and affect how the model will learn its parameters. As we mentioned earlier\n",
        "in the book, parameters (also sometimes called model weights) are what models\n",
        "learn during the training process, whereas hyperparameters are provided manually by\n",
        "us (the users).\n",
        "\n",
        "For example, random forests are collections of decision trees (hence the word forest);\n",
        "however, the number of decision trees in the forest is not learned by the algorithm\n",
        "and must be set prior to fitting. This is often referred to as hyperparameter tuning,\n",
        "hyperparameter optimization, or model selection.\n"
      ],
      "metadata": {
        "id": "uOZQ5OGH_1vo"
      }
    },
    {
      "cell_type": "markdown",
      "source": [
        "## Selecting the Best Models Using Exhaustive Search"
      ],
      "metadata": {
        "id": "fbzh3LNVASax"
      }
    },
    {
      "cell_type": "code",
      "source": [
        "# You want to select the best model by searching over a range of hyperparameters\n",
        "\n",
        "# Load libraries\n",
        "import numpy as np\n",
        "from sklearn import linear_model, datasets\n",
        "from sklearn.model_selection import GridSearchCV\n",
        "# Load data\n",
        "iris = datasets.load_iris()\n",
        "features = iris.data\n",
        "target = iris.target\n",
        "# Create logistic regression\n",
        "logistic = linear_model.LogisticRegression(max_iter=500, solver='liblinear')\n",
        "# Create range of candidate penalty hyperparameter values\n",
        "penalty = ['l1','l2']\n",
        "# Create range of candidate regularization hyperparameter values\n",
        "C = np.logspace(0, 4, 10)\n",
        "# Create dictionary of hyperparameter candidates\n",
        "hyperparameters = dict(C=C, penalty=penalty)\n",
        "# Create grid search\n",
        "gridsearch = GridSearchCV(logistic, hyperparameters, cv=5, verbose=0)\n",
        "# Fit grid search\n",
        "best_model = gridsearch.fit(features, target)\n",
        "# Show the best model\n",
        "print(best_model.best_estimator_)"
      ],
      "metadata": {
        "colab": {
          "base_uri": "https://localhost:8080/"
        },
        "id": "2GQNEr1F_r96",
        "outputId": "cff79620-83a8-47a3-d715-3f08f0a93d91"
      },
      "execution_count": 55,
      "outputs": [
        {
          "output_type": "stream",
          "name": "stdout",
          "text": [
            "LogisticRegression(C=np.float64(7.742636826811269), max_iter=500, penalty='l1',\n",
            "                   solver='liblinear')\n"
          ]
        }
      ]
    },
    {
      "cell_type": "markdown",
      "source": [
        "GridSearchCV is a brute-force approach to model selection using cross-validation.\n",
        "Specifically, a user defines sets of possible values for one or multiple hyperparameters,\n",
        "and then GridSearchCV trains a model using every value and/or combination of\n",
        "values. The model with the best performance score is selected as the best model.\n",
        "\n",
        "we define two possible values for the regularization penalty: ['l1', 'l2'].\n",
        "For each combination of C and regularization penalty values, we train the model\n",
        "and evaluate it using k-fold cross-validation. In our solution, we have 10 possible\n",
        "values of C, 2 possible values of regularization penalty, and 5 folds. They create\n",
        "10 × 2 × 5 = 100 candidate models, from which the best is selected."
      ],
      "metadata": {
        "id": "ReJThyJCA1zU"
      }
    },
    {
      "cell_type": "code",
      "source": [
        "# View best hyperparameters\n",
        "print('Best Penalty:', best_model.best_estimator_.get_params()['penalty'])\n",
        "print('Best C:', best_model.best_estimator_.get_params()['C'])"
      ],
      "metadata": {
        "colab": {
          "base_uri": "https://localhost:8080/"
        },
        "id": "ORqfl0hLBONj",
        "outputId": "cc83c1bc-934c-443c-c92e-5abcab62ff40"
      },
      "execution_count": 56,
      "outputs": [
        {
          "output_type": "stream",
          "name": "stdout",
          "text": [
            "Best Penalty: l1\n",
            "Best C: 7.742636826811269\n"
          ]
        }
      ]
    },
    {
      "cell_type": "code",
      "source": [
        "\"\"\"\n",
        "By default, after identifying the best hyperparameters, GridSearchCV will retrain a\n",
        "model using the best hyperparameters on the entire dataset (rather than leaving a\n",
        "fold out for cross-validation). We can use this model to predict values like any other\n",
        "scikit-learn model:\n",
        "verbose : 0 showing no output, and 1 to 3 outputting additional messages.\n",
        "\"\"\"\n",
        "# Predict target vector\n",
        "best_model.predict(features)"
      ],
      "metadata": {
        "colab": {
          "base_uri": "https://localhost:8080/"
        },
        "id": "YPYyeqasBWF2",
        "outputId": "4dd04c35-5948-4105-fd69-ad5faf16deed"
      },
      "execution_count": 57,
      "outputs": [
        {
          "output_type": "execute_result",
          "data": {
            "text/plain": [
              "array([0, 0, 0, 0, 0, 0, 0, 0, 0, 0, 0, 0, 0, 0, 0, 0, 0, 0, 0, 0, 0, 0,\n",
              "       0, 0, 0, 0, 0, 0, 0, 0, 0, 0, 0, 0, 0, 0, 0, 0, 0, 0, 0, 0, 0, 0,\n",
              "       0, 0, 0, 0, 0, 0, 1, 1, 1, 1, 1, 1, 1, 1, 1, 1, 1, 1, 1, 1, 1, 1,\n",
              "       1, 1, 1, 1, 2, 1, 1, 1, 1, 1, 1, 1, 1, 1, 1, 1, 1, 2, 1, 1, 1, 1,\n",
              "       1, 1, 1, 1, 1, 1, 1, 1, 1, 1, 1, 1, 2, 2, 2, 2, 2, 2, 2, 2, 2, 2,\n",
              "       2, 2, 2, 2, 2, 2, 2, 2, 2, 2, 2, 2, 2, 2, 2, 2, 2, 2, 2, 2, 2, 2,\n",
              "       2, 1, 2, 2, 2, 2, 2, 2, 2, 2, 2, 2, 2, 2, 2, 2, 2, 2])"
            ]
          },
          "metadata": {},
          "execution_count": 57
        }
      ]
    },
    {
      "cell_type": "markdown",
      "source": [
        "## Selecting the Best Models Using Randomized Search"
      ],
      "metadata": {
        "id": "QTxHm9DCBl2T"
      }
    },
    {
      "cell_type": "code",
      "source": [
        "# You want a computationally cheaper method than exhaustive search to select the best model.\n",
        "\"\"\"\n",
        "search over a specific number\n",
        "of random combinations of hyperparameter values from user-supplied distributions\n",
        "(e.g., normal, uniform). scikit-learn implements this randomized search technique\n",
        "with RandomizedSearchCV.\n",
        "\"\"\"\n",
        "from scipy.stats import uniform\n",
        "from sklearn import linear_model, datasets\n",
        "from sklearn.model_selection import RandomizedSearchCV\n",
        "# Load data\n",
        "iris = datasets.load_iris()\n",
        "features = iris.data\n",
        "target = iris.target\n",
        "# Create logistic regression\n",
        "logistic = linear_model.LogisticRegression(max_iter=500, solver='liblinear')\n",
        "# Create range of candidate regularization penalty hyperparameter values\n",
        "penalty = ['l1', 'l2']\n",
        "# Create distribution of candidate regularization hyperparameter values\n",
        "C = uniform(loc=0, scale=4)\n",
        "# Create hyperparameter options\n",
        "hyperparameters = dict(C=C, penalty=penalty)\n",
        "# Create randomized search\n",
        "randomizedsearch = RandomizedSearchCV(logistic,\n",
        "                                      hyperparameters,\n",
        "                                      random_state=1,\n",
        "                                      n_iter=100,\n",
        "                                      cv=5,\n",
        "                                      verbose=0,\n",
        "                                      n_jobs=-1)\n",
        "# Fit randomized search\n",
        "best_model = randomizedsearch.fit(features, target)\n",
        "# Print best model\n",
        "print(best_model.best_estimator_)"
      ],
      "metadata": {
        "colab": {
          "base_uri": "https://localhost:8080/"
        },
        "id": "dhGuJzaBBssL",
        "outputId": "ad185970-7cfb-447b-e0f9-9d27de3d9e7a"
      },
      "execution_count": 60,
      "outputs": [
        {
          "output_type": "stream",
          "name": "stdout",
          "text": [
            "LogisticRegression(C=np.float64(1.668088018810296), max_iter=500, penalty='l1',\n",
            "                   solver='liblinear')\n"
          ]
        }
      ]
    },
    {
      "cell_type": "code",
      "source": [
        "# Define a uniform distribution between 0 and 4, sample 10 values\n",
        "uniform(loc=0, scale=4).rvs(10)"
      ],
      "metadata": {
        "colab": {
          "base_uri": "https://localhost:8080/"
        },
        "id": "NEYfNrjqCWHb",
        "outputId": "0ad516f2-b591-436a-89d2-f4f900c9bb40"
      },
      "execution_count": 61,
      "outputs": [
        {
          "output_type": "execute_result",
          "data": {
            "text/plain": [
              "array([1.00774572, 0.39084939, 0.0834088 , 2.08121142, 1.06309448,\n",
              "       0.03434437, 1.06306806, 3.45531708, 0.736666  , 0.90033398])"
            ]
          },
          "metadata": {},
          "execution_count": 61
        }
      ]
    },
    {
      "cell_type": "code",
      "source": [
        "# View best hyperparameters\n",
        "print('Best Penalty:', best_model.best_estimator_.get_params()['penalty'])\n",
        "print('Best C:', best_model.best_estimator_.get_params()['C'])"
      ],
      "metadata": {
        "colab": {
          "base_uri": "https://localhost:8080/"
        },
        "id": "s2ZRD_noCbdo",
        "outputId": "f11e35e9-79c1-4086-83e5-2f079e350a5a"
      },
      "execution_count": 62,
      "outputs": [
        {
          "output_type": "stream",
          "name": "stdout",
          "text": [
            "Best Penalty: l1\n",
            "Best C: 1.668088018810296\n"
          ]
        }
      ]
    },
    {
      "cell_type": "code",
      "source": [
        "\"\"\"\n",
        "And just like with GridSearchCV, after the search is complete RandomizedSearchCV\n",
        "fits a new model using the best hyperparameters on the entire dataset. We can use this\n",
        "model like any other in scikit-learn; for example, to make predictions:\n",
        "\n",
        "The number of sampled combinations of hyperparameters (i.e., the number of candidate\n",
        "models trained) is specified with the n_iter (number of iterations) setting. It’s\n",
        "worth noting that RandomizedSearchCV isn’t inherently faster than GridSearchCV, but\n",
        "it often achieves comparable performance to GridSearchCV in less time just by testing\n",
        "fewer combinations.\n",
        "\"\"\"\n",
        "# Predict target vector\n",
        "best_model.predict(features)"
      ],
      "metadata": {
        "colab": {
          "base_uri": "https://localhost:8080/"
        },
        "id": "tctjjNthCfXG",
        "outputId": "55eb1866-c011-414c-f39b-16c5d86ac5f7"
      },
      "execution_count": 63,
      "outputs": [
        {
          "output_type": "execute_result",
          "data": {
            "text/plain": [
              "array([0, 0, 0, 0, 0, 0, 0, 0, 0, 0, 0, 0, 0, 0, 0, 0, 0, 0, 0, 0, 0, 0,\n",
              "       0, 0, 0, 0, 0, 0, 0, 0, 0, 0, 0, 0, 0, 0, 0, 0, 0, 0, 0, 0, 0, 0,\n",
              "       0, 0, 0, 0, 0, 0, 1, 1, 1, 1, 1, 1, 1, 1, 1, 1, 1, 1, 1, 1, 1, 1,\n",
              "       1, 1, 1, 1, 2, 1, 1, 1, 1, 1, 1, 1, 1, 1, 1, 1, 1, 2, 2, 1, 1, 1,\n",
              "       1, 1, 1, 1, 1, 1, 1, 1, 1, 1, 1, 1, 2, 2, 2, 2, 2, 2, 2, 2, 2, 2,\n",
              "       2, 2, 2, 2, 2, 2, 2, 2, 2, 2, 2, 2, 2, 2, 2, 2, 2, 2, 2, 1, 2, 2,\n",
              "       2, 1, 2, 2, 2, 2, 2, 2, 2, 2, 2, 2, 2, 2, 2, 2, 2, 2])"
            ]
          },
          "metadata": {},
          "execution_count": 63
        }
      ]
    },
    {
      "cell_type": "markdown",
      "source": [
        "## Selecting the Best Models from Multiple Learning Algorithms"
      ],
      "metadata": {
        "id": "CCSUdb1JCrVD"
      }
    },
    {
      "cell_type": "code",
      "source": [
        "\"\"\"\n",
        "Create a dictionary of candidate learning algorithms and their hyperparameters to\n",
        "use as the search space for GridSearchCV:\n",
        "Why only one estimator initially in the Pipeline?\n",
        "\n",
        "Because the search_space explicitly tells GridSearchCV which estimator(s) to\n",
        "use for the \"classifier\" step within each grid. The initial\n",
        "RandomForestClassifier() in the Pipeline definition is just the starting point\n",
        "for that named step. GridSearchCV will swap it out as it explores the different\n",
        "parameter grids defined in search_space.\n",
        "\n",
        "This is a flexible way to compare different models and their respective\n",
        "hyperparameters in one go, leveraging the Pipeline to represent the single\n",
        "\"modeling\" step that can be filled by different algorithms.\n",
        "\n",
        "In our solution we define a search space that includes\n",
        "two learning algorithms: logistic regression and random forest classifier.\n",
        "Each learning algorithm has its own hyperparameters, and we define their\n",
        "candidate values using the format classifier__[hyperparameter name].\n",
        "\n",
        "{'classifier': [LogisticRegression(max_iter=500, solver='liblinear')],\n",
        "'classifier__penalty': ['l1', 'l2'],\n",
        "'classifier__C': np.logspace(0, 4, 10)}\n",
        "We can also create a similar dictionary for the random forest hyperparameters:\n",
        "{'classifier': [RandomForestClassifier()],\n",
        "'classifier__n_estimators': [10, 100, 1000],\n",
        "'classifier__max_features': [1, 2, 3]}\n",
        "\n",
        "\"\"\"\n",
        "import numpy as np\n",
        "from sklearn import datasets\n",
        "from sklearn.linear_model import LogisticRegression\n",
        "from sklearn.ensemble import RandomForestClassifier\n",
        "from sklearn.model_selection import GridSearchCV\n",
        "from sklearn.pipeline import Pipeline\n",
        "\n",
        "# Set random seed\n",
        "np.random.seed(0)\n",
        "# Load data\n",
        "iris = datasets.load_iris()\n",
        "features = iris.data\n",
        "target = iris.target\n",
        "# Create a pipeline\n",
        "pipe = Pipeline([(\"classifier\", RandomForestClassifier())])\n",
        "\n",
        "# Create dictionary with candidate learning algorithms and their hyperparameters\n",
        "search_space = [{\"classifier\": [LogisticRegression(max_iter=500,\n",
        "                                solver='liblinear')],\n",
        "                                \"classifier__penalty\": ['l1', 'l2'],\n",
        "                                \"classifier__C\": np.logspace(0, 4, 10)},\n",
        "                                {\"classifier\": [RandomForestClassifier()],\n",
        "                                \"classifier__n_estimators\": [10, 100, 1000],\n",
        "                                \"classifier__max_features\": [1, 2, 3]}]\n",
        "\n",
        "# Create grid search\n",
        "gridsearch = GridSearchCV(pipe, search_space, cv=5, verbose=0)\n",
        "# Fit grid search\n",
        "best_model = gridsearch.fit(features, target)\n",
        "# Print best model\n",
        "print(best_model.best_estimator_)\n"
      ],
      "metadata": {
        "colab": {
          "base_uri": "https://localhost:8080/"
        },
        "id": "pao4paeACvpU",
        "outputId": "28c0de16-3d34-4f55-af20-992e205a9307"
      },
      "execution_count": 64,
      "outputs": [
        {
          "output_type": "stream",
          "name": "stdout",
          "text": [
            "Pipeline(steps=[('classifier',\n",
            "                 LogisticRegression(C=np.float64(7.742636826811269),\n",
            "                                    max_iter=500, penalty='l1',\n",
            "                                    solver='liblinear'))])\n"
          ]
        }
      ]
    },
    {
      "cell_type": "code",
      "source": [
        "\"\"\"\n",
        "After the search is complete, we can use best_estimator_ to view the best model’s\n",
        "learning algorithm and hyperparameters:\n",
        "\"\"\"\n",
        "# View best model\n",
        "print(best_model.best_estimator_.get_params()[\"classifier\"])"
      ],
      "metadata": {
        "colab": {
          "base_uri": "https://localhost:8080/"
        },
        "id": "r24SLvYdEuOg",
        "outputId": "ef56934f-3dba-4404-ee69-f4cc547152f9"
      },
      "execution_count": 65,
      "outputs": [
        {
          "output_type": "stream",
          "name": "stdout",
          "text": [
            "LogisticRegression(C=np.float64(7.742636826811269), max_iter=500, penalty='l1',\n",
            "                   solver='liblinear')\n"
          ]
        }
      ]
    },
    {
      "cell_type": "code",
      "source": [
        "\"\"\"\n",
        "once we have fit the model selection search, we can\n",
        "use this best model just like any other scikit-learn model:\n",
        "\"\"\"\n",
        "# Predict target vector\n",
        "best_model.predict(features)"
      ],
      "metadata": {
        "colab": {
          "base_uri": "https://localhost:8080/"
        },
        "id": "r87jsNSLE0t8",
        "outputId": "0ec8fe9d-afb0-4cc6-8f9e-7afed299232e"
      },
      "execution_count": 66,
      "outputs": [
        {
          "output_type": "execute_result",
          "data": {
            "text/plain": [
              "array([0, 0, 0, 0, 0, 0, 0, 0, 0, 0, 0, 0, 0, 0, 0, 0, 0, 0, 0, 0, 0, 0,\n",
              "       0, 0, 0, 0, 0, 0, 0, 0, 0, 0, 0, 0, 0, 0, 0, 0, 0, 0, 0, 0, 0, 0,\n",
              "       0, 0, 0, 0, 0, 0, 1, 1, 1, 1, 1, 1, 1, 1, 1, 1, 1, 1, 1, 1, 1, 1,\n",
              "       1, 1, 1, 1, 2, 1, 1, 1, 1, 1, 1, 1, 1, 1, 1, 1, 1, 2, 1, 1, 1, 1,\n",
              "       1, 1, 1, 1, 1, 1, 1, 1, 1, 1, 1, 1, 2, 2, 2, 2, 2, 2, 2, 2, 2, 2,\n",
              "       2, 2, 2, 2, 2, 2, 2, 2, 2, 2, 2, 2, 2, 2, 2, 2, 2, 2, 2, 2, 2, 2,\n",
              "       2, 1, 2, 2, 2, 2, 2, 2, 2, 2, 2, 2, 2, 2, 2, 2, 2, 2])"
            ]
          },
          "metadata": {},
          "execution_count": 66
        }
      ]
    },
    {
      "cell_type": "markdown",
      "source": [
        "## Selecting the Best Models When Preprocessing"
      ],
      "metadata": {
        "id": "tcOh_PKVE76O"
      }
    },
    {
      "cell_type": "markdown",
      "source": [
        "Very often we will need to preprocess our data before using it to train a model.\n",
        "We have to be careful to properly handle preprocessing when conducting model\n",
        "selection. First, GridSearchCV uses cross-validation to determine which model has\n",
        "the highest performance. However, in cross-validation, we are in effect pretending\n",
        "that the fold held out as the test set is not seen, and thus not part of fitting any\n",
        "preprocessing steps (e.g., scaling or standardization). For this reason, we cannot\n",
        "preprocess the data and then run GridSearchCV. Rather, the preprocessing steps must\n",
        "be a part of the set of actions taken by GridSearchCV.\n",
        "\n",
        "FeatureUnion allows\n",
        "us to combine multiple preprocessing actions properly. In our solution, we use\n",
        "FeatureUnion to combine two preprocessing steps: standardize the feature values\n",
        "(StandardScaler) and principal component analysis (PCA). This object is\n",
        "called preprocess and contains both of our preprocessing steps. We then include\n",
        "preprocess in a pipeline with our learning algorithm. The result is that this allows\n",
        "us to outsource the proper (and confusing) handling of fitting, transforming, and\n",
        "training the models with combinations of hyperparameters to scikit-learn.\n",
        "\n",
        "When we include candidate component values\n",
        "in the search space, they are treated like any other hyperparameter to be searched\n",
        "over. In our solution, we defined features__pca__n_components': [1, 2, 3] in\n",
        "the search space to indicate that we want to discover if one, two, or three principal\n",
        "components produce the best model."
      ],
      "metadata": {
        "id": "oLHjXiDsF47M"
      }
    },
    {
      "cell_type": "code",
      "source": [
        "# Create a pipeline that includes the preprocessing step and any of its parameters\n",
        "# Load libraries\n",
        "import numpy as np\n",
        "from sklearn import datasets\n",
        "from sklearn.linear_model import LogisticRegression\n",
        "from sklearn.model_selection import GridSearchCV\n",
        "from sklearn.pipeline import Pipeline, FeatureUnion\n",
        "from sklearn.decomposition import PCA\n",
        "from sklearn.preprocessing import StandardScaler\n",
        "# Set random seed\n",
        "np.random.seed(0)\n",
        "# Load data\n",
        "iris = datasets.load_iris()\n",
        "features = iris.data\n",
        "target = iris.target\n",
        "# Create a preprocessing object that includes StandardScaler features and PCA\n",
        "preprocess = FeatureUnion([(\"std\", StandardScaler()), (\"pca\", PCA())])\n",
        "# Create a pipeline\n",
        "pipe = Pipeline([(\"preprocess\", preprocess),(\"classifier\",\n",
        "                                             LogisticRegression(max_iter=1000,\n",
        "                                              solver='liblinear'))])\n",
        "\n",
        "# Create space of candidate values\n",
        "search_space = [{\"preprocess__pca__n_components\": [1, 2, 3],\n",
        "                \"classifier__penalty\": [\"l1\", \"l2\"],\n",
        "                \"classifier__C\": np.logspace(0, 4, 10)}]\n",
        "# Create grid search\n",
        "clf = GridSearchCV(pipe, search_space, cv=5, verbose=0, n_jobs=-1)\n",
        "# Fit grid search\n",
        "best_model = clf.fit(features, target)\n",
        "# Print best model\n",
        "print(best_model.best_estimator_)\n"
      ],
      "metadata": {
        "colab": {
          "base_uri": "https://localhost:8080/"
        },
        "id": "4N_Kw2fpFJXs",
        "outputId": "0bdcf4e7-8d05-45be-959a-6b723c3a4be0"
      },
      "execution_count": 67,
      "outputs": [
        {
          "output_type": "stream",
          "name": "stdout",
          "text": [
            "Pipeline(steps=[('preprocess',\n",
            "                 FeatureUnion(transformer_list=[('std', StandardScaler()),\n",
            "                                                ('pca', PCA(n_components=1))])),\n",
            "                ('classifier',\n",
            "                 LogisticRegression(C=np.float64(7.742636826811269),\n",
            "                                    max_iter=1000, penalty='l1',\n",
            "                                    solver='liblinear'))])\n"
          ]
        }
      ]
    },
    {
      "cell_type": "code",
      "source": [
        "\"\"\"\n",
        "After model selection is complete, we can view the preprocessing values that produced\n",
        "the best model. For example, we can see the best number of principal\n",
        "components:\n",
        "\"\"\"\n",
        "# View best n_components\n",
        "best_model.best_estimator_.get_params()['preprocess__pca__n_components']"
      ],
      "metadata": {
        "colab": {
          "base_uri": "https://localhost:8080/"
        },
        "id": "S_Ww4D0PGcL7",
        "outputId": "36eb6c79-e521-4bd4-b6f8-ff8e8b09aaa4"
      },
      "execution_count": 68,
      "outputs": [
        {
          "output_type": "execute_result",
          "data": {
            "text/plain": [
              "1"
            ]
          },
          "metadata": {},
          "execution_count": 68
        }
      ]
    },
    {
      "cell_type": "markdown",
      "source": [
        "## Speeding Up Model Selection with Parallelization"
      ],
      "metadata": {
        "id": "Ah2FoWs3Gfci"
      }
    },
    {
      "cell_type": "code",
      "source": [
        "\"\"\"\n",
        "Use all the cores in your machine by setting n_jobs=-1, which enables you to train\n",
        "multiple models simultaneously\n",
        "\n",
        "In our solution, we set n_jobs to -1, which tells scikit-learn to use all cores. However,\n",
        "by default n_jobs is set to 1, meaning it uses only one core\n",
        "\n",
        "\"\"\"\n",
        "# Load libraries\n",
        "import numpy as np\n",
        "from sklearn import linear_model, datasets\n",
        "from sklearn.model_selection import GridSearchCV\n",
        "# Load data\n",
        "iris = datasets.load_iris()\n",
        "features = iris.data\n",
        "target = iris.target\n",
        "# Create logistic regression\n",
        "logistic = linear_model.LogisticRegression(max_iter=500, solver='liblinear')\n",
        "# Create range of candidate regularization penalty hyperparameter values\n",
        "penalty = [\"l1\", \"l2\"]\n",
        "# Create range of candidate values for C\n",
        "C = np.logspace(0, 4, 1000)\n",
        "# Create hyperparameter options\n",
        "hyperparameters = dict(C=C, penalty=penalty)\n",
        "# Create grid search\n",
        "gridsearch = GridSearchCV(logistic, hyperparameters, cv=5, n_jobs=-1, verbose=1)\n",
        "# Fit grid search\n",
        "best_model = gridsearch.fit(features, target)\n",
        "# Print best model\n",
        "print(best_model.best_estimator_)"
      ],
      "metadata": {
        "colab": {
          "base_uri": "https://localhost:8080/"
        },
        "id": "qudfq18VGlF_",
        "outputId": "827a49ff-813d-4696-e3af-cb9c1a5fa86d"
      },
      "execution_count": 69,
      "outputs": [
        {
          "output_type": "stream",
          "name": "stdout",
          "text": [
            "Fitting 5 folds for each of 2000 candidates, totalling 10000 fits\n",
            "LogisticRegression(C=np.float64(5.926151812475554), max_iter=500, penalty='l1',\n",
            "                   solver='liblinear')\n"
          ]
        }
      ]
    },
    {
      "cell_type": "markdown",
      "source": [
        "## Speeding Up Model Selection Using Algorithm- Specific Methods"
      ],
      "metadata": {
        "id": "GPlvwbxRG8fn"
      }
    },
    {
      "cell_type": "code",
      "source": [
        "\"\"\"\n",
        "If you are using a select number of learning algorithms, use scikit-learn’s modelspecific\n",
        "cross-validation hyperparameter tuning, LogisticRegressionCV:\n",
        "\n",
        "In scikit-learn, many learning algorithms (e.g., ridge, lasso, and elastic net\n",
        "regression) have an algorithm-specific cross-validation method to take advantage of this.\n",
        "For example, LogisticRegression is used to conduct a standard logistic regression\n",
        "classifier, while LogisticRegressionCV implements an efficient cross-validated logistic\n",
        "regression classifier that can identify the optimum value of the hyperparameter C\n",
        "\"\"\"\n",
        "from sklearn import linear_model, datasets\n",
        "# Load data\n",
        "iris = datasets.load_iris()\n",
        "features = iris.data\n",
        "target = iris.target\n",
        "# Create cross-validated logistic regression\n",
        "logit = linear_model.LogisticRegressionCV(Cs=100, max_iter=500,\n",
        "solver='liblinear')\n",
        "# Train model\n",
        "logit.fit(features, target)\n",
        "# Print model\n",
        "print(logit)"
      ],
      "metadata": {
        "colab": {
          "base_uri": "https://localhost:8080/"
        },
        "id": "H0I5rD5UHHsn",
        "outputId": "0fd6936f-4961-4a56-de59-3ec92632551a"
      },
      "execution_count": 70,
      "outputs": [
        {
          "output_type": "stream",
          "name": "stdout",
          "text": [
            "LogisticRegressionCV(Cs=100, max_iter=500, solver='liblinear')\n"
          ]
        }
      ]
    },
    {
      "cell_type": "markdown",
      "source": [
        "## Evaluating Performance After Model Selection"
      ],
      "metadata": {
        "id": "b90pnXmYHgjD"
      }
    },
    {
      "cell_type": "code",
      "source": [
        "\"\"\"\n",
        "Use nested cross-validation to avoid biased evaluation\n",
        "Remember that in k-fold cross-validation, we train our model\n",
        "on k–1 folds of the data, use this model to make predictions on the remaining fold,\n",
        "and then evaluate our model on how well its predictions compare to the true values.\n",
        "We then repeat this process k times.\n",
        "\n",
        "In the model selection searches described in this chapter (i.e., GridSearchCV and\n",
        "RandomizedSearchCV), we used cross-validation to evaluate which hyperparameter\n",
        "values produced the best models. However, a nuanced and generally underappreciated\n",
        "problem arises: since we used the data to select the best hyperparameter values,\n",
        "we cannot use that same data to evaluate the model’s performance. The solution?\n",
        "Wrap the cross-validation used for model search in another cross-validation!\n",
        "In\n",
        "nested cross-validation, the “inner” cross-validation selects the best model, while the\n",
        "“outer” cross-validation provides an unbiased evaluation of the model’s performance.\n",
        "In our solution, the inner cross-validation is our GridSearchCV object, which we then\n",
        "wrap in an outer cross-validation using cross_val_score.\n",
        "If you are confused, try a simple experiment. First, set verbose=1 so we can see what\n",
        "is happening:\n",
        "\n",
        "\"\"\"\n",
        "# Load libraries\n",
        "import numpy as np\n",
        "from sklearn import linear_model, datasets\n",
        "from sklearn.model_selection import GridSearchCV, cross_val_score\n",
        "# Load data\n",
        "iris = datasets.load_iris()\n",
        "features = iris.data\n",
        "target = iris.target\n",
        "# Create logistic regression\n",
        "logistic = linear_model.LogisticRegression(max_iter=500, solver='liblinear')\n",
        "# Create range of 20 candidate values for C\n",
        "C = np.logspace(0, 4, 20)\n",
        "# Create hyperparameter options\n",
        "hyperparameters = dict(C=C)\n",
        "# Create grid search\n",
        "gridsearch = GridSearchCV(logistic, hyperparameters, cv=5, n_jobs=-1, verbose=0)\n",
        "# Conduct nested cross-validation and output the average score\n",
        "cross_val_score(gridsearch, features, target).mean()"
      ],
      "metadata": {
        "colab": {
          "base_uri": "https://localhost:8080/"
        },
        "id": "FYG1LHRGHkWz",
        "outputId": "0afaba12-1033-4e28-ac3d-96cb3eacb36d"
      },
      "execution_count": 71,
      "outputs": [
        {
          "output_type": "execute_result",
          "data": {
            "text/plain": [
              "np.float64(0.9733333333333334)"
            ]
          },
          "metadata": {},
          "execution_count": 71
        }
      ]
    },
    {
      "cell_type": "code",
      "source": [
        "gridsearch = GridSearchCV(logistic, hyperparameters, cv=5, verbose=1)\n",
        "best_model = gridsearch.fit(features, target)"
      ],
      "metadata": {
        "colab": {
          "base_uri": "https://localhost:8080/"
        },
        "id": "aMAP7Wf2IH3G",
        "outputId": "bf310a86-d581-42f0-a71e-a7947c78b810"
      },
      "execution_count": 72,
      "outputs": [
        {
          "output_type": "stream",
          "name": "stdout",
          "text": [
            "Fitting 5 folds for each of 20 candidates, totalling 100 fits\n"
          ]
        }
      ]
    },
    {
      "cell_type": "code",
      "source": [
        "scores = cross_val_score(gridsearch, features, target)\n",
        "\"\"\"\n",
        "The output shows that the inner cross-validation trained 20 models five times to\n",
        "find the best model, and this model was evaluated using an outer five-fold crossvalidation,\n",
        "creating a total of 500 models trained.\n",
        "\"\"\""
      ],
      "metadata": {
        "colab": {
          "base_uri": "https://localhost:8080/",
          "height": 157
        },
        "id": "AjLmzAupIPhm",
        "outputId": "58244260-dd39-4364-b3aa-ebef714367ff"
      },
      "execution_count": 73,
      "outputs": [
        {
          "output_type": "stream",
          "name": "stdout",
          "text": [
            "Fitting 5 folds for each of 20 candidates, totalling 100 fits\n",
            "Fitting 5 folds for each of 20 candidates, totalling 100 fits\n",
            "Fitting 5 folds for each of 20 candidates, totalling 100 fits\n",
            "Fitting 5 folds for each of 20 candidates, totalling 100 fits\n",
            "Fitting 5 folds for each of 20 candidates, totalling 100 fits\n"
          ]
        },
        {
          "output_type": "execute_result",
          "data": {
            "text/plain": [
              "'\\nThe output shows that the inner cross-validation trained 20 models five times to\\nfind the best model, and this model was evaluated using an outer five-fold crossvalidation,\\ncreating a total of 500 models trained.\\n'"
            ],
            "application/vnd.google.colaboratory.intrinsic+json": {
              "type": "string"
            }
          },
          "metadata": {},
          "execution_count": 73
        }
      ]
    },
    {
      "cell_type": "markdown",
      "source": [
        "# **Linear Regression**"
      ],
      "metadata": {
        "id": "4Aa3GzwbIdDg"
      }
    },
    {
      "cell_type": "markdown",
      "source": [
        "## Fitting a Line"
      ],
      "metadata": {
        "id": "-t0AmMQNLWTR"
      }
    },
    {
      "cell_type": "code",
      "source": [
        "from sklearn.linear_model import LinearRegression\n",
        "from sklearn.datasets import make_regression\n",
        "# Generate features matrix, target vector\n",
        "features, target = make_regression(n_samples = 100,\n",
        "                                    n_features = 3,\n",
        "                                    n_informative = 2,\n",
        "                                    n_targets = 1,\n",
        "                                    noise = 0.2,\n",
        "                                    coef = False,\n",
        "                                    random_state = 1)\n",
        "# Create linear regression\n",
        "regression = LinearRegression()\n",
        "# Fit the linear regression\n",
        "model = regression.fit(features, target)"
      ],
      "metadata": {
        "id": "SGLv9PSvLbar"
      },
      "execution_count": 74,
      "outputs": []
    },
    {
      "cell_type": "code",
      "source": [
        "# View the intercept\n",
        "model.intercept_"
      ],
      "metadata": {
        "colab": {
          "base_uri": "https://localhost:8080/"
        },
        "id": "WveDHqDELnRA",
        "outputId": "cf49a54f-d1b5-4f98-ef47-4ec3769c3ee8"
      },
      "execution_count": 75,
      "outputs": [
        {
          "output_type": "execute_result",
          "data": {
            "text/plain": [
              "np.float64(-0.009650118178816669)"
            ]
          },
          "metadata": {},
          "execution_count": 75
        }
      ]
    },
    {
      "cell_type": "code",
      "source": [
        "# View the feature coefficients\n",
        "model.coef_"
      ],
      "metadata": {
        "colab": {
          "base_uri": "https://localhost:8080/"
        },
        "id": "QM1DirN0Lo6N",
        "outputId": "3e0494f9-1a0a-473b-af59-c1a549f2b3c2"
      },
      "execution_count": 76,
      "outputs": [
        {
          "output_type": "execute_result",
          "data": {
            "text/plain": [
              "array([1.95531234e-02, 4.42087450e+01, 5.81494563e+01])"
            ]
          },
          "metadata": {},
          "execution_count": 76
        }
      ]
    },
    {
      "cell_type": "code",
      "source": [
        "# First value in the target vector - In our dataset, the target value is a\n",
        "# randomly generated continuous variable\n",
        "target[0]"
      ],
      "metadata": {
        "colab": {
          "base_uri": "https://localhost:8080/"
        },
        "id": "GG740NfxLqnZ",
        "outputId": "041537f5-31e7-4dc2-f9eb-b0983800bde1"
      },
      "execution_count": 77,
      "outputs": [
        {
          "output_type": "execute_result",
          "data": {
            "text/plain": [
              "np.float64(-20.870747595269407)"
            ]
          },
          "metadata": {},
          "execution_count": 77
        }
      ]
    },
    {
      "cell_type": "code",
      "source": [
        "# Predict the target value of the first observation\n",
        "# Using the predict method, we can predict the output based on the input features\n",
        "model.predict(features)[0]"
      ],
      "metadata": {
        "colab": {
          "base_uri": "https://localhost:8080/"
        },
        "id": "CWtmQyNTMHgt",
        "outputId": "5bd40d7d-b39d-4979-c0ae-9b5983a42e61"
      },
      "execution_count": 78,
      "outputs": [
        {
          "output_type": "execute_result",
          "data": {
            "text/plain": [
              "np.float64(-20.861927709296808)"
            ]
          },
          "metadata": {},
          "execution_count": 78
        }
      ]
    },
    {
      "cell_type": "code",
      "source": [
        "# Print the score of the model on the training data\n",
        "\"\"\"\n",
        "The default score for linear regression in scikit learn is R2, which ranges from 0.0\n",
        "(worst) to 1.0 (best).\n",
        "\"\"\"\n",
        "print(model.score(features, target))"
      ],
      "metadata": {
        "colab": {
          "base_uri": "https://localhost:8080/"
        },
        "id": "dh5Fb_fSMUE3",
        "outputId": "b5bf9fcd-7b66-4afb-8124-0bf9059243c0"
      },
      "execution_count": 79,
      "outputs": [
        {
          "output_type": "stream",
          "name": "stdout",
          "text": [
            "0.9999901732607787\n"
          ]
        }
      ]
    },
    {
      "cell_type": "markdown",
      "source": [
        "## Handling Interactive Effects"
      ],
      "metadata": {
        "id": "byQubG7XMdWO"
      }
    },
    {
      "cell_type": "markdown",
      "source": [
        "Sometimes a feature’s effect on our target variable is at least partially dependent on\n",
        "another feature. For example, imagine a simple coffee-based example where we have\n",
        "two binary features—the presence of sugar (sugar) and whether or not we have\n",
        "stirred (stirred)—and we want to predict if the coffee tastes sweet. Just putting\n",
        "sugar in the coffee (sugar=1, stirred=0) won’t make the coffee taste sweet (all the\n",
        "sugar is at the bottom!) and just stirring the coffee without adding sugar (sugar=0,\n",
        "stirred=1) won’t make it sweet either. Instead it is the interaction of putting sugar in\n",
        "the coffee and stirring the coffee (sugar=1, stirred=1) that will make a coffee taste\n",
        "sweet. The effects of sugar and stirred on sweetness are dependent on each other. In\n",
        "this case we say there is an interaction effect between the features sugar and stirred.\n",
        "We can account for interaction effects by including a new feature\n",
        "\n",
        "y = β_0 + β_1 x1 + β_2 x2 + β_3 x1x2 + ϵ"
      ],
      "metadata": {
        "id": "cLZd-tz0M5Lr"
      }
    },
    {
      "cell_type": "code",
      "source": [
        "\"\"\"\n",
        "You have a feature whose effect on the target variable depends on another feature\n",
        "\"\"\"\n",
        "from sklearn.linear_model import LinearRegression\n",
        "from sklearn.preprocessing import PolynomialFeatures\n",
        "from sklearn.datasets import make_regression\n",
        "# Generate features matrix, target vector\n",
        "features, target = make_regression(n_samples = 100,\n",
        "                                    n_features = 2,\n",
        "                                    n_informative = 2,\n",
        "                                    n_targets = 1,\n",
        "                                    noise = 0.2,\n",
        "                                    coef = False,\n",
        "                                    random_state = 1)\n",
        "# Create interaction term\n",
        "interaction = PolynomialFeatures(degree=3,\n",
        "                                 include_bias=False,\n",
        "                                 interaction_only=True)\n",
        "features_interaction = interaction.fit_transform(features)\n",
        "\n",
        "regression = LinearRegression()\n",
        "# Fit the linear regression\n",
        "model = regression.fit(features_interaction, target)"
      ],
      "metadata": {
        "id": "PJItIfm6MfxQ"
      },
      "execution_count": 80,
      "outputs": []
    },
    {
      "cell_type": "code",
      "source": [
        "#observation’s values for each of those features:\n",
        "# View the feature values for first observation\n",
        "features[0]"
      ],
      "metadata": {
        "colab": {
          "base_uri": "https://localhost:8080/"
        },
        "id": "smGQZSO3NGyZ",
        "outputId": "2b828831-82f0-4e0e-986b-c56d85f9f3bb"
      },
      "execution_count": 81,
      "outputs": [
        {
          "output_type": "execute_result",
          "data": {
            "text/plain": [
              "array([0.0465673 , 0.80186103])"
            ]
          },
          "metadata": {},
          "execution_count": 81
        }
      ]
    },
    {
      "cell_type": "code",
      "source": [
        "# To create an interaction term, we simply multiply those two values together\n",
        "# for every observation:\n",
        "# Import library\n",
        "import numpy as np\n",
        "# For each observation, multiply the values of the first and second feature\n",
        "interaction_term = np.multiply(features[:, 0], features[:, 1])\n",
        "# View interaction term for first observation\n",
        "interaction_term[0]\n",
        "\n",
        "\"\"\"\n",
        "it can be\n",
        "useful to use scikit-learn’s PolynomialFeatures to create interaction terms for all\n",
        "combinations of features. We can then use model selection strategies to identify the\n",
        "combination of features and interaction terms that produces the best model.\n",
        "\"\"\""
      ],
      "metadata": {
        "colab": {
          "base_uri": "https://localhost:8080/",
          "height": 87
        },
        "id": "DH5Nu4DiNOSZ",
        "outputId": "bb54fcf2-e7d5-4147-ef2c-918a76303930"
      },
      "execution_count": 82,
      "outputs": [
        {
          "output_type": "execute_result",
          "data": {
            "text/plain": [
              "'\\nit can be\\nuseful to use scikit-learn’s PolynomialFeatures to create interaction terms for all\\ncombinations of features. We can then use model selection strategies to identify the\\ncombination of features and interaction terms that produces the best model.\\n'"
            ],
            "application/vnd.google.colaboratory.intrinsic+json": {
              "type": "string"
            }
          },
          "metadata": {},
          "execution_count": 82
        }
      ]
    },
    {
      "cell_type": "code",
      "source": [
        "\"\"\"\n",
        "To create interaction terms using PolynomialFeatures, there are three important\n",
        "parameters we must set. Most important, interaction_only=True tells\n",
        "PolynomialFeatures to return only interaction terms (and not polynomial features\n",
        "\n",
        "By default, PolynomialFeatures will add a\n",
        "feature containing 1s called a bias. We can prevent that with include_bias=False.\n",
        "Finally, the degree parameter determines the maximum number of features to create\n",
        "interaction terms from (in case we wanted to create an interaction term that is the\n",
        "combination of three features). We can see the output of PolynomialFeatures from\n",
        "our solution by checking to see if the first observation’s feature values and interaction\n",
        "term value match our manually calculated version\n",
        "\"\"\"\n",
        "# View the values of the first observation\n",
        "features_interaction[0]"
      ],
      "metadata": {
        "colab": {
          "base_uri": "https://localhost:8080/"
        },
        "id": "FLtRt9pqNlUc",
        "outputId": "7bc478d2-bc6a-4006-8b6e-b9afe42f006b"
      },
      "execution_count": 83,
      "outputs": [
        {
          "output_type": "execute_result",
          "data": {
            "text/plain": [
              "array([0.0465673 , 0.80186103, 0.0373405 ])"
            ]
          },
          "metadata": {},
          "execution_count": 83
        }
      ]
    },
    {
      "cell_type": "markdown",
      "source": [
        "## Fitting a Nonlinear Relationship"
      ],
      "metadata": {
        "id": "jOc8LG_VN2-t"
      }
    },
    {
      "cell_type": "markdown",
      "source": [
        "So far we have discussed modeling only linear relationships. An example of a linear\n",
        "relationship would be the number of stories a building has and the building's height.\n",
        "In linear regression, we assume the effect of number of stories and building height is\n",
        "approximately constant, meaning a 20-story building will be roughly twice as high as\n",
        "a 10-story building, which will be roughly twice as high as a 5-story building. Many\n",
        "relationships of interest, however, are not strictly linear.\n",
        "\n",
        "Often we want to model a nonlinear relationship—for example, the relationship\n",
        "between the number of hours a student studies and the score she gets on a test.\n",
        "Intuitively, we can imagine there is a big difference in test scores between students\n",
        "who study for one hour compared to students who did not study at all. However, there is a much smaller difference in test scores between a student who studied for 99\n",
        "hours and a student who studied for 100 hours. The effect that one hour of studying\n",
        "has on a student's test score decreases as the number of hours increases.\n",
        "\n",
        "Polynomial regression is an extension of linear regression that allows us to model\n",
        "nonlinear relationships.\n",
        "\n",
        "y = β_0 + β_1 x1 + β_2 x1^2\n",
        " + . . . + β_d x1^d + ϵ\n",
        "\n",
        " where d is the degree of the polynomial. How are we able to use a linear regression\n",
        "for a nonlinear function? The answer is that we do not change how the linear\n",
        "regression fits the model but rather only add polynomial features. That is, the linear\n",
        "regression does not “know” that the x^2 is a quadratic transformation of x. It just\n",
        "considers it one more variable."
      ],
      "metadata": {
        "id": "ie01rLKqOgIm"
      }
    },
    {
      "cell_type": "code",
      "source": [
        "\"\"\"\n",
        "PolynomialFeatures has two important parameters. First, degree determines the\n",
        "maximum number of degrees for the polynomial features. For example, degree=3 will\n",
        "generate x^2 and x^3. Second, by default PolynomialFeatures includes a feature containing\n",
        "only 1s (called a bias). We can remove that by setting include_bias=False.\n",
        "\"\"\"\n",
        "\n",
        "# You want to model a nonlinear relationship.\n",
        "from sklearn.linear_model import LinearRegression\n",
        "from sklearn.preprocessing import PolynomialFeatures\n",
        "from sklearn.datasets import make_regression\n",
        "# Generate features matrix, target vector\n",
        "features, target = make_regression(n_samples = 100,\n",
        "                                    n_features = 3,\n",
        "                                    n_informative = 2,\n",
        "                                    n_targets = 1,\n",
        "                                    noise = 0.2,\n",
        "                                    coef = False,\n",
        "                                    random_state = 1)\n",
        "# Create polynomial features x^2 and x^3\n",
        "polynomial = PolynomialFeatures(degree=3, include_bias=False)\n",
        "features_polynomial = polynomial.fit_transform(features)\n",
        "# Create linear regression\n",
        "regression = LinearRegression()\n",
        "# Fit the linear regression\n",
        "model = regression.fit(features_polynomial, target)"
      ],
      "metadata": {
        "id": "lLrdxRoHN46K"
      },
      "execution_count": 84,
      "outputs": []
    },
    {
      "cell_type": "code",
      "source": [
        "# View first observation\n",
        "features[0]"
      ],
      "metadata": {
        "colab": {
          "base_uri": "https://localhost:8080/"
        },
        "id": "R_bTEMF5PMCL",
        "outputId": "de524d55-bcba-4844-b7d5-2045a17a2824"
      },
      "execution_count": 85,
      "outputs": [
        {
          "output_type": "execute_result",
          "data": {
            "text/plain": [
              "array([ 0.58591043,  0.78477065, -0.95542526])"
            ]
          },
          "metadata": {},
          "execution_count": 85
        }
      ]
    },
    {
      "cell_type": "code",
      "source": [
        "# View first observation raised to the second power, x^2\n",
        "features[0]**2"
      ],
      "metadata": {
        "colab": {
          "base_uri": "https://localhost:8080/"
        },
        "id": "j0tBGiwZPQKa",
        "outputId": "8af45225-d6b5-4557-d58d-b9861b192995"
      },
      "execution_count": 86,
      "outputs": [
        {
          "output_type": "execute_result",
          "data": {
            "text/plain": [
              "array([0.34329103, 0.61586497, 0.91283743])"
            ]
          },
          "metadata": {},
          "execution_count": 86
        }
      ]
    },
    {
      "cell_type": "code",
      "source": [
        "# View first observation raised to the third power, x^3\n",
        "features[0]**3"
      ],
      "metadata": {
        "colab": {
          "base_uri": "https://localhost:8080/"
        },
        "id": "rX37j1RhPS5N",
        "outputId": "6f87b586-6fbb-4950-9402-82815b0a865a"
      },
      "execution_count": 87,
      "outputs": [
        {
          "output_type": "execute_result",
          "data": {
            "text/plain": [
              "array([ 0.2011378 ,  0.48331276, -0.87214794])"
            ]
          },
          "metadata": {},
          "execution_count": 87
        }
      ]
    },
    {
      "cell_type": "code",
      "source": [
        "# View the first observation's values for x, x^2, and x^3\n",
        "features_polynomial[0]"
      ],
      "metadata": {
        "colab": {
          "base_uri": "https://localhost:8080/"
        },
        "id": "Jj685iO9PV-j",
        "outputId": "98519f92-c5d1-43fc-fbdd-37e142001d32"
      },
      "execution_count": 88,
      "outputs": [
        {
          "output_type": "execute_result",
          "data": {
            "text/plain": [
              "array([ 0.58591043,  0.78477065, -0.95542526,  0.34329103,  0.45980531,\n",
              "       -0.55979363,  0.61586497, -0.74978971,  0.91283743,  0.2011378 ,\n",
              "        0.26940473, -0.32798893,  0.36084171, -0.43930961,  0.53484097,\n",
              "        0.48331276, -0.58841296,  0.71636803, -0.87214794])"
            ]
          },
          "metadata": {},
          "execution_count": 88
        }
      ]
    },
    {
      "cell_type": "markdown",
      "source": [
        "## Reducing Variance with Regularization"
      ],
      "metadata": {
        "id": "kMphwIRzPisD"
      }
    },
    {
      "cell_type": "markdown",
      "source": [
        "Regularized regression learners are similar, except they attempt to minimize RSS and\n",
        "some penalty for the total size of the coefficient values, called a shrinkage penalty\n",
        "because it attempts to “shrink” the model. There are two common types of regularized\n",
        "learners for linear regression: ridge regression and the lasso\n",
        "\n",
        "In **ridge regression**, the shrinkage\n",
        "penalty is a tuning hyperparameter multiplied by the squared sum of all coefficients\n",
        "\n",
        "The **lasso** is similar, except the shrinkage penalty is a tuning hyperparameter\n",
        "multiplied by the sum of the absolute value of all coefficients\n",
        "\n",
        "As a very\n",
        "general rule of thumb, ridge regression often produces slightly better predictions than\n",
        "lasso, but lasso produces more interpretable\n",
        "models.\n",
        "\n",
        "If we want a balance between ridge and lasso's penalty functions we\n",
        "can use **elastic net**, which is simply a regression model with both penalties included"
      ],
      "metadata": {
        "id": "s6XJRptWP7Jo"
      }
    },
    {
      "cell_type": "code",
      "source": [
        "\"\"\"\n",
        "Use a learning algorithm that includes a shrinkage penalty (also called regularization)\n",
        "like ridge regression and lasso regression\n",
        "\"\"\"\n",
        "from sklearn.linear_model import Ridge\n",
        "from sklearn.preprocessing import StandardScaler\n",
        "from sklearn.datasets import make_regression\n",
        "# Generate features matrix, target vector\n",
        "features, target = make_regression(n_samples = 100,\n",
        "                                    n_features = 3,\n",
        "                                    n_informative = 2,\n",
        "                                    n_targets = 1,\n",
        "                                    noise = 0.2,\n",
        "                                    coef = False,\n",
        "                                    random_state = 1)\n",
        "# Standardize features\n",
        "scaler = StandardScaler()\n",
        "features_standardized = scaler.fit_transform(features)\n",
        "# Create ridge regression with an alpha value\n",
        "regression = Ridge(alpha=0.5)\n",
        "# Fit the linear regression\n",
        "model = regression.fit(features_standardized, target)"
      ],
      "metadata": {
        "id": "lYerojYqPm8x"
      },
      "execution_count": 89,
      "outputs": []
    },
    {
      "cell_type": "markdown",
      "source": [
        "## Reducing Features with Ridge Regression"
      ],
      "metadata": {
        "id": "Wrb8-_-PRVm2"
      }
    },
    {
      "cell_type": "code",
      "source": [
        "\"\"\"\n",
        "The hyperparameter, α, lets us control how much we penalize the coefficients, with\n",
        "higher values of α creating simpler models. The ideal value of α should be tuned like\n",
        "any other hyperparameter. In scikit-learn, α is set using the alpha parameter.\n",
        "scikit-learn includes a RidgeCV method that allows us to select the ideal value for α\n",
        "\n",
        "One final note: because in linear regression the value of the coefficients is partially\n",
        "determined by the scale of the feature, and in regularized models all coefficients are\n",
        "summed together, we must make sure to standardize the feature prior to training.\n",
        "\n",
        "\"\"\"\n",
        "from sklearn.linear_model import RidgeCV\n",
        "# Create ridge regression with three alpha values\n",
        "regr_cv = RidgeCV(alphas=[0.1, 1.0, 10.0])\n",
        "# Fit the linear regression\n",
        "model_cv = regr_cv.fit(features_standardized, target)\n",
        "# View coefficients\n",
        "model_cv.coef_"
      ],
      "metadata": {
        "colab": {
          "base_uri": "https://localhost:8080/"
        },
        "id": "ij3PSuGeQmTK",
        "outputId": "7d54fbba-ec86-40d6-9820-6b551f4b51fd"
      },
      "execution_count": 90,
      "outputs": [
        {
          "output_type": "execute_result",
          "data": {
            "text/plain": [
              "array([1.29223201e-02, 4.40972291e+01, 5.38979372e+01])"
            ]
          },
          "metadata": {},
          "execution_count": 90
        }
      ]
    },
    {
      "cell_type": "code",
      "source": [
        "# View alpha\n",
        "model_cv.alpha_"
      ],
      "metadata": {
        "colab": {
          "base_uri": "https://localhost:8080/"
        },
        "id": "E6A3p3o6QyAo",
        "outputId": "23aff6a7-16d0-4e63-ec7b-b4220503b596"
      },
      "execution_count": 91,
      "outputs": [
        {
          "output_type": "execute_result",
          "data": {
            "text/plain": [
              "np.float64(0.1)"
            ]
          },
          "metadata": {},
          "execution_count": 91
        }
      ]
    },
    {
      "cell_type": "markdown",
      "source": [
        "## Reducing Features with Lasso Regression"
      ],
      "metadata": {
        "id": "VTctSQ-URYXI"
      }
    },
    {
      "cell_type": "code",
      "source": [
        "\"\"\"\n",
        "One interesting characteristic of lasso regression’s penalty is that it can shrink the\n",
        "coefficients of a model to zero, effectively reducing the number of features in the\n",
        "model. For example, in our solution we set alpha to 0.5, and we can see that many\n",
        "of the coefficients are 0, meaning their corresponding features are not used in the\n",
        "model\n",
        "\"\"\"\n",
        "\n",
        "from sklearn.linear_model import Lasso\n",
        "from sklearn.preprocessing import StandardScaler\n",
        "from sklearn.datasets import make_regression\n",
        "# Generate features matrix, target vector\n",
        "features, target = make_regression(n_samples = 100,\n",
        "                                    n_features = 3,\n",
        "                                    n_informative = 2,\n",
        "                                    n_targets = 1,\n",
        "                                    noise = 0.2,\n",
        "                                    coef = False,\n",
        "                                    random_state = 1)\n",
        "# Standardize features\n",
        "scaler = StandardScaler()\n",
        "features_standardized = scaler.fit_transform(features)\n",
        "# Create lasso regression with alpha value\n",
        "regression = Lasso(alpha=0.5)\n",
        "# Fit the linear regression\n",
        "model = regression.fit(features_standardized, target)"
      ],
      "metadata": {
        "id": "LBwJ7Rd6Rb1c"
      },
      "execution_count": 92,
      "outputs": []
    },
    {
      "cell_type": "code",
      "source": [
        "# View coefficients\n",
        "model.coef_"
      ],
      "metadata": {
        "colab": {
          "base_uri": "https://localhost:8080/"
        },
        "id": "YJlLhEMeR26C",
        "outputId": "d2b94158-6607-4e38-80db-31194e068f68"
      },
      "execution_count": 93,
      "outputs": [
        {
          "output_type": "execute_result",
          "data": {
            "text/plain": [
              "array([-0.        , 43.58618393, 53.39523724])"
            ]
          },
          "metadata": {},
          "execution_count": 93
        }
      ]
    },
    {
      "cell_type": "code",
      "source": [
        "\"\"\"\n",
        "However, if we increase α to a much higher value, we see that literally none of the\n",
        "features are being used:\n",
        "\"\"\"\n",
        "# Create lasso regression with a high alpha\n",
        "regression_a10 = Lasso(alpha=10)\n",
        "model_a10 = regression_a10.fit(features_standardized, target)\n",
        "model_a10.coef_"
      ],
      "metadata": {
        "colab": {
          "base_uri": "https://localhost:8080/"
        },
        "id": "H_tUq3G3R8vZ",
        "outputId": "639e344f-0cc9-4d8d-f9af-803a8eb2c760"
      },
      "execution_count": 94,
      "outputs": [
        {
          "output_type": "execute_result",
          "data": {
            "text/plain": [
              "array([-0.        , 32.92181899, 42.73086731])"
            ]
          },
          "metadata": {},
          "execution_count": 94
        }
      ]
    },
    {
      "cell_type": "markdown",
      "source": [
        "# **Trees and Forests**"
      ],
      "metadata": {
        "id": "TlFlu5SISMOR"
      }
    },
    {
      "cell_type": "markdown",
      "source": [
        "## Training a Decision Tree Classifier"
      ],
      "metadata": {
        "id": "uCmEcUrOSs1o"
      }
    },
    {
      "cell_type": "code",
      "source": [
        "from sklearn.tree import DecisionTreeClassifier\n",
        "from sklearn import datasets\n",
        "# Load data\n",
        "iris = datasets.load_iris()\n",
        "features = iris.data\n",
        "target = iris.target\n",
        "# Create decision tree classifier object\n",
        "decisiontree = DecisionTreeClassifier(random_state=0)\n",
        "# Train model\n",
        "model = decisiontree.fit(features, target)"
      ],
      "metadata": {
        "id": "LSGszMM1SwOa"
      },
      "execution_count": 95,
      "outputs": []
    },
    {
      "cell_type": "code",
      "source": [
        "\"\"\"\n",
        "Decision tree learners attempt to find a decision rule that produces the greatest\n",
        "decrease in impurity at a node. While there are a number of measurements of\n",
        "impurity, by default DecisionTreeClassifier uses Gini impurity\n",
        "\n",
        "This process of finding the decision rules that create splits to\n",
        "decrease impurity is repeated recursively until all leaf nodes are pure (i.e., contain\n",
        "only one class) or some arbitrary cutoff is reached.\n",
        "\n",
        "In scikit-learn, DecisionTreeClassifier operates like other learning methods; after\n",
        "the model is trained using fit, we can use the model to predict the class of an\n",
        "observation\n",
        "\"\"\"\n",
        "# Make new observation\n",
        "observation = [[ 5, 4, 3, 2]]\n",
        "# Predict observation's class\n",
        "model.predict(observation)"
      ],
      "metadata": {
        "colab": {
          "base_uri": "https://localhost:8080/"
        },
        "id": "SmQfTxw1S4R1",
        "outputId": "338f043c-3598-4ff2-b142-cdc5b41d8e30"
      },
      "execution_count": 96,
      "outputs": [
        {
          "output_type": "execute_result",
          "data": {
            "text/plain": [
              "array([1])"
            ]
          },
          "metadata": {},
          "execution_count": 96
        }
      ]
    },
    {
      "cell_type": "code",
      "source": [
        "#We can also see the predicted class probabilities of the observation:\n",
        "# View predicted class probabilities for the three classes\n",
        "model.predict_proba(observation)"
      ],
      "metadata": {
        "colab": {
          "base_uri": "https://localhost:8080/"
        },
        "id": "MCqyYdj0TLkd",
        "outputId": "60504b1e-3e34-4ef2-dcea-1d02b0454733"
      },
      "execution_count": 97,
      "outputs": [
        {
          "output_type": "execute_result",
          "data": {
            "text/plain": [
              "array([[0., 1., 0.]])"
            ]
          },
          "metadata": {},
          "execution_count": 97
        }
      ]
    },
    {
      "cell_type": "code",
      "source": [
        "#Finally, if we want to use a different impurity measurement\n",
        "#we can use the criterion parameter:\n",
        "# Create decision tree classifier object using entropy\n",
        "decisiontree_entropy = DecisionTreeClassifier(criterion='entropy', random_state=0)\n",
        "# Train model\n",
        "model_entropy = decisiontree_entropy.fit(features, target)"
      ],
      "metadata": {
        "id": "XGyWu1mqTRHO"
      },
      "execution_count": 98,
      "outputs": []
    },
    {
      "cell_type": "markdown",
      "source": [
        "## Training a Decision Tree Regressor"
      ],
      "metadata": {
        "id": "Zkn--jMMTcU-"
      }
    },
    {
      "cell_type": "code",
      "source": [
        "\"\"\"\n",
        "Decision tree regression works similarly to decision tree classification; however,\n",
        "instead of reducing Gini impurity or entropy, potential splits are by default measured\n",
        "on how much they reduce mean squared error (MSE)\n",
        "\"\"\"\n",
        "\n",
        "from sklearn.tree import DecisionTreeRegressor\n",
        "from sklearn import datasets\n",
        "# Load data with only two features\n",
        "diabetes = datasets.load_diabetes()\n",
        "features = diabetes.data\n",
        "target = diabetes.target\n",
        "# Create decision tree regressor object\n",
        "decisiontree = DecisionTreeRegressor(random_state=0)\n",
        "# Train model\n",
        "model = decisiontree.fit(features, target)"
      ],
      "metadata": {
        "id": "i60gwaGpTgRF"
      },
      "execution_count": 99,
      "outputs": []
    },
    {
      "cell_type": "code",
      "source": [
        "# Make new observation\n",
        "observation = [features[0]]\n",
        "# Predict observation's value\n",
        "model.predict(observation)"
      ],
      "metadata": {
        "colab": {
          "base_uri": "https://localhost:8080/"
        },
        "id": "pAv6rzT6Tt-U",
        "outputId": "9c094080-3046-4704-f8f7-bec72a7858fb"
      },
      "execution_count": 100,
      "outputs": [
        {
          "output_type": "execute_result",
          "data": {
            "text/plain": [
              "array([151.])"
            ]
          },
          "metadata": {},
          "execution_count": 100
        }
      ]
    },
    {
      "cell_type": "code",
      "source": [
        "# Create decision tree classifier object using MAE\n",
        "decisiontree_mae = DecisionTreeRegressor(criterion=\"absolute_error\",\n",
        "random_state=0)\n",
        "# Train model\n",
        "model_mae = decisiontree_mae.fit(features, target)"
      ],
      "metadata": {
        "id": "UA5DVRxYTxdf"
      },
      "execution_count": 101,
      "outputs": []
    },
    {
      "cell_type": "markdown",
      "source": [
        "## Visualizing a Decision Tree Model"
      ],
      "metadata": {
        "id": "92hqAWYdT1js"
      }
    },
    {
      "cell_type": "code",
      "source": [
        "\"\"\"\n",
        "One of the advantages of decision tree classifiers is that we can visualize the entire\n",
        "trained model, making decision trees one of the most interpretable models in\n",
        "machine learning. In our solution, we exported our trained model in DOT format (a\n",
        "graph description language) and then used that to draw the graph\n",
        "\"\"\"\n",
        "import pydotplus\n",
        "from sklearn.tree import DecisionTreeClassifier\n",
        "from sklearn import datasets\n",
        "from IPython.display import Image\n",
        "from sklearn import tree\n",
        "# Load data\n",
        "iris = datasets.load_iris()\n",
        "features = iris.data\n",
        "target = iris.target\n",
        "# Create decision tree classifier object\n",
        "decisiontree = DecisionTreeClassifier(random_state=0)\n",
        "# Train model\n",
        "model = decisiontree.fit(features, target)\n",
        "# Create DOT data\n",
        "dot_data = tree.export_graphviz(decisiontree,\n",
        "                                out_file=None,\n",
        "                                feature_names=iris.feature_names,\n",
        "                                class_names=iris.target_names)\n",
        "# Draw graph\n",
        "graph = pydotplus.graph_from_dot_data(dot_data)\n",
        "# Show graph\n",
        "Image(graph.create_png())"
      ],
      "metadata": {
        "colab": {
          "base_uri": "https://localhost:8080/",
          "height": 562
        },
        "id": "QKrEcs1TT6y_",
        "outputId": "5e4d57a5-8b4f-45ba-dac5-2501f38e1b98"
      },
      "execution_count": 102,
      "outputs": [
        {
          "output_type": "execute_result",
          "data": {
            "image/png": "[encoded data removed]",
            "text/plain": [
              "<IPython.core.display.Image object>"
            ]
          },
          "metadata": {},
          "execution_count": 102
        }
      ]
    },
    {
      "cell_type": "markdown",
      "source": [
        "If we want to use the decision tree in other applications or reports, we can easily\n",
        "export the visualization into PDF or a PNG image:\n",
        "\n",
        "Create PDF :\n",
        "graph.write_pdf(\"iris.pdf\")\n",
        "\n",
        "Create PNG :\n",
        "graph.write_png(\"iris.png\")"
      ],
      "metadata": {
        "id": "SB_3gpgsUq17"
      }
    },
    {
      "cell_type": "markdown",
      "source": [
        "## Training a Random Forest Classifier"
      ],
      "metadata": {
        "id": "GFqH3RBwU7k1"
      }
    },
    {
      "cell_type": "code",
      "source": [
        "\"\"\"\n",
        "You want to train a classification model using a “forest” of\n",
        "randomized decision trees. A common problem with decision trees is that they tend to fit the training data\n",
        "too closely (i.e., overfitting). This has motivated the widespread use of an ensemble\n",
        "learning method called random forest.\n",
        "\n",
        "In a random forest, many decision trees are\n",
        "trained, but each tree receives only a bootstrapped sample of observations (i.e., a\n",
        "random sample of observations with replacement that matches the original number\n",
        "of observations), and each node considers only a subset of features when determining\n",
        "the best split. This forest of randomized decision trees (hence the name) votes to\n",
        "determine the predicted class.\n",
        "\n",
        "However, being a forest rather than an individual decision tree,\n",
        "RandomForestClassifier has certain parameters that are either unique to random\n",
        "forests or particularly important. First, the max_features parameter determines the\n",
        "maximum number of features to be considered at each node and takes a number\n",
        "of arguments including integers (number of features), floats (percentage of features),\n",
        "and sqrt (square root of the number of features). By default, max_features is set to\n",
        "auto, which acts the same as sqrt\n",
        "\n",
        "Second, the bootstrap parameter allows us to set whether the subset of observations considered for a tree is created using sampling\n",
        "with replacement (the default setting) or without replacement.\n",
        "\n",
        "Third, n_estimators sets the number of decision trees to include in the forest.\n",
        "\n",
        "\"\"\"\n",
        "from sklearn.ensemble import RandomForestClassifier\n",
        "from sklearn import datasets\n",
        "# Load data\n",
        "iris = datasets.load_iris()\n",
        "features = iris.data\n",
        "target = iris.target\n",
        "# Create random forest classifier object\n",
        "randomforest = RandomForestClassifier(random_state=0, n_jobs=-1)\n",
        "# Train model\n",
        "model = randomforest.fit(features, target)"
      ],
      "metadata": {
        "id": "s4pQFDxLVAKV"
      },
      "execution_count": 103,
      "outputs": []
    },
    {
      "cell_type": "code",
      "source": [
        "# Make new observation\n",
        "observation = [[ 5, 4, 3, 2]]\n",
        "# Predict observation's class\n",
        "model.predict(observation)"
      ],
      "metadata": {
        "colab": {
          "base_uri": "https://localhost:8080/"
        },
        "id": "FmtFW-zSVVnX",
        "outputId": "41e20f58-8c5a-4b26-d986-533625b2dc06"
      },
      "execution_count": 104,
      "outputs": [
        {
          "output_type": "execute_result",
          "data": {
            "text/plain": [
              "array([1])"
            ]
          },
          "metadata": {},
          "execution_count": 104
        }
      ]
    },
    {
      "cell_type": "code",
      "source": [
        "# Create random forest classifier object using entropy\n",
        "randomforest_entropy = RandomForestClassifier(\n",
        "criterion=\"entropy\", random_state=0)\n",
        "# Train model\n",
        "model_entropy = randomforest_entropy.fit(features, target)"
      ],
      "metadata": {
        "id": "FfC0qZ3_VYRZ"
      },
      "execution_count": 105,
      "outputs": []
    },
    {
      "cell_type": "markdown",
      "source": [
        "## Training a Random Forest Regressor"
      ],
      "metadata": {
        "id": "HPeD5k_2VpZ0"
      }
    },
    {
      "cell_type": "code",
      "source": [
        "\"\"\"\n",
        "Just as we can make a forest of decision tree classifiers, we can make a forest of\n",
        "decision tree regressors, where each tree uses a bootstrapped subset of observations\n",
        "and at each node the decision rule considers only a subset of features. As with\n",
        "RandomForestClassifier we have certain important parameters\n",
        "\n",
        "max_features\n",
        "Sets the maximum number of features to consider at each node. Defaults to p\n",
        "features, where p is the total number of features.\n",
        "\n",
        "bootstrap\n",
        "Sets whether or not to sample with replacement. Defaults to True.\n",
        "\n",
        "n_estimators\n",
        "Sets the number of decision trees to construct. Defaults to 10.\n",
        "\"\"\"\n",
        "\n",
        "from sklearn.ensemble import RandomForestRegressor\n",
        "from sklearn import datasets\n",
        "# Load data with only two features\n",
        "diabetes = datasets.load_diabetes()\n",
        "features = diabetes.data\n",
        "target = diabetes.target\n",
        "# Create random forest regressor object\n",
        "randomforest = RandomForestRegressor(random_state=0, n_jobs=-1)\n",
        "# Train model\n",
        "model = randomforest.fit(features, target)"
      ],
      "metadata": {
        "id": "7nvYKkHJWEHE"
      },
      "execution_count": 106,
      "outputs": []
    },
    {
      "cell_type": "markdown",
      "source": [
        "## Evaluating Random Forests with Out-of-Bag Errors"
      ],
      "metadata": {
        "id": "fNc7DXU5WUl5"
      }
    },
    {
      "cell_type": "code",
      "source": [
        "\"\"\"\n",
        "In random forests, each decision tree is trained using a bootstrapped subset of\n",
        "observations. This means that for every tree there is a separate subset of observations\n",
        "not being used to train that tree. These are called out-of-bag (OOB) observations\n",
        "\n",
        "We can use OOB observations as a test set to evaluate the performance of our random\n",
        "forest. For every observation, the learning algorithm compares the observation’s true value\n",
        "with the prediction from a subset of trees not trained using that observation. The\n",
        "overall score is calculated and provides a single measure of a random forest’s performance.\n",
        "OOB score estimation is an alternative to cross-validation.\n",
        "\n",
        "In scikit-learn, we can compute OOB scores of a random forest by setting\n",
        "oob_score=True in the random forest object (i.e., RandomForestClassifier). The\n",
        "score can be retrieved using oob_score_.\n",
        "\n",
        "\"\"\"\n",
        "\n",
        "from sklearn.ensemble import RandomForestClassifier\n",
        "from sklearn import datasets\n",
        "# Load data\n",
        "iris = datasets.load_iris()\n",
        "features = iris.data\n",
        "target = iris.target\n",
        "# Create random forest classifier object\n",
        "randomforest = RandomForestClassifier(\n",
        "random_state=0, n_estimators=1000, oob_score=True, n_jobs=-1)\n",
        "# Train model\n",
        "model = randomforest.fit(features, target)\n",
        "# View out-of-bag-error\n",
        "randomforest.oob_score_"
      ],
      "metadata": {
        "colab": {
          "base_uri": "https://localhost:8080/"
        },
        "id": "R56FXrGGWZFo",
        "outputId": "e6112e57-f366-46c0-c26c-cc317b50cdb0"
      },
      "execution_count": 107,
      "outputs": [
        {
          "output_type": "execute_result",
          "data": {
            "text/plain": [
              "0.9533333333333334"
            ]
          },
          "metadata": {},
          "execution_count": 107
        }
      ]
    },
    {
      "cell_type": "markdown",
      "source": [
        "## Identifying Important Features in Random Forests"
      ],
      "metadata": {
        "id": "8j9PbnmCW0OU"
      }
    },
    {
      "cell_type": "code",
      "source": [
        "\"\"\"\n",
        "Calculate and visualize the importance of each feature by inspecting the model’s\n",
        "feature_importances_ attribute.\n",
        "\n",
        "we visualized a decision tree classifier model and saw that decision\n",
        "rules based only on petal width were able to classify many observations correctly.\n",
        "Intuitively, we can say this means that petal width is an important feature in\n",
        "our classifier. More formally, features with splits that have the greater mean decrease in\n",
        "impurity (e.g., Gini impurity or entropy in classifiers and variance in regressors) are\n",
        "considered more important.\n",
        "\n",
        "However, there are two things to keep in mind regarding feature importance. First,\n",
        "scikit-learn requires that we break up nominal categorical features into multiple\n",
        "binary features. This has the effect of spreading the importance of that feature across\n",
        "all of the binary features and can make each feature appear to be unimportant\n",
        "even when the original nominal categorical feature is highly important.\n",
        "\n",
        "Second, if two features are highly correlated, one feature will claim much of the importance,\n",
        "making the other feature appear to be far less important, which has implications for\n",
        "interpretation if not considered.\n",
        "\n",
        "In scikit-learn, classification and regression decision trees and random forests can\n",
        "report the relative importance of each feature using the feature_importances_\n",
        "method:\n",
        "\n",
        "\"\"\"\n",
        "import numpy as np\n",
        "import matplotlib.pyplot as plt\n",
        "from sklearn.ensemble import RandomForestClassifier\n",
        "from sklearn import datasets\n",
        "# Load data\n",
        "iris = datasets.load_iris()\n",
        "features = iris.data\n",
        "target = iris.target\n",
        "# Create random forest classifier object\n",
        "randomforest = RandomForestClassifier(random_state=0, n_jobs=-1)\n",
        "# Train model\n",
        "model = randomforest.fit(features, target)\n",
        "# Calculate feature importances\n",
        "importances = model.feature_importances_\n",
        "# Sort feature importances in descending order\n",
        "indices = np.argsort(importances)[::-1]\n",
        "# Rearrange feature names so they match the sorted feature importances\n",
        "names = [iris.feature_names[i] for i in indices]\n",
        "# Create plot\n",
        "plt.figure()\n",
        "# Create plot title\n",
        "plt.title(\"Feature Importance\")\n",
        "# Add bars\n",
        "plt.bar(range(features.shape[1]), importances[indices])\n",
        "# Add feature names as x-axis labels\n",
        "plt.xticks(range(features.shape[1]), names, rotation=90)\n",
        "# Show plot\n",
        "plt.show()"
      ],
      "metadata": {
        "colab": {
          "base_uri": "https://localhost:8080/",
          "height": 560
        },
        "id": "bH26YcbgW2os",
        "outputId": "b048c559-2f0e-4076-943c-60e90b78ff1a"
      },
      "execution_count": 108,
      "outputs": [
        {
          "output_type": "display_data",
          "data": {
            "text/plain": [
              "<Figure size 640x480 with 1 Axes>"
            ],
            "image/png": "[encoded data removed]"
          },
          "metadata": {}
        }
      ]
    },
    {
      "cell_type": "code",
      "source": [
        "# View feature importances - The higher the number, the more important the feature\n",
        "model.feature_importances_"
      ],
      "metadata": {
        "colab": {
          "base_uri": "https://localhost:8080/"
        },
        "id": "MCCeM_Y7Xjs_",
        "outputId": "fc9b7bac-3e87-4f7e-9cb6-dd9a95854d70"
      },
      "execution_count": 109,
      "outputs": [
        {
          "output_type": "execute_result",
          "data": {
            "text/plain": [
              "array([0.09090795, 0.02453104, 0.46044474, 0.42411627])"
            ]
          },
          "metadata": {},
          "execution_count": 109
        }
      ]
    },
    {
      "cell_type": "markdown",
      "source": [
        "## Selecting Important Features in Random Forests"
      ],
      "metadata": {
        "id": "IKiWFWmQXpVE"
      }
    },
    {
      "cell_type": "code",
      "source": [
        "\"\"\"\n",
        "Identify the importance features and retrain the model using only the most important\n",
        "features.\n",
        "\n",
        "In scikit-learn we can use a simple two-stage workflow to create a model with\n",
        "reduced features.\n",
        "\n",
        "First, we train a random forest model using all features. Then,\n",
        "we use this model to identify the most important features. Next, we create a\n",
        "new feature matrix that includes only these features. In our solution, we used the\n",
        "SelectFromModel method to create a feature matrix containing only features with an\n",
        "importance greater than or equal to some threshold value. Finally, we created a new\n",
        "model using only those features.\n",
        "\n",
        "We must note two caveats to this approach. First, nominal categorical features that\n",
        "have been one-hot encoded will see the feature importance diluted across the binary\n",
        "features. Second, the feature importance of highly correlated features will be effectively\n",
        "assigned to one feature and not evenly distributed across both features.\n",
        "\n",
        "\"\"\"\n",
        "from sklearn.ensemble import RandomForestClassifier\n",
        "from sklearn import datasets\n",
        "from sklearn.feature_selection import SelectFromModel\n",
        "# Load data\n",
        "iris = datasets.load_iris()\n",
        "features = iris.data\n",
        "target = iris.target\n",
        "# Create random forest classifier\n",
        "randomforest = RandomForestClassifier(random_state=0, n_jobs=-1)\n",
        "# Create object that selects features with importance greater\n",
        "# than or equal to a threshold\n",
        "selector = SelectFromModel(randomforest, threshold=0.3)\n",
        "# Create new feature matrix using selector\n",
        "features_important = selector.fit_transform(features, target)\n",
        "# Train random forest using most important features\n",
        "model = randomforest.fit(features_important, target)"
      ],
      "metadata": {
        "id": "n3PpNdYqXsQG"
      },
      "execution_count": 110,
      "outputs": []
    },
    {
      "cell_type": "markdown",
      "source": [
        "## Handling Imbalanced Classes"
      ],
      "metadata": {
        "id": "knyccsDbYFMq"
      }
    },
    {
      "cell_type": "code",
      "source": [
        "\"\"\"\n",
        "Train a decision tree or random forest model with class_weight=\"balanced\":\n",
        "\n",
        "We can set\n",
        "RandomForestClassifier to correct for imbalanced classes using the class_weight\n",
        "parameter. If supplied with a dictionary in the form of class names and their\n",
        "desired weights (e.g., {\"male\": 0.2, \"female\": 0.8})\n",
        "\n",
        "However, often a more useful argument is bal\n",
        "anced, wherein classes are automatically weighted inversely proportional to how\n",
        "frequently they appear in the data\n",
        "\n",
        "\"\"\"\n",
        "import numpy as np\n",
        "from sklearn.ensemble import RandomForestClassifier\n",
        "from sklearn import datasets\n",
        "# Load data\n",
        "iris = datasets.load_iris()\n",
        "features = iris.data\n",
        "target = iris.target\n",
        "# Make class highly imbalanced by removing first 40 observations\n",
        "features = features[40:,:]\n",
        "target = target[40:]\n",
        "# Create target vector indicating if class 0, otherwise 1\n",
        "target = np.where((target == 0), 0, 1)\n",
        "# Create random forest classifier object\n",
        "randomforest = RandomForestClassifier(random_state=0,\n",
        "                                      n_jobs=-1,\n",
        "                                      class_weight=\"balanced\")\n",
        "# Train model\n",
        "model = randomforest.fit(features, target)"
      ],
      "metadata": {
        "id": "FBsGaFKgYLcn"
      },
      "execution_count": 111,
      "outputs": []
    },
    {
      "cell_type": "markdown",
      "source": [
        "## Controlling Tree Size"
      ],
      "metadata": {
        "id": "ioXUvZJXYvKG"
      }
    },
    {
      "cell_type": "code",
      "source": [
        "\"\"\"\n",
        "Use the tree structure parameters in scikit-learn tree-based learning algorithms\n",
        "\n",
        "max_depth\n",
        "Maximum depth of the tree. If None, the tree is grown until all leaves are pure. If\n",
        "an integer, the tree is effectively “pruned” to that depth\n",
        "\n",
        "min_samples_split\n",
        "Minimum number of observations at a node before that node is split. If an\n",
        "integer is supplied as an argument, it determines the raw minimum, while if a\n",
        "float is supplied, the minimum is the percent of total observations.\n",
        "\n",
        "min_samples_leaf\n",
        "Minimum number of observations required to be at a leaf. Uses the same arguments\n",
        "as min_samples_split.\n",
        "\n",
        "max_leaf_nodes\n",
        "Maximum number of leaves.\n",
        "\n",
        "min_impurity_split\n",
        "Minimum impurity decrease required before a split is performed.\n",
        "\n",
        "While it is useful to know these parameters exist, most likely we will only be\n",
        "using max_depth and min_impurity_split because shallower trees (sometimes called\n",
        "stumps) are simpler models and thus have lower variance\n",
        "\n",
        "\"\"\"\n",
        "from sklearn.tree import DecisionTreeClassifier\n",
        "from sklearn import datasets\n",
        "# Load data\n",
        "iris = datasets.load_iris()\n",
        "features = iris.data\n",
        "target = iris.target\n",
        "# Create decision tree classifier object\n",
        "decisiontree = DecisionTreeClassifier(random_state=0,\n",
        "                                      max_depth=None,\n",
        "                                      min_samples_split=2,\n",
        "                                      min_samples_leaf=1,\n",
        "                                      min_weight_fraction_leaf=0,\n",
        "                                      max_leaf_nodes=None,\n",
        "                                      min_impurity_decrease=0)\n",
        "# Train model\n",
        "model = decisiontree.fit(features, target)"
      ],
      "metadata": {
        "id": "Do-YKAgfYxa8"
      },
      "execution_count": 112,
      "outputs": []
    },
    {
      "cell_type": "markdown",
      "source": [
        "## Improving Performance Through Boosting"
      ],
      "metadata": {
        "id": "i39ShQnsZMOf"
      }
    },
    {
      "cell_type": "markdown",
      "source": [
        "In a random forest, an ensemble (group) of randomized decision trees predicts the\n",
        "target vector. An alternative, and often more powerful, approach is called boosting.\n",
        "In one form of boosting called AdaBoost, we iteratively train a series of weak models\n",
        "(most often a shallow decision tree, sometimes called a stump), each iteration giving\n",
        "higher priority to observations the previous model predicted incorrectly. More specifically,\n",
        "in AdaBoost:\n",
        "\n",
        "1. Assign every observation, x_i, an initial weight value, w_i = 1/n , where n is the total\n",
        "number of observations in the data.\n",
        "\n",
        "2. Train a “weak” model on the data.\n",
        "\n",
        "3. For each observation:\n",
        " - If weak model predicts x_i correctly, w_i is decreased.\n",
        " - If weak model predicts x_i incorrectly, w_i is increased.\n",
        "\n",
        "4. Train a new weak model where observations with greater wi are given greater\n",
        "priority.\n",
        "\n",
        "5. Repeat steps 4 and 5 until the data is perfectly predicted or a preset number of\n",
        "weak models has been trained."
      ],
      "metadata": {
        "id": "SxFZ-vSgZWtD"
      }
    },
    {
      "cell_type": "markdown",
      "source": [
        "The result is an aggregated model where individual weak models focus on more difficult\n",
        "(from a prediction perspective) observations. In scikit-learn, we can implement AdaBoost using AdaBoostClassifier or AdaBoostRegressor. The most important\n",
        "parameters are base_estimator, n_estimators, learning_rate, and loss.\n",
        "\n",
        "**base_estimator**\n",
        "base_estimator is the learning algorithm to use to train the weak models. The\n",
        "most common learner to use with AdaBoost is a decision tree, the parameter’s\n",
        "default argument.\n",
        "\n",
        "**n_estimators**\n",
        "n_estimators is the number of models to iteratively train.\n",
        "\n",
        "**learning_rate**\n",
        "learning_rate is the contribution of each model to the weights, and it defaults\n",
        "to 1. Reducing the learning rate will mean the weights will be increased or\n",
        "decreased to a small degree, forcing the model to train slower (but sometimes\n",
        "resulting in better performance scores).\n",
        "\n",
        "**loss**\n",
        "loss is exclusive to AdaBoostRegressor and sets the loss function to use when\n",
        "updating weights. This defaults to a linear loss function but can be changed to\n",
        "square or exponential\n"
      ],
      "metadata": {
        "id": "dl0RdpY5Z4t2"
      }
    },
    {
      "cell_type": "code",
      "source": [
        "\"\"\"\n",
        "Train a boosted model using AdaBoostClassifier or AdaBoostRegressor\n",
        "\"\"\"\n",
        "from sklearn.ensemble import AdaBoostClassifier\n",
        "from sklearn import datasets\n",
        "# Load data\n",
        "iris = datasets.load_iris()\n",
        "features = iris.data\n",
        "target = iris.target\n",
        "# Create adaboost tree classifier object\n",
        "adaboost = AdaBoostClassifier(random_state=0)\n",
        "# Train model\n",
        "model = adaboost.fit(features, target)\n"
      ],
      "metadata": {
        "id": "8yc1AncYZOPf"
      },
      "execution_count": 113,
      "outputs": []
    },
    {
      "cell_type": "markdown",
      "source": [
        "## Training an XGBoost Model"
      ],
      "metadata": {
        "id": "UHd5cm-xaTsw"
      }
    },
    {
      "cell_type": "markdown",
      "source": [
        "XGBoost (which stands for Extreme Gradient Boosting) is a very popular gradient\n",
        "boosting algorithm in the machine learning space. Though it is not always a treebased\n",
        "model, it is frequently applied to ensembles of decision trees\n"
      ],
      "metadata": {
        "id": "y-jNbQJjak7X"
      }
    },
    {
      "cell_type": "code",
      "source": [
        "# Load libraries\n",
        "import xgboost as xgb\n",
        "from sklearn import datasets, preprocessing\n",
        "from sklearn.metrics import classification_report\n",
        "from numpy import argmax\n",
        "# Load data\n",
        "iris = datasets.load_iris()\n",
        "features = iris.data\n",
        "target = iris.target\n",
        "# Create dataset\n",
        "xgb_train = xgb.DMatrix(features, label=target)\n",
        "# Define parameters\n",
        "param = {\n",
        "'objective': 'multi:softprob',\n",
        "'num_class': 3\n",
        "}\n",
        "# Train model\n",
        "gbm = xgb.train(param, xgb_train)\n",
        "# Get predictions\n",
        "predictions = argmax(gbm.predict(xgb_train), axis=1)\n",
        "# Get a classification report\n",
        "print(classification_report(target, predictions))"
      ],
      "metadata": {
        "colab": {
          "base_uri": "https://localhost:8080/"
        },
        "id": "UJJBvGQXaeeL",
        "outputId": "64a3b371-3e6e-4330-81c2-30349f5bdca3"
      },
      "execution_count": 114,
      "outputs": [
        {
          "output_type": "stream",
          "name": "stdout",
          "text": [
            "              precision    recall  f1-score   support\n",
            "\n",
            "           0       1.00      1.00      1.00        50\n",
            "           1       1.00      0.96      0.98        50\n",
            "           2       0.96      1.00      0.98        50\n",
            "\n",
            "    accuracy                           0.99       150\n",
            "   macro avg       0.99      0.99      0.99       150\n",
            "weighted avg       0.99      0.99      0.99       150\n",
            "\n"
          ]
        }
      ]
    },
    {
      "cell_type": "markdown",
      "source": [
        "## Improving Real-Time Performance with LightGBM"
      ],
      "metadata": {
        "id": "BGVN7sJ2au5E"
      }
    },
    {
      "cell_type": "code",
      "source": [
        "\"\"\"\n",
        "You need to train a gradient boosted tree-based model that is computationally\n",
        "optimized\n",
        "\n",
        "The lightgbm library is used for gradient boosted machines and is highly optimized\n",
        "for training time, inference, and GPU support. As a result of its computational efficiency,\n",
        "it’s often used in production and in large scale settings. Although scikit-learn\n",
        "models are typically easier to use, some libraries, such as lightgbm, can be handy\n",
        "when you’re limited by large data or strict model training/serving times.\n",
        "\n",
        "\"\"\"\n",
        "import lightgbm as lgb\n",
        "from sklearn import datasets, preprocessing\n",
        "from sklearn.metrics import classification_report\n",
        "from numpy import argmax\n",
        "# Load data\n",
        "iris = datasets.load_iris()\n",
        "features = iris.data\n",
        "target = iris.target\n",
        "# Create dataset\n",
        "lgb_train = lgb.Dataset(features, target)\n",
        "# Define parameters\n",
        "params = {\n",
        "'objective': 'multiclass',\n",
        "'num_class': 3,\n",
        "'verbose': -1,\n",
        "}\n",
        "# Train model\n",
        "gbm = lgb.train(params, lgb_train)\n",
        "# Get predictions\n",
        "predictions = argmax(gbm.predict(features), axis=1)\n",
        "# Get a classification report\n",
        "print(classification_report(target, predictions))"
      ],
      "metadata": {
        "colab": {
          "base_uri": "https://localhost:8080/"
        },
        "id": "cCIs1dxuaxJ7",
        "outputId": "a78d2896-307d-4223-b162-5fd4984e0d59"
      },
      "execution_count": 115,
      "outputs": [
        {
          "output_type": "stream",
          "name": "stdout",
          "text": [
            "              precision    recall  f1-score   support\n",
            "\n",
            "           0       1.00      1.00      1.00        50\n",
            "           1       1.00      1.00      1.00        50\n",
            "           2       1.00      1.00      1.00        50\n",
            "\n",
            "    accuracy                           1.00       150\n",
            "   macro avg       1.00      1.00      1.00       150\n",
            "weighted avg       1.00      1.00      1.00       150\n",
            "\n"
          ]
        }
      ]
    },
    {
      "cell_type": "markdown",
      "source": [
        "# **K-Nearest Neighbors**"
      ],
      "metadata": {
        "id": "FhZOldBTbCQH"
      }
    },
    {
      "cell_type": "markdown",
      "source": [
        "KNN is often considered a lazy\n",
        "learner; it doesn’t technically train a model to make predictions. Instead an observation\n",
        "is predicted to be the same class as that of the largest proportion of the k nearest\n",
        "observations.\n",
        "\n",
        "For example, if an observation with an unknown class is surrounded by an observation\n",
        "of class 1, then the observation is classified as class"
      ],
      "metadata": {
        "id": "t1NWfFhKigcr"
      }
    },
    {
      "cell_type": "markdown",
      "source": [
        "## Finding an Observation’s Nearest Neighbors"
      ],
      "metadata": {
        "id": "daaqx0sQimSf"
      }
    },
    {
      "cell_type": "code",
      "source": [
        "from sklearn import datasets\n",
        "from sklearn.neighbors import NearestNeighbors\n",
        "from sklearn.preprocessing import StandardScaler\n",
        "# Load data\n",
        "iris = datasets.load_iris()\n",
        "features = iris.data\n",
        "# Create standardizer\n",
        "standardizer = StandardScaler()\n",
        "# Standardize features\n",
        "features_standardized = standardizer.fit_transform(features)\n",
        "# Two nearest neighbors\n",
        "nearest_neighbors = NearestNeighbors(n_neighbors=2).fit(features_standardized)\n",
        "# Create an observation\n",
        "new_observation = [ 1, 1, 1, 1]\n",
        "# Find distances and indices of the observation's nearest neighbors\n",
        "distances, indices = nearest_neighbors.kneighbors([new_observation])\n",
        "# View the nearest neighbors\n",
        "features_standardized[indices]"
      ],
      "metadata": {
        "colab": {
          "base_uri": "https://localhost:8080/"
        },
        "id": "sI80_fdhikrG",
        "outputId": "8b51e241-df31-41e6-a8a4-f8b4e25550c9"
      },
      "execution_count": 116,
      "outputs": [
        {
          "output_type": "execute_result",
          "data": {
            "text/plain": [
              "array([[[1.03800476, 0.55861082, 1.10378283, 1.18556721],\n",
              "        [0.79566902, 0.32841405, 0.76275827, 1.05393502]]])"
            ]
          },
          "metadata": {},
          "execution_count": 116
        }
      ]
    },
    {
      "cell_type": "code",
      "source": [
        "# Find two nearest neighbors based on Euclidean distance\n",
        "nearestneighbors_euclidean = NearestNeighbors(n_neighbors=2,\n",
        "                                              metric='euclidean'\n",
        "                                              ).fit(features_standardized)"
      ],
      "metadata": {
        "id": "rNf7mWbnjfi3"
      },
      "execution_count": 117,
      "outputs": []
    },
    {
      "cell_type": "code",
      "source": [
        "# The distance variable we created contains the actual distance measurement to each\n",
        "#of the two nearest neighbors:\n",
        "# View distances\n",
        "distances"
      ],
      "metadata": {
        "colab": {
          "base_uri": "https://localhost:8080/"
        },
        "id": "sv0YSF0ZjnEB",
        "outputId": "a9478870-5333-4981-fd9b-2fae5122cd59"
      },
      "execution_count": 118,
      "outputs": [
        {
          "output_type": "execute_result",
          "data": {
            "text/plain": [
              "array([[0.49140089, 0.74294782]])"
            ]
          },
          "metadata": {},
          "execution_count": 118
        }
      ]
    },
    {
      "cell_type": "code",
      "source": [
        "# Find each observation's three nearest neighbors\n",
        "# based on Euclidean distance (including itself)\n",
        "nearestneighbors_euclidean = NearestNeighbors(\n",
        "n_neighbors=3, metric=\"euclidean\").fit(features_standardized)"
      ],
      "metadata": {
        "id": "XwcNvCikjxlt"
      },
      "execution_count": 119,
      "outputs": []
    },
    {
      "cell_type": "code",
      "source": [
        "# List of lists indicating each observation's three nearest neighbors\n",
        "# (including itself)\n",
        "nearest_neighbors_with_self = nearestneighbors_euclidean.kneighbors_graph(\n",
        "features_standardized).toarray()"
      ],
      "metadata": {
        "id": "9mxv6DW9j0VN"
      },
      "execution_count": 120,
      "outputs": []
    },
    {
      "cell_type": "code",
      "source": [
        "# Remove 1s marking an observation is a nearest neighbor to itself\n",
        "for i, x in enumerate(nearest_neighbors_with_self):\n",
        "  x[i] = 0\n",
        "# View first observation's two nearest neighbors\n",
        "nearest_neighbors_with_self[0]"
      ],
      "metadata": {
        "colab": {
          "base_uri": "https://localhost:8080/"
        },
        "id": "y-G6lkFZj4Vn",
        "outputId": "2f035519-bddb-4823-977b-61f45fbd5ed5"
      },
      "execution_count": 121,
      "outputs": [
        {
          "output_type": "execute_result",
          "data": {
            "text/plain": [
              "array([0., 0., 0., 0., 0., 0., 0., 0., 0., 0., 0., 0., 0., 0., 0., 0., 0.,\n",
              "       1., 0., 0., 0., 0., 0., 0., 0., 0., 0., 1., 0., 0., 0., 0., 0., 0.,\n",
              "       0., 0., 0., 0., 0., 0., 0., 0., 0., 0., 0., 0., 0., 0., 0., 0., 0.,\n",
              "       0., 0., 0., 0., 0., 0., 0., 0., 0., 0., 0., 0., 0., 0., 0., 0., 0.,\n",
              "       0., 0., 0., 0., 0., 0., 0., 0., 0., 0., 0., 0., 0., 0., 0., 0., 0.,\n",
              "       0., 0., 0., 0., 0., 0., 0., 0., 0., 0., 0., 0., 0., 0., 0., 0., 0.,\n",
              "       0., 0., 0., 0., 0., 0., 0., 0., 0., 0., 0., 0., 0., 0., 0., 0., 0.,\n",
              "       0., 0., 0., 0., 0., 0., 0., 0., 0., 0., 0., 0., 0., 0., 0., 0., 0.,\n",
              "       0., 0., 0., 0., 0., 0., 0., 0., 0., 0., 0., 0., 0., 0.])"
            ]
          },
          "metadata": {},
          "execution_count": 121
        }
      ]
    },
    {
      "cell_type": "markdown",
      "source": [
        "## Creating a K-Nearest Neighbors Classifier"
      ],
      "metadata": {
        "id": "_VaCHoYIkiYw"
      }
    },
    {
      "cell_type": "code",
      "source": [
        "\"\"\"\n",
        "KNeighborsClassifier contains a number of important parameters to consider.\n",
        "\n",
        "First: metric sets the distance metric used.\n",
        "\n",
        "Second: n_jobs determines how many of the computer’s cores to use.\n",
        "\n",
        "Third: algorithm sets the method used to calculate the nearest neighbors.\n",
        "(While there are real differences in the algorithms, by default\n",
        "KNeighborsClassifier attempts to auto-select the best algorithm so you often don’t\n",
        "need to worry about this parameter)\n",
        "\n",
        "Fourth: by default KNeighborsClassifier works\n",
        "how we described previously, with each observation in the neighborhood getting one\n",
        "vote; however, if we set the weights parameter to distance, the closer observations’\n",
        "votes are weighted more than observations farther away.\n",
        "\n",
        "\"\"\"\n",
        "from sklearn.neighbors import KNeighborsClassifier\n",
        "from sklearn.preprocessing import StandardScaler\n",
        "from sklearn import datasets\n",
        "# Load data\n",
        "iris = datasets.load_iris()\n",
        "X = iris.data\n",
        "y = iris.target\n",
        "# Create standardizer\n",
        "standardizer = StandardScaler()\n",
        "# Standardize features\n",
        "X_std = standardizer.fit_transform(X)\n",
        "# Train a KNN classifier with 5 neighbors\n",
        "knn = KNeighborsClassifier(n_neighbors=5, n_jobs=-1).fit(X_std, y)\n",
        "# Create two observations\n",
        "new_observations = [[ 0.75, 0.75, 0.75, 0.75],\n",
        "                    [ 1, 1, 1, 1]]\n",
        "# Predict the class of two observations\n",
        "knn.predict(new_observations)"
      ],
      "metadata": {
        "colab": {
          "base_uri": "https://localhost:8080/"
        },
        "id": "d_pGyWZBk4u6",
        "outputId": "503b4980-2a35-49af-ee6b-24f27977188d"
      },
      "execution_count": 122,
      "outputs": [
        {
          "output_type": "execute_result",
          "data": {
            "text/plain": [
              "array([1, 2])"
            ]
          },
          "metadata": {},
          "execution_count": 122
        }
      ]
    },
    {
      "cell_type": "code",
      "source": [
        "# View probability that each observation is one of three classes\n",
        "knn.predict_proba(new_observations)"
      ],
      "metadata": {
        "colab": {
          "base_uri": "https://localhost:8080/"
        },
        "id": "9D2zFkNClQOI",
        "outputId": "24357402-dff6-48cd-c291-282466fb19af"
      },
      "execution_count": 123,
      "outputs": [
        {
          "output_type": "execute_result",
          "data": {
            "text/plain": [
              "array([[0. , 0.6, 0.4],\n",
              "       [0. , 0. , 1. ]])"
            ]
          },
          "metadata": {},
          "execution_count": 123
        }
      ]
    },
    {
      "cell_type": "code",
      "source": [
        "\"\"\"\n",
        "The class with the highest probability becomes the predicted class. For example, in\n",
        "the preceding output, the first observation should be class 1 (Pr = 0.6) while the\n",
        "second observation should be class 2 (Pr = 1), and this is just what we see:\n",
        "\"\"\"\n",
        "knn.predict(new_observations)"
      ],
      "metadata": {
        "colab": {
          "base_uri": "https://localhost:8080/"
        },
        "id": "n3fRxMN9lZQP",
        "outputId": "5889195a-e4d6-40f0-8dae-ae3c782caff5"
      },
      "execution_count": 124,
      "outputs": [
        {
          "output_type": "execute_result",
          "data": {
            "text/plain": [
              "array([1, 2])"
            ]
          },
          "metadata": {},
          "execution_count": 124
        }
      ]
    },
    {
      "cell_type": "markdown",
      "source": [
        "## Identifying the Best Neighborhood Size"
      ],
      "metadata": {
        "id": "pq6CXBxYmLsH"
      }
    },
    {
      "cell_type": "code",
      "source": [
        "\"\"\"\n",
        "You want to select the best value for k in a k-nearest neighbors classifier.\n",
        "Use model selection techniques like GridSearchCV:\n",
        "\n",
        "The size of k has real implications in KNN classifiers. In machine learning we are\n",
        "trying to find a balance between bias and variance, and in few places is that as explicit\n",
        "as the value of k\n",
        "\n",
        "If k = n, where n is the number of observations, then we have high\n",
        "bias but low variance.\n",
        "\n",
        "If k = 1, we will have low bias but high variance. (Granular observations)\n",
        "\n",
        "The best model will come from finding the value of k that balances this bias-variance trade-off.\n",
        "In our solution, we used GridSearchCV to conduct five-fold cross-validation on KNN\n",
        "classifiers with different values of k. When that is completed, we can see the k that\n",
        "produces the best model\n",
        "\n",
        "\"\"\"\n",
        "# Load libraries\n",
        "from sklearn.neighbors import KNeighborsClassifier\n",
        "from sklearn import datasets\n",
        "from sklearn.preprocessing import StandardScaler\n",
        "from sklearn.pipeline import Pipeline, FeatureUnion\n",
        "from sklearn.model_selection import GridSearchCV\n",
        "# Load data\n",
        "iris = datasets.load_iris()\n",
        "features = iris.data\n",
        "target = iris.target\n",
        "# Create standardizer\n",
        "standardizer = StandardScaler()\n",
        "# Create a KNN classifier\n",
        "knn = KNeighborsClassifier(n_neighbors=5, n_jobs=-1)\n",
        "# Create a pipeline\n",
        "pipe = Pipeline([(\"standardizer\", standardizer), (\"knn\", knn)])\n",
        "# Create space of candidate values\n",
        "search_space = [{\"knn__n_neighbors\": [1, 2, 3, 4, 5, 6, 7, 8, 9, 10]}]\n",
        "# Create grid search\n",
        "classifier = GridSearchCV(pipe,\n",
        "                          search_space,\n",
        "                          cv=5,\n",
        "                          verbose=0).fit(features_standardized, target)"
      ],
      "metadata": {
        "id": "zZLO3TK9VPZh"
      },
      "execution_count": 126,
      "outputs": []
    },
    {
      "cell_type": "code",
      "source": [
        "# Best neighborhood size (k)\n",
        "classifier.best_estimator_.get_params()[\"knn__n_neighbors\"]"
      ],
      "metadata": {
        "colab": {
          "base_uri": "https://localhost:8080/"
        },
        "id": "shTN-Zerm-yI",
        "outputId": "2ab62a49-f69f-4d50-8772-a8e855fac70f"
      },
      "execution_count": 127,
      "outputs": [
        {
          "output_type": "execute_result",
          "data": {
            "text/plain": [
              "6"
            ]
          },
          "metadata": {},
          "execution_count": 127
        }
      ]
    },
    {
      "cell_type": "markdown",
      "source": [
        "## Creating a Radius-Based Nearest Neighbors Classifier"
      ],
      "metadata": {
        "id": "TpEOLdEAnE3a"
      }
    },
    {
      "cell_type": "code",
      "source": [
        "\"\"\"\n",
        "Given an observation of unknown class, you need to predict its class based on the\n",
        "class of all observations within a certain distance\n",
        "\n",
        "In KNN classification, an observation’s class is predicted from the classes of its k\n",
        "neighbors. A less common technique is classification in a radius-based nearest neighbor\n",
        "(RNN) classifier, where an observation’s class is predicted from the classes of all\n",
        "observations within a given radius r.\n",
        "\n",
        "RadiusNeighbors\n",
        "Classifier we need to specify the radius of the fixed area used to determine if\n",
        "an observation is a neighbor using radius. Unless there is some substantive reason\n",
        "for setting radius to some value, it’s best to treat it like any other hyperparameter\n",
        "and tune it during model selection.\n",
        "\n",
        "The second useful parameter is outlier_label,\n",
        "which indicates what label to give an observation that has no observations within the\n",
        "radius—which itself can be a useful tool for identifying outliers.\n",
        "\n",
        "\"\"\"\n",
        "from sklearn.neighbors import RadiusNeighborsClassifier\n",
        "from sklearn.preprocessing import StandardScaler\n",
        "from sklearn import datasets\n",
        "# Load data\n",
        "iris = datasets.load_iris()\n",
        "features = iris.data\n",
        "target = iris.target\n",
        "# Create standardizer\n",
        "standardizer = StandardScaler()\n",
        "# Standardize features\n",
        "features_standardized = standardizer.fit_transform(features)\n",
        "# Train a radius neighbors classifier\n",
        "rnn = RadiusNeighborsClassifier(\n",
        "radius=.5, n_jobs=-1).fit(features_standardized, target)\n",
        "# Create two observations\n",
        "new_observations = [[ 1, 1, 1, 1]]\n",
        "# Predict the class of two observations\n",
        "rnn.predict(new_observations)"
      ],
      "metadata": {
        "colab": {
          "base_uri": "https://localhost:8080/"
        },
        "id": "pEufIqTDnI7Q",
        "outputId": "9e3559ba-ff77-43f6-d876-72b7369ea9cc"
      },
      "execution_count": 128,
      "outputs": [
        {
          "output_type": "execute_result",
          "data": {
            "text/plain": [
              "array([2])"
            ]
          },
          "metadata": {},
          "execution_count": 128
        }
      ]
    },
    {
      "cell_type": "markdown",
      "source": [
        "# Logistic Regression"
      ],
      "metadata": {
        "id": "N1--3LIAot4B"
      }
    },
    {
      "cell_type": "code",
      "source": [
        "from sklearn.linear_model import LogisticRegression\n",
        "from sklearn import datasets\n",
        "from sklearn.preprocessing import StandardScaler\n",
        "# Load data with only two classes\n",
        "iris = datasets.load_iris()\n",
        "features = iris.data[:100,:]\n",
        "target = iris.target[:100]\n",
        "# Standardize features\n",
        "scaler = StandardScaler()\n",
        "features_standardized = scaler.fit_transform(features)\n",
        "# Create logistic regression object\n",
        "logistic_regression = LogisticRegression(random_state=0)\n",
        "# Train model\n",
        "model = logistic_regression.fit(features_standardized, target)"
      ],
      "metadata": {
        "id": "QTfsMORkTaty"
      },
      "execution_count": 129,
      "outputs": []
    },
    {
      "cell_type": "code",
      "source": [
        "# Create new observation\n",
        "new_observation = [[.5, .5, .5, .5]]\n",
        "# Predict class\n",
        "model.predict(new_observation)"
      ],
      "metadata": {
        "colab": {
          "base_uri": "https://localhost:8080/"
        },
        "id": "5fA5i87zVxWa",
        "outputId": "e911344f-6df0-46e2-a99f-13e0c0ce59ad"
      },
      "execution_count": 130,
      "outputs": [
        {
          "output_type": "execute_result",
          "data": {
            "text/plain": [
              "array([1])"
            ]
          },
          "metadata": {},
          "execution_count": 130
        }
      ]
    },
    {
      "cell_type": "code",
      "source": [
        "# View predicted probabilities\n",
        "model.predict_proba(new_observation)\n",
        "\"\"\"\n",
        "Our observation had a 17.7% chance of being class 0 and an 82.2% chance of being\n",
        "class 1.\n",
        "\"\"\""
      ],
      "metadata": {
        "colab": {
          "base_uri": "https://localhost:8080/",
          "height": 53
        },
        "id": "esQwuBUCV1Mn",
        "outputId": "696b8851-bf7e-4655-ee56-ceef0cac4a44"
      },
      "execution_count": 132,
      "outputs": [
        {
          "output_type": "execute_result",
          "data": {
            "text/plain": [
              "'\\nOur observation had a 17.7% chance of being class 0 and an 82.2% chance of being\\nclass 1.\\n'"
            ],
            "application/vnd.google.colaboratory.intrinsic+json": {
              "type": "string"
            }
          },
          "metadata": {},
          "execution_count": 132
        }
      ]
    },
    {
      "cell_type": "markdown",
      "source": [
        "## Training a Multiclass Classifier"
      ],
      "metadata": {
        "id": "YXvs5i6FV7al"
      }
    },
    {
      "cell_type": "code",
      "source": [
        "from sklearn.linear_model import LogisticRegression\n",
        "from sklearn import datasets\n",
        "from sklearn.preprocessing import StandardScaler\n",
        "# Load data\n",
        "iris = datasets.load_iris()\n",
        "features = iris.data\n",
        "target = iris.target\n",
        "# Standardize features\n",
        "scaler = StandardScaler()\n",
        "features_standardized = scaler.fit_transform(features)\n",
        "# Create one-vs-rest logistic regression object\n",
        "logistic_regression = LogisticRegression(random_state=0)\n",
        "# Train model\n",
        "model = logistic_regression.fit(features_standardized, target)"
      ],
      "metadata": {
        "id": "53WnOlLJWEpw"
      },
      "execution_count": 134,
      "outputs": []
    },
    {
      "cell_type": "markdown",
      "source": [
        "## Reducing Variance Through Regularization"
      ],
      "metadata": {
        "id": "CtrSIq8QWuSp"
      }
    },
    {
      "cell_type": "code",
      "source": [
        "from sklearn.linear_model import LogisticRegressionCV\n",
        "from sklearn import datasets\n",
        "from sklearn.preprocessing import StandardScaler\n",
        "# Load data\n",
        "iris = datasets.load_iris()\n",
        "features = iris.data\n",
        "target = iris.target\n",
        "# Standardize features\n",
        "scaler = StandardScaler()\n",
        "features_standardized = scaler.fit_transform(features)\n",
        "# Create decision tree regression object\n",
        "logistic_regression = LogisticRegressionCV(\n",
        "penalty='l2', Cs=10, random_state=0, n_jobs=-1)\n",
        "# Train model\n",
        "model = logistic_regression.fit(features_standardized, target)"
      ],
      "metadata": {
        "id": "FadiQCmjWyhe"
      },
      "execution_count": 136,
      "outputs": []
    },
    {
      "cell_type": "markdown",
      "source": [
        "## Training a Classifier on Very Large Data"
      ],
      "metadata": {
        "id": "X1iEek37X41N"
      }
    },
    {
      "cell_type": "code",
      "source": [
        "\"\"\"\n",
        "stochastic average\n",
        "gradient descent allows us to train a model much faster than other solvers when our\n",
        "data is very large. However, it is also very sensitive to feature scaling, so standardizing\n",
        "our features is particularly important. We can set our learning algorithm to use this\n",
        "solver by setting solver=\"sag\"\n",
        "\"\"\"\n",
        "\n",
        "from sklearn.linear_model import LogisticRegression\n",
        "from sklearn import datasets\n",
        "from sklearn.preprocessing import StandardScaler\n",
        "# Load data\n",
        "iris = datasets.load_iris()\n",
        "features = iris.data\n",
        "target = iris.target\n",
        "# Standardize features\n",
        "scaler = StandardScaler()\n",
        "features_standardized = scaler.fit_transform(features)\n",
        "# Create logistic regression object\n",
        "logistic_regression = LogisticRegression(random_state=0, solver=\"sag\")\n",
        "# Train model\n",
        "model = logistic_regression.fit(features_standardized, target)"
      ],
      "metadata": {
        "id": "3GCU1y3zX7I9"
      },
      "execution_count": 137,
      "outputs": []
    },
    {
      "cell_type": "markdown",
      "source": [
        "## Handling Imbalanced Classes"
      ],
      "metadata": {
        "id": "UbKr2ZhxYpST"
      }
    },
    {
      "cell_type": "code",
      "source": [
        "\"\"\"\n",
        "If we have highly imbalanced\n",
        "classes and have not addressed it during preprocessing, we have the option of using\n",
        "the class_weight parameter to weight the classes to make certain we have a balanced\n",
        "mix of each class.\n",
        "\"\"\"\n",
        "import numpy as np\n",
        "from sklearn.linear_model import LogisticRegression\n",
        "from sklearn import datasets\n",
        "from sklearn.preprocessing import StandardScaler\n",
        "# Load data\n",
        "iris = datasets.load_iris()\n",
        "features = iris.data\n",
        "target = iris.target\n",
        "# Make class highly imbalanced by removing first 40 observations\n",
        "features = features[40:,:]\n",
        "target = target[40:]\n",
        "# Create target vector indicating if class 0, otherwise 1\n",
        "target = np.where((target == 0), 0, 1)\n",
        "# Standardize features\n",
        "scaler = StandardScaler()\n",
        "features_standardized = scaler.fit_transform(features)\n",
        "# Create decision tree regression object\n",
        "logistic_regression = LogisticRegression(random_state=0, class_weight=\"balanced\")\n",
        "# Train model\n",
        "model = logistic_regression.fit(features_standardized, target)"
      ],
      "metadata": {
        "id": "YB8fEvUMYfEf"
      },
      "execution_count": 138,
      "outputs": []
    },
    {
      "cell_type": "markdown",
      "source": [
        "# Support Vector Machines"
      ],
      "metadata": {
        "id": "0JJfgPASY4CO"
      }
    },
    {
      "cell_type": "markdown",
      "source": [
        "Support vector machines classify data by finding the hyperplane that maximizes the\n",
        "margin between the classes in the training data. In a two-dimensional example with\n",
        "two classes, we can think of a hyperplane as the widest straight “band” (i.e., line with\n",
        "margins) that separates the two classes."
      ],
      "metadata": {
        "id": "iKNi831DZoaj"
      }
    },
    {
      "cell_type": "markdown",
      "source": [
        "## Training a Linear Classifier"
      ],
      "metadata": {
        "id": "r0pwbLdQZu8U"
      }
    },
    {
      "cell_type": "code",
      "source": [
        "# Load libraries\n",
        "from sklearn.svm import LinearSVC\n",
        "from sklearn import datasets\n",
        "from sklearn.preprocessing import StandardScaler\n",
        "import numpy as np\n",
        "# Load data with only two classes and two features\n",
        "iris = datasets.load_iris()\n",
        "features = iris.data[:100,:2]\n",
        "target = iris.target[:100]\n",
        "# Standardize features\n",
        "scaler = StandardScaler()\n",
        "features_standardized = scaler.fit_transform(features)\n",
        "# Create support vector classifier\n",
        "svc = LinearSVC(C=1.0)\n",
        "# Train model\n",
        "model = svc.fit(features_standardized, target)"
      ],
      "metadata": {
        "id": "KT_BJxlpZ6of"
      },
      "execution_count": 139,
      "outputs": []
    },
    {
      "cell_type": "code",
      "source": [
        "# Load library\n",
        "from matplotlib import pyplot as plt\n",
        "# Plot data points and color using their class\n",
        "color = [\"black\" if c == 0 else \"lightgrey\" for c in target]\n",
        "plt.scatter(features_standardized[:,0], features_standardized[:,1], c=color)\n",
        "# Create the hyperplane\n",
        "w = svc.coef_[0]\n",
        "a = -w[0] / w[1]\n",
        "xx = np.linspace(-2.5, 2.5)\n",
        "yy = a * xx - (svc.intercept_[0]) / w[1]\n",
        "# Plot the hyperplane\n",
        "plt.plot(xx, yy)\n",
        "plt.axis(\"off\"), plt.show();\n",
        "\"\"\"\n",
        "In this visualization, all observations of class 0 are black and observations of class\n",
        "1 are light gray. The hyperplane is the decision boundary deciding how new observations\n",
        "are classified. Specifically, any observation above the line will by classified as\n",
        "class 0, while any observation below the line will be classified as class 1. We can prove\n",
        "this by creating a new observation in the top-left corner of our visualization, meaning\n",
        "it should be predicted to be class 0:\n",
        "\"\"\""
      ],
      "metadata": {
        "colab": {
          "base_uri": "https://localhost:8080/",
          "height": 406
        },
        "id": "-Btr4KS6aCvP",
        "outputId": "fa61f02d-0072-4ed6-8d65-4a8bf6ea3d43"
      },
      "execution_count": 140,
      "outputs": [
        {
          "output_type": "display_data",
          "data": {
            "text/plain": [
              "<Figure size 640x480 with 1 Axes>"
            ],
            "image/png": "[encoded data removed]"
          },
          "metadata": {}
        }
      ]
    },
    {
      "cell_type": "code",
      "source": [
        "# Create new observation\n",
        "new_observation = [[ -2, 3]]\n",
        "# Predict class of new observation\n",
        "svc.predict(new_observation)\n",
        "\"\"\"\n",
        "we will not be able to perfectly separate classes. In these situations\n",
        "there is a balance between SVC maximizing the margin of the hyperplane and minimizing\n",
        "the misclassification. In SVC, the latter is controlled with the hyperparameter\n",
        "C. C is a parameter of the SVC learner and is the penalty for misclassifying a data\n",
        "point. When C is small, the classifier is okay with misclassified data points (high bias\n",
        "but low variance). When C is large, the classifier is heavily penalized for misclassified\n",
        "data and therefore bends over backward to avoid any misclassified data points (low\n",
        "bias but high variance).\n",
        "\"\"\""
      ],
      "metadata": {
        "colab": {
          "base_uri": "https://localhost:8080/"
        },
        "id": "_5NENKD9aZj7",
        "outputId": "bb5119be-c441-4cdf-cac2-e3c9d380a8db"
      },
      "execution_count": 142,
      "outputs": [
        {
          "output_type": "execute_result",
          "data": {
            "text/plain": [
              "array([0])"
            ]
          },
          "metadata": {},
          "execution_count": 142
        }
      ]
    },
    {
      "cell_type": "markdown",
      "source": [
        "## Handling Linearly Inseparable Classes Using Kernels"
      ],
      "metadata": {
        "id": "4-KxquuMbUl5"
      }
    },
    {
      "cell_type": "code",
      "source": [
        "from sklearn.svm import SVC\n",
        "from sklearn import datasets\n",
        "from sklearn.preprocessing import StandardScaler\n",
        "import numpy as np\n",
        "# Set randomization seed\n",
        "np.random.seed(0)\n",
        "# Generate two features\n",
        "features = np.random.randn(200, 2)\n",
        "# Use an XOR gate (you don't need to know what this is) to generate\n",
        "# linearly inseparable classes\n",
        "target_xor = np.logical_xor(features[:, 0] > 0, features[:, 1] > 0)\n",
        "target = np.where(target_xor, 0, 1)\n",
        "# Create a support vector machine with a radial basis function kernel\n",
        "svc = SVC(kernel=\"rbf\", random_state=0, gamma=1, C=1)\n",
        "# Train the classifier\n",
        "model = svc.fit(features, target)"
      ],
      "metadata": {
        "id": "91jTIIXPbOhH"
      },
      "execution_count": 144,
      "outputs": []
    },
    {
      "cell_type": "code",
      "source": [
        "# Plot observations and decision boundary hyperplane\n",
        "from matplotlib.colors import ListedColormap\n",
        "import matplotlib.pyplot as plt\n",
        "def plot_decision_regions(X, y, classifier):\n",
        "  cmap = ListedColormap((\"red\", \"blue\"))\n",
        "  xx1, xx2 = np.meshgrid(np.arange(-3, 3, 0.02), np.arange(-3, 3, 0.02))\n",
        "  Z = classifier.predict(np.array([xx1.ravel(), xx2.ravel()]).T)\n",
        "  Z = Z.reshape(xx1.shape)\n",
        "  plt.contourf(xx1, xx2, Z, alpha=0.1, cmap=cmap)\n",
        "  for idx, cl in enumerate(np.unique(y)):\n",
        "    plt.scatter(x=X[y == cl, 0], y=X[y == cl, 1],\n",
        "    alpha=0.8, c=cmap(idx),marker=\"+\", label=cl)"
      ],
      "metadata": {
        "id": "SKO-RyTBbq9r"
      },
      "execution_count": 146,
      "outputs": []
    },
    {
      "cell_type": "code",
      "source": [
        "# Create support vector classifier with a linear kernel\n",
        "svc_linear = SVC(kernel=\"linear\", random_state=0, C=1)\n",
        "# Train model\n",
        "svc_linear.fit(features, target)\n",
        "SVC(C=1, kernel='linear', random_state=0)"
      ],
      "metadata": {
        "colab": {
          "base_uri": "https://localhost:8080/",
          "height": 80
        },
        "id": "hurPX9eqb8PJ",
        "outputId": "fa695e01-1a44-48a1-b059-debf2c7437e5"
      },
      "execution_count": 147,
      "outputs": [
        {
          "output_type": "execute_result",
          "data": {
            "text/plain": [
              "SVC(C=1, kernel='linear', random_state=0)"
            ],
            "text/html": [
              "<style>#sk-container-id-1 {\n",
              "  /* Definition of color scheme common for light and dark mode */\n",
              "  --sklearn-color-text: #000;\n",
              "  --sklearn-color-text-muted: #666;\n",
              "  --sklearn-color-line: gray;\n",
              "  /* Definition of color scheme for unfitted estimators */\n",
              "  --sklearn-color-unfitted-level-0: #fff5e6;\n",
              "  --sklearn-color-unfitted-level-1: #f6e4d2;\n",
              "  --sklearn-color-unfitted-level-2: #ffe0b3;\n",
              "  --sklearn-color-unfitted-level-3: chocolate;\n",
              "  /* Definition of color scheme for fitted estimators */\n",
              "  --sklearn-color-fitted-level-0: #f0f8ff;\n",
              "  --sklearn-color-fitted-level-1: #d4ebff;\n",
              "  --sklearn-color-fitted-level-2: #b3dbfd;\n",
              "  --sklearn-color-fitted-level-3: cornflowerblue;\n",
              "\n",
              "  /* Specific color for light theme */\n",
              "  --sklearn-color-text-on-default-background: var(--sg-text-color, var(--theme-code-foreground, var(--jp-content-font-color1, black)));\n",
              "  --sklearn-color-background: var(--sg-background-color, var(--theme-background, var(--jp-layout-color0, white)));\n",
              "  --sklearn-color-border-box: var(--sg-text-color, var(--theme-code-foreground, var(--jp-content-font-color1, black)));\n",
              "  --sklearn-color-icon: #696969;\n",
              "\n",
              "  @media (prefers-color-scheme: dark) {\n",
              "    /* Redefinition of color scheme for dark theme */\n",
              "    --sklearn-color-text-on-default-background: var(--sg-text-color, var(--theme-code-foreground, var(--jp-content-font-color1, white)));\n",
              "    --sklearn-color-background: var(--sg-background-color, var(--theme-background, var(--jp-layout-color0, #111)));\n",
              "    --sklearn-color-border-box: var(--sg-text-color, var(--theme-code-foreground, var(--jp-content-font-color1, white)));\n",
              "    --sklearn-color-icon: #878787;\n",
              "  }\n",
              "}\n",
              "\n",
              "#sk-container-id-1 {\n",
              "  color: var(--sklearn-color-text);\n",
              "}\n",
              "\n",
              "#sk-container-id-1 pre {\n",
              "  padding: 0;\n",
              "}\n",
              "\n",
              "#sk-container-id-1 input.sk-hidden--visually {\n",
              "  border: 0;\n",
              "  clip: rect(1px 1px 1px 1px);\n",
              "  clip: rect(1px, 1px, 1px, 1px);\n",
              "  height: 1px;\n",
              "  margin: -1px;\n",
              "  overflow: hidden;\n",
              "  padding: 0;\n",
              "  position: absolute;\n",
              "  width: 1px;\n",
              "}\n",
              "\n",
              "#sk-container-id-1 div.sk-dashed-wrapped {\n",
              "  border: 1px dashed var(--sklearn-color-line);\n",
              "  margin: 0 0.4em 0.5em 0.4em;\n",
              "  box-sizing: border-box;\n",
              "  padding-bottom: 0.4em;\n",
              "  background-color: var(--sklearn-color-background);\n",
              "}\n",
              "\n",
              "#sk-container-id-1 div.sk-container {\n",
              "  /* jupyter's `normalize.less` sets `[hidden] { display: none; }`\n",
              "     but bootstrap.min.css set `[hidden] { display: none !important; }`\n",
              "     so we also need the `!important` here to be able to override the\n",
              "     default hidden behavior on the sphinx rendered scikit-learn.org.\n",
              "     See: https://github.com/scikit-learn/scikit-learn/issues/21755 */\n",
              "  display: inline-block !important;\n",
              "  position: relative;\n",
              "}\n",
              "\n",
              "#sk-container-id-1 div.sk-text-repr-fallback {\n",
              "  display: none;\n",
              "}\n",
              "\n",
              "div.sk-parallel-item,\n",
              "div.sk-serial,\n",
              "div.sk-item {\n",
              "  /* draw centered vertical line to link estimators */\n",
              "  background-image: linear-gradient(var(--sklearn-color-text-on-default-background), var(--sklearn-color-text-on-default-background));\n",
              "  background-size: 2px 100%;\n",
              "  background-repeat: no-repeat;\n",
              "  background-position: center center;\n",
              "}\n",
              "\n",
              "/* Parallel-specific style estimator block */\n",
              "\n",
              "#sk-container-id-1 div.sk-parallel-item::after {\n",
              "  content: \"\";\n",
              "  width: 100%;\n",
              "  border-bottom: 2px solid var(--sklearn-color-text-on-default-background);\n",
              "  flex-grow: 1;\n",
              "}\n",
              "\n",
              "#sk-container-id-1 div.sk-parallel {\n",
              "  display: flex;\n",
              "  align-items: stretch;\n",
              "  justify-content: center;\n",
              "  background-color: var(--sklearn-color-background);\n",
              "  position: relative;\n",
              "}\n",
              "\n",
              "#sk-container-id-1 div.sk-parallel-item {\n",
              "  display: flex;\n",
              "  flex-direction: column;\n",
              "}\n",
              "\n",
              "#sk-container-id-1 div.sk-parallel-item:first-child::after {\n",
              "  align-self: flex-end;\n",
              "  width: 50%;\n",
              "}\n",
              "\n",
              "#sk-container-id-1 div.sk-parallel-item:last-child::after {\n",
              "  align-self: flex-start;\n",
              "  width: 50%;\n",
              "}\n",
              "\n",
              "#sk-container-id-1 div.sk-parallel-item:only-child::after {\n",
              "  width: 0;\n",
              "}\n",
              "\n",
              "/* Serial-specific style estimator block */\n",
              "\n",
              "#sk-container-id-1 div.sk-serial {\n",
              "  display: flex;\n",
              "  flex-direction: column;\n",
              "  align-items: center;\n",
              "  background-color: var(--sklearn-color-background);\n",
              "  padding-right: 1em;\n",
              "  padding-left: 1em;\n",
              "}\n",
              "\n",
              "\n",
              "/* Toggleable style: style used for estimator/Pipeline/ColumnTransformer box that is\n",
              "clickable and can be expanded/collapsed.\n",
              "- Pipeline and ColumnTransformer use this feature and define the default style\n",
              "- Estimators will overwrite some part of the style using the `sk-estimator` class\n",
              "*/\n",
              "\n",
              "/* Pipeline and ColumnTransformer style (default) */\n",
              "\n",
              "#sk-container-id-1 div.sk-toggleable {\n",
              "  /* Default theme specific background. It is overwritten whether we have a\n",
              "  specific estimator or a Pipeline/ColumnTransformer */\n",
              "  background-color: var(--sklearn-color-background);\n",
              "}\n",
              "\n",
              "/* Toggleable label */\n",
              "#sk-container-id-1 label.sk-toggleable__label {\n",
              "  cursor: pointer;\n",
              "  display: flex;\n",
              "  width: 100%;\n",
              "  margin-bottom: 0;\n",
              "  padding: 0.5em;\n",
              "  box-sizing: border-box;\n",
              "  text-align: center;\n",
              "  align-items: start;\n",
              "  justify-content: space-between;\n",
              "  gap: 0.5em;\n",
              "}\n",
              "\n",
              "#sk-container-id-1 label.sk-toggleable__label .caption {\n",
              "  font-size: 0.6rem;\n",
              "  font-weight: lighter;\n",
              "  color: var(--sklearn-color-text-muted);\n",
              "}\n",
              "\n",
              "#sk-container-id-1 label.sk-toggleable__label-arrow:before {\n",
              "  /* Arrow on the left of the label */\n",
              "  content: \"▸\";\n",
              "  float: left;\n",
              "  margin-right: 0.25em;\n",
              "  color: var(--sklearn-color-icon);\n",
              "}\n",
              "\n",
              "#sk-container-id-1 label.sk-toggleable__label-arrow:hover:before {\n",
              "  color: var(--sklearn-color-text);\n",
              "}\n",
              "\n",
              "/* Toggleable content - dropdown */\n",
              "\n",
              "#sk-container-id-1 div.sk-toggleable__content {\n",
              "  max-height: 0;\n",
              "  max-width: 0;\n",
              "  overflow: hidden;\n",
              "  text-align: left;\n",
              "  /* unfitted */\n",
              "  background-color: var(--sklearn-color-unfitted-level-0);\n",
              "}\n",
              "\n",
              "#sk-container-id-1 div.sk-toggleable__content.fitted {\n",
              "  /* fitted */\n",
              "  background-color: var(--sklearn-color-fitted-level-0);\n",
              "}\n",
              "\n",
              "#sk-container-id-1 div.sk-toggleable__content pre {\n",
              "  margin: 0.2em;\n",
              "  border-radius: 0.25em;\n",
              "  color: var(--sklearn-color-text);\n",
              "  /* unfitted */\n",
              "  background-color: var(--sklearn-color-unfitted-level-0);\n",
              "}\n",
              "\n",
              "#sk-container-id-1 div.sk-toggleable__content.fitted pre {\n",
              "  /* unfitted */\n",
              "  background-color: var(--sklearn-color-fitted-level-0);\n",
              "}\n",
              "\n",
              "#sk-container-id-1 input.sk-toggleable__control:checked~div.sk-toggleable__content {\n",
              "  /* Expand drop-down */\n",
              "  max-height: 200px;\n",
              "  max-width: 100%;\n",
              "  overflow: auto;\n",
              "}\n",
              "\n",
              "#sk-container-id-1 input.sk-toggleable__control:checked~label.sk-toggleable__label-arrow:before {\n",
              "  content: \"▾\";\n",
              "}\n",
              "\n",
              "/* Pipeline/ColumnTransformer-specific style */\n",
              "\n",
              "#sk-container-id-1 div.sk-label input.sk-toggleable__control:checked~label.sk-toggleable__label {\n",
              "  color: var(--sklearn-color-text);\n",
              "  background-color: var(--sklearn-color-unfitted-level-2);\n",
              "}\n",
              "\n",
              "#sk-container-id-1 div.sk-label.fitted input.sk-toggleable__control:checked~label.sk-toggleable__label {\n",
              "  background-color: var(--sklearn-color-fitted-level-2);\n",
              "}\n",
              "\n",
              "/* Estimator-specific style */\n",
              "\n",
              "/* Colorize estimator box */\n",
              "#sk-container-id-1 div.sk-estimator input.sk-toggleable__control:checked~label.sk-toggleable__label {\n",
              "  /* unfitted */\n",
              "  background-color: var(--sklearn-color-unfitted-level-2);\n",
              "}\n",
              "\n",
              "#sk-container-id-1 div.sk-estimator.fitted input.sk-toggleable__control:checked~label.sk-toggleable__label {\n",
              "  /* fitted */\n",
              "  background-color: var(--sklearn-color-fitted-level-2);\n",
              "}\n",
              "\n",
              "#sk-container-id-1 div.sk-label label.sk-toggleable__label,\n",
              "#sk-container-id-1 div.sk-label label {\n",
              "  /* The background is the default theme color */\n",
              "  color: var(--sklearn-color-text-on-default-background);\n",
              "}\n",
              "\n",
              "/* On hover, darken the color of the background */\n",
              "#sk-container-id-1 div.sk-label:hover label.sk-toggleable__label {\n",
              "  color: var(--sklearn-color-text);\n",
              "  background-color: var(--sklearn-color-unfitted-level-2);\n",
              "}\n",
              "\n",
              "/* Label box, darken color on hover, fitted */\n",
              "#sk-container-id-1 div.sk-label.fitted:hover label.sk-toggleable__label.fitted {\n",
              "  color: var(--sklearn-color-text);\n",
              "  background-color: var(--sklearn-color-fitted-level-2);\n",
              "}\n",
              "\n",
              "/* Estimator label */\n",
              "\n",
              "#sk-container-id-1 div.sk-label label {\n",
              "  font-family: monospace;\n",
              "  font-weight: bold;\n",
              "  display: inline-block;\n",
              "  line-height: 1.2em;\n",
              "}\n",
              "\n",
              "#sk-container-id-1 div.sk-label-container {\n",
              "  text-align: center;\n",
              "}\n",
              "\n",
              "/* Estimator-specific */\n",
              "#sk-container-id-1 div.sk-estimator {\n",
              "  font-family: monospace;\n",
              "  border: 1px dotted var(--sklearn-color-border-box);\n",
              "  border-radius: 0.25em;\n",
              "  box-sizing: border-box;\n",
              "  margin-bottom: 0.5em;\n",
              "  /* unfitted */\n",
              "  background-color: var(--sklearn-color-unfitted-level-0);\n",
              "}\n",
              "\n",
              "#sk-container-id-1 div.sk-estimator.fitted {\n",
              "  /* fitted */\n",
              "  background-color: var(--sklearn-color-fitted-level-0);\n",
              "}\n",
              "\n",
              "/* on hover */\n",
              "#sk-container-id-1 div.sk-estimator:hover {\n",
              "  /* unfitted */\n",
              "  background-color: var(--sklearn-color-unfitted-level-2);\n",
              "}\n",
              "\n",
              "#sk-container-id-1 div.sk-estimator.fitted:hover {\n",
              "  /* fitted */\n",
              "  background-color: var(--sklearn-color-fitted-level-2);\n",
              "}\n",
              "\n",
              "/* Specification for estimator info (e.g. \"i\" and \"?\") */\n",
              "\n",
              "/* Common style for \"i\" and \"?\" */\n",
              "\n",
              ".sk-estimator-doc-link,\n",
              "a:link.sk-estimator-doc-link,\n",
              "a:visited.sk-estimator-doc-link {\n",
              "  float: right;\n",
              "  font-size: smaller;\n",
              "  line-height: 1em;\n",
              "  font-family: monospace;\n",
              "  background-color: var(--sklearn-color-background);\n",
              "  border-radius: 1em;\n",
              "  height: 1em;\n",
              "  width: 1em;\n",
              "  text-decoration: none !important;\n",
              "  margin-left: 0.5em;\n",
              "  text-align: center;\n",
              "  /* unfitted */\n",
              "  border: var(--sklearn-color-unfitted-level-1) 1pt solid;\n",
              "  color: var(--sklearn-color-unfitted-level-1);\n",
              "}\n",
              "\n",
              ".sk-estimator-doc-link.fitted,\n",
              "a:link.sk-estimator-doc-link.fitted,\n",
              "a:visited.sk-estimator-doc-link.fitted {\n",
              "  /* fitted */\n",
              "  border: var(--sklearn-color-fitted-level-1) 1pt solid;\n",
              "  color: var(--sklearn-color-fitted-level-1);\n",
              "}\n",
              "\n",
              "/* On hover */\n",
              "div.sk-estimator:hover .sk-estimator-doc-link:hover,\n",
              ".sk-estimator-doc-link:hover,\n",
              "div.sk-label-container:hover .sk-estimator-doc-link:hover,\n",
              ".sk-estimator-doc-link:hover {\n",
              "  /* unfitted */\n",
              "  background-color: var(--sklearn-color-unfitted-level-3);\n",
              "  color: var(--sklearn-color-background);\n",
              "  text-decoration: none;\n",
              "}\n",
              "\n",
              "div.sk-estimator.fitted:hover .sk-estimator-doc-link.fitted:hover,\n",
              ".sk-estimator-doc-link.fitted:hover,\n",
              "div.sk-label-container:hover .sk-estimator-doc-link.fitted:hover,\n",
              ".sk-estimator-doc-link.fitted:hover {\n",
              "  /* fitted */\n",
              "  background-color: var(--sklearn-color-fitted-level-3);\n",
              "  color: var(--sklearn-color-background);\n",
              "  text-decoration: none;\n",
              "}\n",
              "\n",
              "/* Span, style for the box shown on hovering the info icon */\n",
              ".sk-estimator-doc-link span {\n",
              "  display: none;\n",
              "  z-index: 9999;\n",
              "  position: relative;\n",
              "  font-weight: normal;\n",
              "  right: .2ex;\n",
              "  padding: .5ex;\n",
              "  margin: .5ex;\n",
              "  width: min-content;\n",
              "  min-width: 20ex;\n",
              "  max-width: 50ex;\n",
              "  color: var(--sklearn-color-text);\n",
              "  box-shadow: 2pt 2pt 4pt #999;\n",
              "  /* unfitted */\n",
              "  background: var(--sklearn-color-unfitted-level-0);\n",
              "  border: .5pt solid var(--sklearn-color-unfitted-level-3);\n",
              "}\n",
              "\n",
              ".sk-estimator-doc-link.fitted span {\n",
              "  /* fitted */\n",
              "  background: var(--sklearn-color-fitted-level-0);\n",
              "  border: var(--sklearn-color-fitted-level-3);\n",
              "}\n",
              "\n",
              ".sk-estimator-doc-link:hover span {\n",
              "  display: block;\n",
              "}\n",
              "\n",
              "/* \"?\"-specific style due to the `<a>` HTML tag */\n",
              "\n",
              "#sk-container-id-1 a.estimator_doc_link {\n",
              "  float: right;\n",
              "  font-size: 1rem;\n",
              "  line-height: 1em;\n",
              "  font-family: monospace;\n",
              "  background-color: var(--sklearn-color-background);\n",
              "  border-radius: 1rem;\n",
              "  height: 1rem;\n",
              "  width: 1rem;\n",
              "  text-decoration: none;\n",
              "  /* unfitted */\n",
              "  color: var(--sklearn-color-unfitted-level-1);\n",
              "  border: var(--sklearn-color-unfitted-level-1) 1pt solid;\n",
              "}\n",
              "\n",
              "#sk-container-id-1 a.estimator_doc_link.fitted {\n",
              "  /* fitted */\n",
              "  border: var(--sklearn-color-fitted-level-1) 1pt solid;\n",
              "  color: var(--sklearn-color-fitted-level-1);\n",
              "}\n",
              "\n",
              "/* On hover */\n",
              "#sk-container-id-1 a.estimator_doc_link:hover {\n",
              "  /* unfitted */\n",
              "  background-color: var(--sklearn-color-unfitted-level-3);\n",
              "  color: var(--sklearn-color-background);\n",
              "  text-decoration: none;\n",
              "}\n",
              "\n",
              "#sk-container-id-1 a.estimator_doc_link.fitted:hover {\n",
              "  /* fitted */\n",
              "  background-color: var(--sklearn-color-fitted-level-3);\n",
              "}\n",
              "</style><div id=\"sk-container-id-1\" class=\"sk-top-container\"><div class=\"sk-text-repr-fallback\"><pre>SVC(C=1, kernel=&#x27;linear&#x27;, random_state=0)</pre><b>In a Jupyter environment, please rerun this cell to show the HTML representation or trust the notebook. <br />On GitHub, the HTML representation is unable to render, please try loading this page with nbviewer.org.</b></div><div class=\"sk-container\" hidden><div class=\"sk-item\"><div class=\"sk-estimator  sk-toggleable\"><input class=\"sk-toggleable__control sk-hidden--visually\" id=\"sk-estimator-id-1\" type=\"checkbox\" checked><label for=\"sk-estimator-id-1\" class=\"sk-toggleable__label  sk-toggleable__label-arrow\"><div><div>SVC</div></div><div><a class=\"sk-estimator-doc-link \" rel=\"noreferrer\" target=\"_blank\" href=\"https://scikit-learn.org/1.6/modules/generated/sklearn.svm.SVC.html\">?<span>Documentation for SVC</span></a><span class=\"sk-estimator-doc-link \">i<span>Not fitted</span></span></div></label><div class=\"sk-toggleable__content \"><pre>SVC(C=1, kernel=&#x27;linear&#x27;, random_state=0)</pre></div> </div></div></div></div>"
            ]
          },
          "metadata": {},
          "execution_count": 147
        }
      ]
    },
    {
      "cell_type": "code",
      "source": [
        "# Plot observations and hyperplane\n",
        "plot_decision_regions(features, target, classifier=svc_linear)\n",
        "plt.axis(\"off\"), plt.show();"
      ],
      "metadata": {
        "colab": {
          "base_uri": "https://localhost:8080/",
          "height": 461
        },
        "id": "F8eB1LT1b-vF",
        "outputId": "9f74dd86-5845-45b2-84ff-8eb653b6f25d"
      },
      "execution_count": 148,
      "outputs": [
        {
          "output_type": "stream",
          "name": "stderr",
          "text": [
            "<ipython-input-146-03f3525b3d6d>:11: UserWarning: *c* argument looks like a single numeric RGB or RGBA sequence, which should be avoided as value-mapping will have precedence in case its length matches with *x* & *y*.  Please use the *color* keyword-argument or provide a 2D array with a single row if you intend to specify the same RGB or RGBA value for all points.\n",
            "  plt.scatter(x=X[y == cl, 0], y=X[y == cl, 1],\n"
          ]
        },
        {
          "output_type": "display_data",
          "data": {
            "text/plain": [
              "<Figure size 640x480 with 1 Axes>"
            ],
            "image/png": "[encoded data removed]"
          },
          "metadata": {}
        }
      ]
    },
    {
      "cell_type": "code",
      "source": [
        "# Create a support vector machine with a radial basis function kernel\n",
        "svc = SVC(kernel=\"rbf\", random_state=0, gamma=1, C=1)\n",
        "# Train the classifier\n",
        "model = svc.fit(features, target)"
      ],
      "metadata": {
        "id": "n3gf9Ak-cH4g"
      },
      "execution_count": 150,
      "outputs": []
    },
    {
      "cell_type": "code",
      "source": [
        "# Plot observations and hyperplane\n",
        "plot_decision_regions(features, target, classifier=svc)\n",
        "plt.axis(\"off\"), plt.show();"
      ],
      "metadata": {
        "colab": {
          "base_uri": "https://localhost:8080/",
          "height": 461
        },
        "id": "ErumL_qgcMMw",
        "outputId": "e8118fe4-0763-4099-eb00-873d264c70ef"
      },
      "execution_count": 151,
      "outputs": [
        {
          "output_type": "stream",
          "name": "stderr",
          "text": [
            "<ipython-input-146-03f3525b3d6d>:11: UserWarning: *c* argument looks like a single numeric RGB or RGBA sequence, which should be avoided as value-mapping will have precedence in case its length matches with *x* & *y*.  Please use the *color* keyword-argument or provide a 2D array with a single row if you intend to specify the same RGB or RGBA value for all points.\n",
            "  plt.scatter(x=X[y == cl, 0], y=X[y == cl, 1],\n"
          ]
        },
        {
          "output_type": "display_data",
          "data": {
            "text/plain": [
              "<Figure size 640x480 with 1 Axes>"
            ],
            "image/png": "[encoded data removed]"
          },
          "metadata": {}
        }
      ]
    },
    {
      "cell_type": "markdown",
      "source": [
        "## Creating Predicted Probabilities"
      ],
      "metadata": {
        "id": "Cp4HQfXBciy4"
      }
    },
    {
      "cell_type": "code",
      "source": [
        "from sklearn.svm import SVC\n",
        "from sklearn import datasets\n",
        "from sklearn.preprocessing import StandardScaler\n",
        "import numpy as np\n",
        "# Load data\n",
        "iris = datasets.load_iris()\n",
        "features = iris.data\n",
        "target = iris.target\n",
        "# Standardize features\n",
        "scaler = StandardScaler()\n",
        "features_standardized = scaler.fit_transform(features)\n",
        "# Create support vector classifier object\n",
        "svc = SVC(kernel=\"linear\", probability=True, random_state=0)\n",
        "# Train classifier\n",
        "model = svc.fit(features_standardized, target)\n",
        "# Create new observation\n",
        "new_observation = [[.4, .4, .4, .4]]\n",
        "# View predicted probabilities\n",
        "model.predict_proba(new_observation)"
      ],
      "metadata": {
        "colab": {
          "base_uri": "https://localhost:8080/"
        },
        "id": "Nuf1uWRWcmTy",
        "outputId": "751c17d0-69b4-49e6-c944-505a01754812"
      },
      "execution_count": 152,
      "outputs": [
        {
          "output_type": "execute_result",
          "data": {
            "text/plain": [
              "array([[0.00541761, 0.97348825, 0.02109414]])"
            ]
          },
          "metadata": {},
          "execution_count": 152
        }
      ]
    },
    {
      "cell_type": "markdown",
      "source": [
        "## Identifying Support Vectors"
      ],
      "metadata": {
        "id": "TwfiykpYcrWs"
      }
    },
    {
      "cell_type": "code",
      "source": [
        "# Load libraries\n",
        "from sklearn.svm import SVC\n",
        "from sklearn import datasets\n",
        "from sklearn.preprocessing import StandardScaler\n",
        "import numpy as np\n",
        "# Load data with only two classes\n",
        "iris = datasets.load_iris()\n",
        "features = iris.data[:100,:]\n",
        "target = iris.target[:100]\n",
        "# Standardize features\n",
        "scaler = StandardScaler()\n",
        "features_standardized = scaler.fit_transform(features)\n",
        "# Create support vector classifier object\n",
        "svc = SVC(kernel=\"linear\", random_state=0)\n",
        "# Train classifier\n",
        "model = svc.fit(features_standardized, target)\n",
        "# View support vectors\n",
        "model.support_vectors_"
      ],
      "metadata": {
        "colab": {
          "base_uri": "https://localhost:8080/"
        },
        "id": "KRY0Q7c5cumn",
        "outputId": "0317a456-f041-42cd-dbea-341acd56b1b1"
      },
      "execution_count": 153,
      "outputs": [
        {
          "output_type": "execute_result",
          "data": {
            "text/plain": [
              "array([[-0.5810659 ,  0.42196824, -0.80497402, -0.50860702],\n",
              "       [-1.52079513, -1.67737625, -1.08231219, -0.86427627],\n",
              "       [-0.89430898, -1.4674418 ,  0.30437864,  0.38056609],\n",
              "       [-0.5810659 , -1.25750735,  0.09637501,  0.55840072]])"
            ]
          },
          "metadata": {},
          "execution_count": 153
        }
      ]
    },
    {
      "cell_type": "code",
      "source": [
        "\"\"\"\n",
        "Support vector machines get their name from the fact that the hyperplane is being\n",
        "determined by a relatively small number of observations, called the support vectors.\n",
        "Intuitively, think of the hyperplane as being “carried” by these support vectors. These\n",
        "support vectors are therefore very important to our model. For example, if we remove\n",
        "an observation that is not a support vector from the data, the model does not change;\n",
        "however, if we remove a support vector, the hyperplane will not have the maximum\n",
        "margin.\n",
        "\n",
        "After we have trained an SVC, scikit-learn offers a number of options for identifying\n",
        "the support vector. In our solution, we used support_vectors_ to output the actual\n",
        "observations’ features of the four support vectors in our model. Alternatively, we can\n",
        "view the indices of the support vectors using support_:\n",
        "\n",
        "\"\"\"\n",
        "model.support_"
      ],
      "metadata": {
        "colab": {
          "base_uri": "https://localhost:8080/"
        },
        "id": "QiujFZdGc1nN",
        "outputId": "2cf74acc-ccec-43d2-d265-034c1e3f7fdb"
      },
      "execution_count": 155,
      "outputs": [
        {
          "output_type": "execute_result",
          "data": {
            "text/plain": [
              "array([23, 41, 57, 98], dtype=int32)"
            ]
          },
          "metadata": {},
          "execution_count": 155
        }
      ]
    },
    {
      "cell_type": "code",
      "source": [
        "\"\"\"\n",
        "Finally, we can use n_support_ to find the number of support vectors belonging to\n",
        "each class:\n",
        "\"\"\"\n",
        "model.n_support_"
      ],
      "metadata": {
        "colab": {
          "base_uri": "https://localhost:8080/"
        },
        "id": "Zs7ksQbQdEDL",
        "outputId": "4f1fb488-963c-4b56-a58e-4bbd328d0ef4"
      },
      "execution_count": 156,
      "outputs": [
        {
          "output_type": "execute_result",
          "data": {
            "text/plain": [
              "array([2, 2], dtype=int32)"
            ]
          },
          "metadata": {},
          "execution_count": 156
        }
      ]
    },
    {
      "cell_type": "markdown",
      "source": [
        "## Handling Imbalanced Classes"
      ],
      "metadata": {
        "id": "AGStx6qGdJHe"
      }
    },
    {
      "cell_type": "code",
      "source": [
        "# Load libraries\n",
        "from sklearn.svm import SVC\n",
        "from sklearn import datasets\n",
        "from sklearn.preprocessing import StandardScaler\n",
        "import numpy as np\n",
        "# Load data with only two classes\n",
        "iris = datasets.load_iris()\n",
        "features = iris.data[:100,:]\n",
        "target = iris.target[:100]\n",
        "# Make class highly imbalanced by removing first 40 observations\n",
        "features = features[40:,:]\n",
        "target = target[40:]\n",
        "# Create target vector indicating if class 0, otherwise 1\n",
        "target = np.where((target == 0), 0, 1)\n",
        "# Standardize features\n",
        "scaler = StandardScaler()\n",
        "features_standardized = scaler.fit_transform(features)\n",
        "# Create support vector classifier\n",
        "svc = SVC(kernel=\"linear\", class_weight=\"balanced\", C=1.0, random_state=0)\n",
        "# Train classifier\n",
        "model = svc.fit(features_standardized, target)"
      ],
      "metadata": {
        "id": "FjfJvK7HdLJ3"
      },
      "execution_count": 157,
      "outputs": []
    }
  ]
}